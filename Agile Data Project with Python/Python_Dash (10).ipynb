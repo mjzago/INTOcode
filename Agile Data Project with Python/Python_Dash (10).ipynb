{
  "nbformat": 4,
  "nbformat_minor": 0,
  "metadata": {
    "colab": {
      "provenance": []
    },
    "kernelspec": {
      "name": "python3",
      "display_name": "Python 3"
    },
    "language_info": {
      "name": "python"
    }
  },
  "cells": [
    {
      "cell_type": "code",
      "source": [
        "! pip install dash\n",
        "! pip install dash-html-components\n",
        "! pip install dash-core-components\n",
        "! pip install plotly"
      ],
      "metadata": {
        "id": "rj_yqvHi9nHD"
      },
      "execution_count": null,
      "outputs": []
    },
    {
      "cell_type": "code",
      "source": [
        "import dash\n",
        "import dash_html_components as html\n",
        "import dash_core_components as dcc\n",
        "import plotly.graph_objects as go\n",
        "import plotly.express as px"
      ],
      "metadata": {
        "id": "t3glVpec9vuT"
      },
      "execution_count": 18,
      "outputs": []
    },
    {
      "cell_type": "code",
      "source": [
        "app = dash.Dash()   #initialising dash app\n",
        "df = px.data.stocks() #reading stock price dataset\n",
        "\n",
        "def stock_prices():\n",
        "    # Function for creating line chart showing Google stock prices over time\n",
        "    fig = go.Figure([go.Scatter(x = df['date'], y = df['GOOG'],\\\n",
        "                     line = dict(color = 'firebrick', width = 4), name = 'Google')\n",
        "                     ])\n",
        "    fig.update_layout(title = 'Prices over time',\n",
        "                      xaxis_title = 'Dates',\n",
        "                      yaxis_title = 'Prices'\n",
        "                      )\n",
        "    return fig\n",
        "\n",
        "\n",
        "app.layout = html.Div(id = 'parent', children = [\n",
        "    html.H1(id = 'H1', children = 'Styling using html components', style = {'textAlign':'center',\\\n",
        "                                            'marginTop':40,'marginBottom':40}),\n",
        "\n",
        "\n",
        "        dcc.Graph(id = 'line_plot', figure = stock_prices())\n",
        "    ]\n",
        "                     )"
      ],
      "metadata": {
        "id": "GQkYT5x395uP"
      },
      "execution_count": 19,
      "outputs": []
    },
    {
      "cell_type": "code",
      "source": [
        "if __name__ == '__main__':\n",
        "    app.run_server()"
      ],
      "metadata": {
        "id": "D-ifU6kS9-PN",
        "colab": {
          "base_uri": "https://localhost:8080/",
          "height": 671
        },
        "outputId": "311ff081-7dee-48fe-96d6-5abc838c9ade"
      },
      "execution_count": 20,
      "outputs": [
        {
          "output_type": "display_data",
          "data": {
            "text/plain": [
              "<IPython.core.display.Javascript object>"
            ],
            "application/javascript": [
              "(async (port, path, width, height, cache, element) => {\n",
              "    if (!google.colab.kernel.accessAllowed && !cache) {\n",
              "      return;\n",
              "    }\n",
              "    element.appendChild(document.createTextNode(''));\n",
              "    const url = await google.colab.kernel.proxyPort(port, {cache});\n",
              "    const iframe = document.createElement('iframe');\n",
              "    iframe.src = new URL(path, url).toString();\n",
              "    iframe.height = height;\n",
              "    iframe.width = width;\n",
              "    iframe.style.border = 0;\n",
              "    iframe.allow = [\n",
              "        'accelerometer',\n",
              "        'autoplay',\n",
              "        'camera',\n",
              "        'clipboard-read',\n",
              "        'clipboard-write',\n",
              "        'gyroscope',\n",
              "        'magnetometer',\n",
              "        'microphone',\n",
              "        'serial',\n",
              "        'usb',\n",
              "        'xr-spatial-tracking',\n",
              "    ].join('; ');\n",
              "    element.appendChild(iframe);\n",
              "  })(8050, \"/\", \"100%\", 650, false, window.element)"
            ]
          },
          "metadata": {}
        }
      ]
    },
    {
      "cell_type": "code",
      "source": [
        "dcc.Dropdown( id = 'dropdown',\n",
        "options = [\n",
        "    {'label':'Google', 'value':'GOOG' },\n",
        "    {'label': 'Apple', 'value':'AAPL'},\n",
        "    {'label': 'Amazon', 'value':'AMZN'},\n",
        "    ],\n",
        "value = 'GOOGL'\n",
        ")"
      ],
      "metadata": {
        "colab": {
          "base_uri": "https://localhost:8080/"
        },
        "id": "cPxZoLzg-UyG",
        "outputId": "a4752106-2cfe-4df1-c0e1-3c172fa7feb1"
      },
      "execution_count": 21,
      "outputs": [
        {
          "output_type": "execute_result",
          "data": {
            "text/plain": [
              "Dropdown(options=[{'label': 'Google', 'value': 'GOOG'}, {'label': 'Apple', 'value': 'AAPL'}, {'label': 'Amazon', 'value': 'AMZN'}], value='GOOGL', id='dropdown')"
            ]
          },
          "metadata": {},
          "execution_count": 21
        }
      ]
    },
    {
      "cell_type": "code",
      "source": [
        "from dash.dependencies import Input, Output\n",
        "\n",
        "@app.callback(Output(component_id='line_plot', component_property= 'figure'),\n",
        "              [Input(component_id='dropdown', component_property= 'value')])\n",
        "def graph_update(dropdown_value):\n",
        "    print(dropdown_value)\n",
        "    fig = go.Figure([go.Scatter(x = df['date'], y = df['{}'.format(dropdown_value)],\\\n",
        "                     line = dict(color = 'firebrick', width = 4))\n",
        "                     ])\n",
        "\n",
        "    fig.update_layout(title = 'Stock prices over time',\n",
        "                      xaxis_title = 'Dates',\n",
        "                      yaxis_title = 'Prices'\n",
        "                      )\n",
        "    return fig"
      ],
      "metadata": {
        "id": "JvnnyWQF-lrA"
      },
      "execution_count": 22,
      "outputs": []
    },
    {
      "cell_type": "code",
      "source": [
        "import dash\n",
        "import dash_html_components as html\n",
        "import plotly.graph_objects as go\n",
        "import dash_core_components as dcc\n",
        "import plotly.express as px\n",
        "from dash.dependencies import Input, Output\n",
        "\n",
        "\n",
        "app = dash.Dash()\n",
        "\n",
        "df = px.data.stocks()\n",
        "\n",
        "\n",
        "app.layout = html.Div(id = 'parent', children = [\n",
        "    html.H1(id = 'H1', children = 'Styling using html components', style = {'textAlign':'center',\\\n",
        "                                            'marginTop':40,'marginBottom':40}),\n",
        "\n",
        "        dcc.Dropdown( id = 'dropdown',\n",
        "        options = [\n",
        "            {'label':'Google', 'value':'GOOG' },\n",
        "            {'label': 'Apple', 'value':'AAPL'},\n",
        "            {'label': 'Amazon', 'value':'AMZN'},\n",
        "            ],\n",
        "        value = 'GOOG'),\n",
        "        dcc.Graph(id = 'bar_plot')\n",
        "    ])\n",
        "\n",
        "\n",
        "@app.callback(Output(component_id='bar_plot', component_property= 'figure'),\n",
        "              [Input(component_id='dropdown', component_property= 'value')])\n",
        "def graph_update(dropdown_value):\n",
        "    print(dropdown_value)\n",
        "    fig = go.Figure([go.Scatter(x = df['date'], y = df['{}'.format(dropdown_value)],\\\n",
        "                     line = dict(color = 'firebrick', width = 4))\n",
        "                     ])\n",
        "\n",
        "    fig.update_layout(title = 'Stock prices over time',\n",
        "                      xaxis_title = 'Dates',\n",
        "                      yaxis_title = 'Prices'\n",
        "                      )\n",
        "    return fig\n",
        "\n",
        "\n",
        "\n",
        "if __name__ == '__main__':\n",
        "    app.run_server()"
      ],
      "metadata": {
        "colab": {
          "base_uri": "https://localhost:8080/",
          "height": 671
        },
        "id": "1ZEWP3u4-sCB",
        "outputId": "dd948365-ad05-4efa-f388-3709b8ebe6c8"
      },
      "execution_count": 23,
      "outputs": [
        {
          "output_type": "display_data",
          "data": {
            "text/plain": [
              "<IPython.core.display.Javascript object>"
            ],
            "application/javascript": [
              "(async (port, path, width, height, cache, element) => {\n",
              "    if (!google.colab.kernel.accessAllowed && !cache) {\n",
              "      return;\n",
              "    }\n",
              "    element.appendChild(document.createTextNode(''));\n",
              "    const url = await google.colab.kernel.proxyPort(port, {cache});\n",
              "    const iframe = document.createElement('iframe');\n",
              "    iframe.src = new URL(path, url).toString();\n",
              "    iframe.height = height;\n",
              "    iframe.width = width;\n",
              "    iframe.style.border = 0;\n",
              "    iframe.allow = [\n",
              "        'accelerometer',\n",
              "        'autoplay',\n",
              "        'camera',\n",
              "        'clipboard-read',\n",
              "        'clipboard-write',\n",
              "        'gyroscope',\n",
              "        'magnetometer',\n",
              "        'microphone',\n",
              "        'serial',\n",
              "        'usb',\n",
              "        'xr-spatial-tracking',\n",
              "    ].join('; ');\n",
              "    element.appendChild(iframe);\n",
              "  })(8050, \"/\", \"100%\", 650, false, window.element)"
            ]
          },
          "metadata": {}
        }
      ]
    },
    {
      "cell_type": "markdown",
      "source": [
        " Styling HTML and CSS"
      ],
      "metadata": {
        "id": "fDfNxkZS_Ql1"
      }
    },
    {
      "cell_type": "code",
      "source": [
        "# Import packages\n",
        "from dash import Dash, html, dash_table, dcc, callback, Output, Input\n",
        "import pandas as pd\n",
        "import plotly.express as px\n",
        "\n",
        "# Incorporate data\n",
        "df = pd.read_csv('https://raw.githubusercontent.com/plotly/datasets/master/gapminder2007.csv')\n",
        "\n",
        "# Initialize the app - incorporate css\n",
        "external_stylesheets = ['https://codepen.io/chriddyp/pen/bWLwgP.css']\n",
        "app = Dash(__name__, external_stylesheets=external_stylesheets)\n",
        "\n",
        "# App layout\n",
        "app.layout = html.Div([\n",
        "    html.Div(className='row', children='My First App with Data, Graph, and Controls',\n",
        "             style={'textAlign': 'center', 'color': 'blue', 'fontSize': 30}),\n",
        "\n",
        "    html.Div(className='row', children=[\n",
        "        dcc.RadioItems(options=['pop', 'lifeExp', 'gdpPercap'],\n",
        "                       value='lifeExp',\n",
        "                       inline=True,\n",
        "                       id='my-radio-buttons-final')\n",
        "    ]),\n",
        "\n",
        "    html.Div(className='row', children=[\n",
        "        html.Div(className='six columns', children=[\n",
        "            dash_table.DataTable(data=df.to_dict('records'), page_size=11, style_table={'overflowX': 'auto'})\n",
        "        ]),\n",
        "        html.Div(className='six columns', children=[\n",
        "            dcc.Graph(figure={}, id='histo-chart-final')\n",
        "        ])\n",
        "    ])\n",
        "])\n",
        "\n",
        "# Add controls to build the interaction\n",
        "@callback(\n",
        "    Output(component_id='histo-chart-final', component_property='figure'),\n",
        "    Input(component_id='my-radio-buttons-final', component_property='value')\n",
        ")\n",
        "def update_graph(col_chosen):\n",
        "    fig = px.histogram(df, x='continent', y=col_chosen, histfunc='avg')\n",
        "    return fig\n",
        "\n",
        "# Run the app\n",
        "if __name__ == '__main__':\n",
        "    app.run(debug=True)\n"
      ],
      "metadata": {
        "colab": {
          "base_uri": "https://localhost:8080/",
          "height": 671
        },
        "id": "x-krDCBX_B4v",
        "outputId": "98bfbd26-db9d-4f16-d40a-e89ed991a4ee"
      },
      "execution_count": 24,
      "outputs": [
        {
          "output_type": "display_data",
          "data": {
            "text/plain": [
              "<IPython.core.display.Javascript object>"
            ],
            "application/javascript": [
              "(async (port, path, width, height, cache, element) => {\n",
              "    if (!google.colab.kernel.accessAllowed && !cache) {\n",
              "      return;\n",
              "    }\n",
              "    element.appendChild(document.createTextNode(''));\n",
              "    const url = await google.colab.kernel.proxyPort(port, {cache});\n",
              "    const iframe = document.createElement('iframe');\n",
              "    iframe.src = new URL(path, url).toString();\n",
              "    iframe.height = height;\n",
              "    iframe.width = width;\n",
              "    iframe.style.border = 0;\n",
              "    iframe.allow = [\n",
              "        'accelerometer',\n",
              "        'autoplay',\n",
              "        'camera',\n",
              "        'clipboard-read',\n",
              "        'clipboard-write',\n",
              "        'gyroscope',\n",
              "        'magnetometer',\n",
              "        'microphone',\n",
              "        'serial',\n",
              "        'usb',\n",
              "        'xr-spatial-tracking',\n",
              "    ].join('; ');\n",
              "    element.appendChild(iframe);\n",
              "  })(8050, \"/\", \"100%\", 650, false, window.element)"
            ]
          },
          "metadata": {}
        }
      ]
    },
    {
      "cell_type": "markdown",
      "source": [
        "Ein weiteres Beispiel"
      ],
      "metadata": {
        "id": "o2w3Hg3z_hCP"
      }
    },
    {
      "cell_type": "code",
      "source": [
        "import dash\n",
        "from dash import dcc, html, dash_table\n",
        "from dash.dependencies import Input, Output\n",
        "import plotly.express as px\n",
        "import pandas as pd\n",
        "\n",
        "# Beispiel-Daten laden (du kannst deine eigenen Daten verwenden)\n",
        "df = px.data.iris()\n",
        "\n",
        "# Initialisiere die Dash-Anwendung\n",
        "app = dash.Dash(__name__)\n",
        "\n",
        "# Layout der Anwendung\n",
        "app.layout = html.Div(children=[\n",
        "    html.H1(\"Interaktive Dash-Anwendung\"),\n",
        "\n",
        "    # DataTable zur Anzeige der Daten\n",
        "    dash_table.DataTable(\n",
        "        id='datatable',\n",
        "        columns=[\n",
        "            {\"name\": col, \"id\": col} for col in df.columns\n",
        "        ],\n",
        "        data=df.to_dict('records'),\n",
        "        page_size=10  # Anzahl der Zeilen pro Seite\n",
        "    ),\n",
        "\n",
        "    # Dropdown-Menü für die Auswahl der Blumenart\n",
        "    dcc.Dropdown(\n",
        "        id='dropdown-species',\n",
        "        options=[\n",
        "            {'label': species, 'value': species}\n",
        "            for species in df['species'].unique()\n",
        "        ],\n",
        "        value='setosa',  # Standardwert\n",
        "        multi=False  # Nur eine Auswahl erlauben\n",
        "    ),\n",
        "\n",
        "    # Balkendiagramm für die Verteilung der Sepal-Länge\n",
        "    dcc.Graph(id='bar-chart'),\n",
        "\n",
        "    # Scatterplot für Sepal-Länge vs. Sepal-Breite\n",
        "    dcc.Graph(id='scatter-plot'),\n",
        "\n",
        "    # Histogramm für die Verteilung der Petal-Länge\n",
        "    dcc.Graph(id='histogram')\n",
        "])\n",
        "\n",
        "# Callback-Funktionen für die Interaktivität\n",
        "@app.callback(\n",
        "    Output('datatable', 'data'),\n",
        "    Output('bar-chart', 'figure'),\n",
        "    Output('scatter-plot', 'figure'),\n",
        "    Output('histogram', 'figure'),\n",
        "    Input('dropdown-species', 'value')\n",
        ")\n",
        "def update_charts(selected_species):\n",
        "    # Filtere Daten basierend auf der ausgewählten Blumenart\n",
        "    filtered_df = df[df['species'] == selected_species]\n",
        "\n",
        "    # Aktualisiere DataTable\n",
        "    table_data = filtered_df.to_dict('records')\n",
        "\n",
        "    # Balkendiagramm für die Verteilung der Sepal-Länge\n",
        "    bar_chart = px.bar(\n",
        "        filtered_df, x='sepal_length', title=f'Sepal-Länge Verteilung ({selected_species})'\n",
        "    )\n",
        "\n",
        "    # Scatterplot für Sepal-Länge vs. Sepal-Breite\n",
        "    scatter_plot = px.scatter(\n",
        "        filtered_df, x='sepal_length', y='sepal_width', title=f'Sepal-Länge vs. Sepal-Breite ({selected_species})'\n",
        "    )\n",
        "\n",
        "    # Histogramm für die Verteilung der Petal-Länge\n",
        "    histogram = px.histogram(\n",
        "        filtered_df, x='petal_length', title=f'Petal-Länge Verteilung ({selected_species})'\n",
        "    )\n",
        "\n",
        "    return table_data, bar_chart, scatter_plot, histogram\n",
        "\n",
        "# Starte die Dash-Anwendung\n",
        "if __name__ == '__main__':\n",
        "    app.run_server(debug=True)"
      ],
      "metadata": {
        "colab": {
          "base_uri": "https://localhost:8080/",
          "height": 671
        },
        "id": "sMPKkr5o_li0",
        "outputId": "62e5c26f-569c-4354-f22a-be289af087c9"
      },
      "execution_count": 25,
      "outputs": [
        {
          "output_type": "display_data",
          "data": {
            "text/plain": [
              "<IPython.core.display.Javascript object>"
            ],
            "application/javascript": [
              "(async (port, path, width, height, cache, element) => {\n",
              "    if (!google.colab.kernel.accessAllowed && !cache) {\n",
              "      return;\n",
              "    }\n",
              "    element.appendChild(document.createTextNode(''));\n",
              "    const url = await google.colab.kernel.proxyPort(port, {cache});\n",
              "    const iframe = document.createElement('iframe');\n",
              "    iframe.src = new URL(path, url).toString();\n",
              "    iframe.height = height;\n",
              "    iframe.width = width;\n",
              "    iframe.style.border = 0;\n",
              "    iframe.allow = [\n",
              "        'accelerometer',\n",
              "        'autoplay',\n",
              "        'camera',\n",
              "        'clipboard-read',\n",
              "        'clipboard-write',\n",
              "        'gyroscope',\n",
              "        'magnetometer',\n",
              "        'microphone',\n",
              "        'serial',\n",
              "        'usb',\n",
              "        'xr-spatial-tracking',\n",
              "    ].join('; ');\n",
              "    element.appendChild(iframe);\n",
              "  })(8050, \"/\", \"100%\", 650, false, window.element)"
            ]
          },
          "metadata": {}
        }
      ]
    }
  ]
}