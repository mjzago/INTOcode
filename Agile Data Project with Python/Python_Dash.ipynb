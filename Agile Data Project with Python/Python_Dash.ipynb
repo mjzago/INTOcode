{
  "cells": [
    {
      "cell_type": "code",
      "execution_count": 22,
      "metadata": {
        "id": "rj_yqvHi9nHD"
      },
      "outputs": [],
      "source": [
        "# ! pip install dash\n",
        "# ! pip install dash-html-components\n",
        "# ! pip install dash-core-components\n",
        "# ! pip install plotly"
      ]
    },
    {
      "cell_type": "code",
      "execution_count": 14,
      "metadata": {
        "id": "t3glVpec9vuT"
      },
      "outputs": [],
      "source": [
        "import dash\n",
        "import dash_html_components as html\n",
        "import dash_core_components as dcc\n",
        "import plotly.graph_objects as go\n",
        "import plotly.express as px\n",
        "import pandas as pd\n",
        "import numpy as np"
      ]
    },
    {
      "cell_type": "code",
      "execution_count": 8,
      "metadata": {
        "id": "GQkYT5x395uP"
      },
      "outputs": [],
      "source": [
        "app = dash.Dash()   #initialising dash app\n",
        "df = px.data.stocks() #reading stock price dataset\n",
        "\n",
        "def stock_prices():\n",
        "    # Function for creating line chart showing Google stock prices over time\n",
        "    fig = go.Figure([go.Scatter(x = df['date'], y = df['GOOG'],\\\n",
        "                     line = dict(color = 'firebrick', width = 4), name = 'Google')\n",
        "                     ])\n",
        "    fig.update_layout(title = 'Prices over time',\n",
        "                      xaxis_title = 'Dates',\n",
        "                      yaxis_title = 'Prices'\n",
        "                      )\n",
        "    return fig\n",
        "\n",
        "\n",
        "app.layout = html.Div(id = 'parent', children = [\n",
        "    html.H1(id = 'H1', children = 'Styling using html components', style = {'textAlign':'center',\\\n",
        "                                            'marginTop':40,'marginBottom':40}),\n",
        "\n",
        "\n",
        "        dcc.Graph(id = 'line_plot', figure = stock_prices())\n",
        "    ]\n",
        "                     )"
      ]
    },
    {
      "cell_type": "code",
      "execution_count": 15,
      "metadata": {},
      "outputs": [
        {
          "data": {
            "text/html": [
              "<div>\n",
              "<style scoped>\n",
              "    .dataframe tbody tr th:only-of-type {\n",
              "        vertical-align: middle;\n",
              "    }\n",
              "\n",
              "    .dataframe tbody tr th {\n",
              "        vertical-align: top;\n",
              "    }\n",
              "\n",
              "    .dataframe thead th {\n",
              "        text-align: right;\n",
              "    }\n",
              "</style>\n",
              "<table border=\"1\" class=\"dataframe\">\n",
              "  <thead>\n",
              "    <tr style=\"text-align: right;\">\n",
              "      <th></th>\n",
              "      <th>date</th>\n",
              "      <th>GOOG</th>\n",
              "      <th>AAPL</th>\n",
              "      <th>AMZN</th>\n",
              "      <th>FB</th>\n",
              "      <th>NFLX</th>\n",
              "      <th>MSFT</th>\n",
              "      <th>TSLA</th>\n",
              "    </tr>\n",
              "  </thead>\n",
              "  <tbody>\n",
              "    <tr>\n",
              "      <th>0</th>\n",
              "      <td>2018-01-01</td>\n",
              "      <td>1.000000</td>\n",
              "      <td>1.000000</td>\n",
              "      <td>1.000000</td>\n",
              "      <td>1.000000</td>\n",
              "      <td>1.000000</td>\n",
              "      <td>1.000000</td>\n",
              "      <td>0.982006</td>\n",
              "    </tr>\n",
              "    <tr>\n",
              "      <th>1</th>\n",
              "      <td>2018-01-08</td>\n",
              "      <td>1.018172</td>\n",
              "      <td>1.011943</td>\n",
              "      <td>1.061881</td>\n",
              "      <td>0.959968</td>\n",
              "      <td>1.053526</td>\n",
              "      <td>1.015988</td>\n",
              "      <td>0.773220</td>\n",
              "    </tr>\n",
              "    <tr>\n",
              "      <th>2</th>\n",
              "      <td>2018-01-15</td>\n",
              "      <td>1.032008</td>\n",
              "      <td>1.019771</td>\n",
              "      <td>1.053240</td>\n",
              "      <td>0.970243</td>\n",
              "      <td>1.049860</td>\n",
              "      <td>1.020524</td>\n",
              "      <td>0.485553</td>\n",
              "    </tr>\n",
              "    <tr>\n",
              "      <th>3</th>\n",
              "      <td>2018-01-22</td>\n",
              "      <td>1.066783</td>\n",
              "      <td>0.980057</td>\n",
              "      <td>1.140676</td>\n",
              "      <td>1.016858</td>\n",
              "      <td>1.307681</td>\n",
              "      <td>1.066561</td>\n",
              "      <td>0.966411</td>\n",
              "    </tr>\n",
              "    <tr>\n",
              "      <th>4</th>\n",
              "      <td>2018-01-29</td>\n",
              "      <td>1.008773</td>\n",
              "      <td>0.917143</td>\n",
              "      <td>1.163374</td>\n",
              "      <td>1.018357</td>\n",
              "      <td>1.273537</td>\n",
              "      <td>1.040708</td>\n",
              "      <td>0.649863</td>\n",
              "    </tr>\n",
              "    <tr>\n",
              "      <th>5</th>\n",
              "      <td>2018-02-05</td>\n",
              "      <td>0.941528</td>\n",
              "      <td>0.893771</td>\n",
              "      <td>1.089868</td>\n",
              "      <td>0.942521</td>\n",
              "      <td>1.188009</td>\n",
              "      <td>0.999887</td>\n",
              "      <td>0.062326</td>\n",
              "    </tr>\n",
              "    <tr>\n",
              "      <th>6</th>\n",
              "      <td>2018-02-12</td>\n",
              "      <td>0.993259</td>\n",
              "      <td>0.985314</td>\n",
              "      <td>1.178621</td>\n",
              "      <td>0.949211</td>\n",
              "      <td>1.326349</td>\n",
              "      <td>1.043202</td>\n",
              "      <td>0.599112</td>\n",
              "    </tr>\n",
              "    <tr>\n",
              "      <th>7</th>\n",
              "      <td>2018-02-19</td>\n",
              "      <td>1.022282</td>\n",
              "      <td>1.002857</td>\n",
              "      <td>1.220365</td>\n",
              "      <td>0.980947</td>\n",
              "      <td>1.361636</td>\n",
              "      <td>1.066561</td>\n",
              "      <td>0.891852</td>\n",
              "    </tr>\n",
              "    <tr>\n",
              "      <th>8</th>\n",
              "      <td>2018-02-26</td>\n",
              "      <td>0.978852</td>\n",
              "      <td>1.006914</td>\n",
              "      <td>1.220569</td>\n",
              "      <td>0.945250</td>\n",
              "      <td>1.433640</td>\n",
              "      <td>1.055108</td>\n",
              "      <td>0.217010</td>\n",
              "    </tr>\n",
              "    <tr>\n",
              "      <th>9</th>\n",
              "      <td>2018-03-05</td>\n",
              "      <td>1.052448</td>\n",
              "      <td>1.028457</td>\n",
              "      <td>1.284549</td>\n",
              "      <td>0.991330</td>\n",
              "      <td>1.578361</td>\n",
              "      <td>1.094682</td>\n",
              "      <td>0.364249</td>\n",
              "    </tr>\n",
              "  </tbody>\n",
              "</table>\n",
              "</div>"
            ],
            "text/plain": [
              "         date      GOOG      AAPL      AMZN        FB      NFLX      MSFT  \\\n",
              "0  2018-01-01  1.000000  1.000000  1.000000  1.000000  1.000000  1.000000   \n",
              "1  2018-01-08  1.018172  1.011943  1.061881  0.959968  1.053526  1.015988   \n",
              "2  2018-01-15  1.032008  1.019771  1.053240  0.970243  1.049860  1.020524   \n",
              "3  2018-01-22  1.066783  0.980057  1.140676  1.016858  1.307681  1.066561   \n",
              "4  2018-01-29  1.008773  0.917143  1.163374  1.018357  1.273537  1.040708   \n",
              "5  2018-02-05  0.941528  0.893771  1.089868  0.942521  1.188009  0.999887   \n",
              "6  2018-02-12  0.993259  0.985314  1.178621  0.949211  1.326349  1.043202   \n",
              "7  2018-02-19  1.022282  1.002857  1.220365  0.980947  1.361636  1.066561   \n",
              "8  2018-02-26  0.978852  1.006914  1.220569  0.945250  1.433640  1.055108   \n",
              "9  2018-03-05  1.052448  1.028457  1.284549  0.991330  1.578361  1.094682   \n",
              "\n",
              "       TSLA  \n",
              "0  0.982006  \n",
              "1  0.773220  \n",
              "2  0.485553  \n",
              "3  0.966411  \n",
              "4  0.649863  \n",
              "5  0.062326  \n",
              "6  0.599112  \n",
              "7  0.891852  \n",
              "8  0.217010  \n",
              "9  0.364249  "
            ]
          },
          "execution_count": 15,
          "metadata": {},
          "output_type": "execute_result"
        }
      ],
      "source": [
        "df_Tesla = pd.DataFrame(df)\n",
        "\n",
        "# Create a new column 'TSLA' with random numbers\n",
        "df_Tesla['TSLA'] = np.random.rand(len(df_Tesla))\n",
        "\n",
        "df_Tesla.head(10)"
      ]
    },
    {
      "cell_type": "code",
      "execution_count": 16,
      "metadata": {
        "colab": {
          "base_uri": "https://localhost:8080/",
          "height": 671
        },
        "id": "D-ifU6kS9-PN",
        "outputId": "311ff081-7dee-48fe-96d6-5abc838c9ade"
      },
      "outputs": [
        {
          "ename": "OSError",
          "evalue": "Address 'http://127.0.0.1:8050' already in use.\n    Try passing a different port to run_server.",
          "output_type": "error",
          "traceback": [
            "\u001b[1;31m---------------------------------------------------------------------------\u001b[0m",
            "\u001b[1;31mOSError\u001b[0m                                   Traceback (most recent call last)",
            "Cell \u001b[1;32mIn[16], line 2\u001b[0m\n\u001b[0;32m      1\u001b[0m \u001b[39mif\u001b[39;00m \u001b[39m__name__\u001b[39m \u001b[39m==\u001b[39m \u001b[39m'\u001b[39m\u001b[39m__main__\u001b[39m\u001b[39m'\u001b[39m:\n\u001b[1;32m----> 2\u001b[0m     app\u001b[39m.\u001b[39;49mrun_server()\n",
            "File \u001b[1;32mc:\\Users\\mjzag\\AppData\\Local\\Programs\\Python\\Python311\\Lib\\site-packages\\dash\\dash.py:2175\u001b[0m, in \u001b[0;36mDash.run_server\u001b[1;34m(self, *args, **kwargs)\u001b[0m\n\u001b[0;32m   2169\u001b[0m \u001b[39mdef\u001b[39;00m \u001b[39mrun_server\u001b[39m(\u001b[39mself\u001b[39m, \u001b[39m*\u001b[39margs, \u001b[39m*\u001b[39m\u001b[39m*\u001b[39mkwargs):\n\u001b[0;32m   2170\u001b[0m \u001b[39m    \u001b[39m\u001b[39m\"\"\"`run_server` is a deprecated alias of `run` and may be removed in a\u001b[39;00m\n\u001b[0;32m   2171\u001b[0m \u001b[39m    future version. We recommend using `app.run` instead.\u001b[39;00m\n\u001b[0;32m   2172\u001b[0m \n\u001b[0;32m   2173\u001b[0m \u001b[39m    See `app.run` for usage information.\u001b[39;00m\n\u001b[0;32m   2174\u001b[0m \u001b[39m    \"\"\"\u001b[39;00m\n\u001b[1;32m-> 2175\u001b[0m     \u001b[39mself\u001b[39;49m\u001b[39m.\u001b[39;49mrun(\u001b[39m*\u001b[39;49margs, \u001b[39m*\u001b[39;49m\u001b[39m*\u001b[39;49mkwargs)\n",
            "File \u001b[1;32mc:\\Users\\mjzag\\AppData\\Local\\Programs\\Python\\Python311\\Lib\\site-packages\\dash\\dash.py:2066\u001b[0m, in \u001b[0;36mDash.run\u001b[1;34m(self, host, port, proxy, debug, jupyter_mode, jupyter_width, jupyter_height, jupyter_server_url, dev_tools_ui, dev_tools_props_check, dev_tools_serve_dev_bundles, dev_tools_hot_reload, dev_tools_hot_reload_interval, dev_tools_hot_reload_watch_interval, dev_tools_hot_reload_max_retry, dev_tools_silence_routes_logging, dev_tools_prune_errors, **flask_run_options)\u001b[0m\n\u001b[0;32m   2063\u001b[0m             extra_files\u001b[39m.\u001b[39mappend(path)\n\u001b[0;32m   2065\u001b[0m \u001b[39mif\u001b[39;00m jupyter_dash\u001b[39m.\u001b[39mactive:\n\u001b[1;32m-> 2066\u001b[0m     jupyter_dash\u001b[39m.\u001b[39;49mrun_app(\n\u001b[0;32m   2067\u001b[0m         \u001b[39mself\u001b[39;49m,\n\u001b[0;32m   2068\u001b[0m         mode\u001b[39m=\u001b[39;49mjupyter_mode,\n\u001b[0;32m   2069\u001b[0m         width\u001b[39m=\u001b[39;49mjupyter_width,\n\u001b[0;32m   2070\u001b[0m         height\u001b[39m=\u001b[39;49mjupyter_height,\n\u001b[0;32m   2071\u001b[0m         host\u001b[39m=\u001b[39;49mhost,\n\u001b[0;32m   2072\u001b[0m         port\u001b[39m=\u001b[39;49mport,\n\u001b[0;32m   2073\u001b[0m         server_url\u001b[39m=\u001b[39;49mjupyter_server_url,\n\u001b[0;32m   2074\u001b[0m     )\n\u001b[0;32m   2075\u001b[0m \u001b[39melse\u001b[39;00m:\n\u001b[0;32m   2076\u001b[0m     \u001b[39mself\u001b[39m\u001b[39m.\u001b[39mserver\u001b[39m.\u001b[39mrun(host\u001b[39m=\u001b[39mhost, port\u001b[39m=\u001b[39mport, debug\u001b[39m=\u001b[39mdebug, \u001b[39m*\u001b[39m\u001b[39m*\u001b[39mflask_run_options)\n",
            "File \u001b[1;32mc:\\Users\\mjzag\\AppData\\Local\\Programs\\Python\\Python311\\Lib\\site-packages\\dash\\_jupyter.py:401\u001b[0m, in \u001b[0;36mJupyterDash.run_app\u001b[1;34m(self, app, mode, width, height, host, port, server_url)\u001b[0m\n\u001b[0;32m    399\u001b[0m     display(HTML(msg))\n\u001b[0;32m    400\u001b[0m \u001b[39melse\u001b[39;00m:\n\u001b[1;32m--> 401\u001b[0m     \u001b[39mraise\u001b[39;00m final_error\n",
            "File \u001b[1;32mc:\\Users\\mjzag\\AppData\\Local\\Programs\\Python\\Python311\\Lib\\site-packages\\dash\\_jupyter.py:388\u001b[0m, in \u001b[0;36mJupyterDash.run_app\u001b[1;34m(self, app, mode, width, height, host, port, server_url)\u001b[0m\n\u001b[0;32m    385\u001b[0m         \u001b[39mraise\u001b[39;00m err\n\u001b[0;32m    387\u001b[0m \u001b[39mtry\u001b[39;00m:\n\u001b[1;32m--> 388\u001b[0m     wait_for_app()\n\u001b[0;32m    390\u001b[0m     \u001b[39mif\u001b[39;00m \u001b[39mself\u001b[39m\u001b[39m.\u001b[39min_colab:\n\u001b[0;32m    391\u001b[0m         JupyterDash\u001b[39m.\u001b[39m_display_in_colab(dashboard_url, port, mode, width, height)\n",
            "File \u001b[1;32mc:\\Users\\mjzag\\AppData\\Local\\Programs\\Python\\Python311\\Lib\\site-packages\\retrying.py:56\u001b[0m, in \u001b[0;36mretry.<locals>.wrap.<locals>.wrapped_f\u001b[1;34m(*args, **kw)\u001b[0m\n\u001b[0;32m     54\u001b[0m \u001b[39m@six\u001b[39m\u001b[39m.\u001b[39mwraps(f)\n\u001b[0;32m     55\u001b[0m \u001b[39mdef\u001b[39;00m \u001b[39mwrapped_f\u001b[39m(\u001b[39m*\u001b[39margs, \u001b[39m*\u001b[39m\u001b[39m*\u001b[39mkw):\n\u001b[1;32m---> 56\u001b[0m     \u001b[39mreturn\u001b[39;00m Retrying(\u001b[39m*\u001b[39;49mdargs, \u001b[39m*\u001b[39;49m\u001b[39m*\u001b[39;49mdkw)\u001b[39m.\u001b[39;49mcall(f, \u001b[39m*\u001b[39;49margs, \u001b[39m*\u001b[39;49m\u001b[39m*\u001b[39;49mkw)\n",
            "File \u001b[1;32mc:\\Users\\mjzag\\AppData\\Local\\Programs\\Python\\Python311\\Lib\\site-packages\\retrying.py:266\u001b[0m, in \u001b[0;36mRetrying.call\u001b[1;34m(self, fn, *args, **kwargs)\u001b[0m\n\u001b[0;32m    263\u001b[0m \u001b[39mif\u001b[39;00m \u001b[39mself\u001b[39m\u001b[39m.\u001b[39mstop(attempt_number, delay_since_first_attempt_ms):\n\u001b[0;32m    264\u001b[0m     \u001b[39mif\u001b[39;00m \u001b[39mnot\u001b[39;00m \u001b[39mself\u001b[39m\u001b[39m.\u001b[39m_wrap_exception \u001b[39mand\u001b[39;00m attempt\u001b[39m.\u001b[39mhas_exception:\n\u001b[0;32m    265\u001b[0m         \u001b[39m# get() on an attempt with an exception should cause it to be raised, but raise just in case\u001b[39;00m\n\u001b[1;32m--> 266\u001b[0m         \u001b[39mraise\u001b[39;00m attempt\u001b[39m.\u001b[39;49mget()\n\u001b[0;32m    267\u001b[0m     \u001b[39melse\u001b[39;00m:\n\u001b[0;32m    268\u001b[0m         \u001b[39mraise\u001b[39;00m RetryError(attempt)\n",
            "File \u001b[1;32mc:\\Users\\mjzag\\AppData\\Local\\Programs\\Python\\Python311\\Lib\\site-packages\\retrying.py:301\u001b[0m, in \u001b[0;36mAttempt.get\u001b[1;34m(self, wrap_exception)\u001b[0m\n\u001b[0;32m    299\u001b[0m         \u001b[39mraise\u001b[39;00m RetryError(\u001b[39mself\u001b[39m)\n\u001b[0;32m    300\u001b[0m     \u001b[39melse\u001b[39;00m:\n\u001b[1;32m--> 301\u001b[0m         six\u001b[39m.\u001b[39;49mreraise(\u001b[39mself\u001b[39;49m\u001b[39m.\u001b[39;49mvalue[\u001b[39m0\u001b[39;49m], \u001b[39mself\u001b[39;49m\u001b[39m.\u001b[39;49mvalue[\u001b[39m1\u001b[39;49m], \u001b[39mself\u001b[39;49m\u001b[39m.\u001b[39;49mvalue[\u001b[39m2\u001b[39;49m])\n\u001b[0;32m    302\u001b[0m \u001b[39melse\u001b[39;00m:\n\u001b[0;32m    303\u001b[0m     \u001b[39mreturn\u001b[39;00m \u001b[39mself\u001b[39m\u001b[39m.\u001b[39mvalue\n",
            "File \u001b[1;32m~\\AppData\\Roaming\\Python\\Python311\\site-packages\\six.py:719\u001b[0m, in \u001b[0;36mreraise\u001b[1;34m(tp, value, tb)\u001b[0m\n\u001b[0;32m    717\u001b[0m     \u001b[39mif\u001b[39;00m value\u001b[39m.\u001b[39m__traceback__ \u001b[39mis\u001b[39;00m \u001b[39mnot\u001b[39;00m tb:\n\u001b[0;32m    718\u001b[0m         \u001b[39mraise\u001b[39;00m value\u001b[39m.\u001b[39mwith_traceback(tb)\n\u001b[1;32m--> 719\u001b[0m     \u001b[39mraise\u001b[39;00m value\n\u001b[0;32m    720\u001b[0m \u001b[39mfinally\u001b[39;00m:\n\u001b[0;32m    721\u001b[0m     value \u001b[39m=\u001b[39m \u001b[39mNone\u001b[39;00m\n",
            "File \u001b[1;32mc:\\Users\\mjzag\\AppData\\Local\\Programs\\Python\\Python311\\Lib\\site-packages\\retrying.py:251\u001b[0m, in \u001b[0;36mRetrying.call\u001b[1;34m(self, fn, *args, **kwargs)\u001b[0m\n\u001b[0;32m    248\u001b[0m     \u001b[39mself\u001b[39m\u001b[39m.\u001b[39m_before_attempts(attempt_number)\n\u001b[0;32m    250\u001b[0m \u001b[39mtry\u001b[39;00m:\n\u001b[1;32m--> 251\u001b[0m     attempt \u001b[39m=\u001b[39m Attempt(fn(\u001b[39m*\u001b[39;49margs, \u001b[39m*\u001b[39;49m\u001b[39m*\u001b[39;49mkwargs), attempt_number, \u001b[39mFalse\u001b[39;00m)\n\u001b[0;32m    252\u001b[0m \u001b[39mexcept\u001b[39;00m:\n\u001b[0;32m    253\u001b[0m     tb \u001b[39m=\u001b[39m sys\u001b[39m.\u001b[39mexc_info()\n",
            "File \u001b[1;32mc:\\Users\\mjzag\\AppData\\Local\\Programs\\Python\\Python311\\Lib\\site-packages\\dash\\_jupyter.py:379\u001b[0m, in \u001b[0;36mJupyterDash.run_app.<locals>.wait_for_app\u001b[1;34m()\u001b[0m\n\u001b[0;32m    377\u001b[0m     \u001b[39mif\u001b[39;00m res \u001b[39m!=\u001b[39m \u001b[39m\"\u001b[39m\u001b[39mAlive\u001b[39m\u001b[39m\"\u001b[39m:\n\u001b[0;32m    378\u001b[0m         url \u001b[39m=\u001b[39m \u001b[39mf\u001b[39m\u001b[39m\"\u001b[39m\u001b[39mhttp://\u001b[39m\u001b[39m{\u001b[39;00mhost\u001b[39m}\u001b[39;00m\u001b[39m:\u001b[39m\u001b[39m{\u001b[39;00mport\u001b[39m}\u001b[39;00m\u001b[39m\"\u001b[39m\n\u001b[1;32m--> 379\u001b[0m         \u001b[39mraise\u001b[39;00m \u001b[39mOSError\u001b[39;00m(\n\u001b[0;32m    380\u001b[0m             \u001b[39mf\u001b[39m\u001b[39m\"\u001b[39m\u001b[39mAddress \u001b[39m\u001b[39m'\u001b[39m\u001b[39m{\u001b[39;00murl\u001b[39m}\u001b[39;00m\u001b[39m'\u001b[39m\u001b[39m already in use.\u001b[39m\u001b[39m\\n\u001b[39;00m\u001b[39m\"\u001b[39m\n\u001b[0;32m    381\u001b[0m             \u001b[39m\"\u001b[39m\u001b[39m    Try passing a different port to run_server.\u001b[39m\u001b[39m\"\u001b[39m\n\u001b[0;32m    382\u001b[0m         )\n\u001b[0;32m    383\u001b[0m \u001b[39mexcept\u001b[39;00m requests\u001b[39m.\u001b[39mConnectionError \u001b[39mas\u001b[39;00m err:\n\u001b[0;32m    384\u001b[0m     _get_error()\n",
            "\u001b[1;31mOSError\u001b[0m: Address 'http://127.0.0.1:8050' already in use.\n    Try passing a different port to run_server."
          ]
        }
      ],
      "source": [
        "if __name__ == '__main__':\n",
        "    app.run_server()"
      ]
    },
    {
      "cell_type": "code",
      "execution_count": 26,
      "metadata": {
        "colab": {
          "base_uri": "https://localhost:8080/"
        },
        "id": "cPxZoLzg-UyG",
        "outputId": "a4752106-2cfe-4df1-c0e1-3c172fa7feb1"
      },
      "outputs": [
        {
          "data": {
            "text/plain": [
              "Dropdown(options=[{'label': 'Google', 'value': 'GOOG'}, {'label': 'Apple', 'value': 'AAPL'}, {'label': 'Amazon', 'value': 'AMZN'}, {'label': 'Tesla', 'value': 'TSLA'}], value='GOOGL', id='dropdown')"
            ]
          },
          "execution_count": 26,
          "metadata": {},
          "output_type": "execute_result"
        }
      ],
      "source": [
        "dcc.Dropdown( id = 'dropdown',\n",
        "options = [\n",
        "    {'label':'Google', 'value':'GOOG' },\n",
        "    {'label': 'Apple', 'value':'AAPL'},\n",
        "    {'label': 'Amazon', 'value':'AMZN'},\n",
        "    {'label': 'Tesla', 'value':'TSLA'},\n",
        "    ],\n",
        "value = 'GOOGL'\n",
        ")"
      ]
    },
    {
      "cell_type": "code",
      "execution_count": 39,
      "metadata": {
        "id": "JvnnyWQF-lrA"
      },
      "outputs": [],
      "source": [
        "from dash.dependencies import Input, Output\n",
        "\n",
        "@app.callback(Output(component_id='line_plot', component_property= 'figure'),\n",
        "              [Input(component_id='dropdown', component_property= 'value')])\n",
        "def graph_update(dropdown_value):\n",
        "    print(dropdown_value)\n",
        "    fig = go.Figure([go.Scatter(x = df['date'], y = df['{}'.format(dropdown_value)],\\\n",
        "                     line = dict(color = 'firebrick', width = 4))\n",
        "                     ])\n",
        "\n",
        "    fig.update_layout(title = 'Stock prices over time',\n",
        "                      xaxis_title = 'Dates',\n",
        "                      yaxis_title = 'Prices'\n",
        "                      )\n",
        "    return fig"
      ]
    },
    {
      "cell_type": "code",
      "execution_count": 40,
      "metadata": {
        "colab": {
          "base_uri": "https://localhost:8080/",
          "height": 671
        },
        "id": "1ZEWP3u4-sCB",
        "outputId": "dd948365-ad05-4efa-f388-3709b8ebe6c8"
      },
      "outputs": [
        {
          "data": {
            "text/html": [
              "\n",
              "        <iframe\n",
              "            width=\"100%\"\n",
              "            height=\"650\"\n",
              "            src=\"http://127.0.0.1:8050/\"\n",
              "            frameborder=\"0\"\n",
              "            allowfullscreen\n",
              "            \n",
              "        ></iframe>\n",
              "        "
            ],
            "text/plain": [
              "<IPython.lib.display.IFrame at 0x272aae6fc90>"
            ]
          },
          "metadata": {},
          "output_type": "display_data"
        },
        {
          "name": "stdout",
          "output_type": "stream",
          "text": [
            "GOOG\n",
            "GOOG\n",
            "GOOG\n"
          ]
        }
      ],
      "source": [
        "import dash\n",
        "from dash import html\n",
        "import plotly.graph_objects as go\n",
        "from dash import dcc\n",
        "import plotly.express as px\n",
        "from dash.dependencies import Input, Output\n",
        "\n",
        "\n",
        "app = dash.Dash()\n",
        "\n",
        "df = px.data.stocks()\n",
        "\n",
        "\n",
        "app.layout = html.Div(id = 'parent', children = [\n",
        "    html.H1(id = 'H1', children = 'Styling using html components', style = {'textAlign':'center',\\\n",
        "                                            'marginTop':40,'marginBottom':40}),\n",
        "\n",
        "        dcc.Dropdown( id = 'dropdown',\n",
        "        options = [\n",
        "            {'label':'Google', 'value':'GOOG' },\n",
        "            {'label': 'Apple', 'value':'AAPL'},\n",
        "            {'label': 'Amazon', 'value':'AMZN'},\n",
        "            {'label': 'Tesla', 'value':'TSLA'},\n",
        "            ],\n",
        "        value = 'GOOG'),\n",
        "        dcc.Graph(id = 'bar_plot')\n",
        "    ])\n",
        "\n",
        "\n",
        "@app.callback(Output(component_id='bar_plot', component_property= 'figure'),\n",
        "              [Input(component_id='dropdown', component_property= 'value')])\n",
        "def graph_update(dropdown_value):\n",
        "    print(dropdown_value)\n",
        "    fig = go.Figure([go.Scatter(x = df['date'], y = df['{}'.format(dropdown_value)],\\\n",
        "                     line = dict(color = 'firebrick', width = 4))\n",
        "                     ])\n",
        "\n",
        "    fig.update_layout(title = 'Stock prices over time',\n",
        "                      xaxis_title = 'Dates',\n",
        "                      yaxis_title = 'Prices'\n",
        "                      )\n",
        "    return fig\n",
        "\n",
        "\n",
        "\n",
        "if __name__ == '__main__':\n",
        "    app.run_server()"
      ]
    },
    {
      "cell_type": "markdown",
      "metadata": {
        "id": "fDfNxkZS_Ql1"
      },
      "source": [
        " Styling HTML and CSS"
      ]
    },
    {
      "cell_type": "code",
      "execution_count": 36,
      "metadata": {
        "colab": {
          "base_uri": "https://localhost:8080/",
          "height": 671
        },
        "id": "x-krDCBX_B4v",
        "outputId": "98bfbd26-db9d-4f16-d40a-e89ed991a4ee"
      },
      "outputs": [
        {
          "data": {
            "text/html": [
              "\n",
              "        <iframe\n",
              "            width=\"100%\"\n",
              "            height=\"650\"\n",
              "            src=\"http://127.0.0.1:8050/\"\n",
              "            frameborder=\"0\"\n",
              "            allowfullscreen\n",
              "            \n",
              "        ></iframe>\n",
              "        "
            ],
            "text/plain": [
              "<IPython.lib.display.IFrame at 0x272aacadf50>"
            ]
          },
          "metadata": {},
          "output_type": "display_data"
        }
      ],
      "source": [
        "# Import packages\n",
        "from dash import Dash, html, dash_table, dcc, callback, Output, Input\n",
        "import pandas as pd\n",
        "import plotly.express as px\n",
        "\n",
        "# Incorporate data\n",
        "df = pd.read_csv('https://raw.githubusercontent.com/plotly/datasets/master/gapminder2007.csv')\n",
        "\n",
        "# Initialize the app - incorporate css\n",
        "external_stylesheets = ['https://codepen.io/chriddyp/pen/bWLwgP.css']\n",
        "app = Dash(__name__, external_stylesheets=external_stylesheets)\n",
        "\n",
        "# App layout\n",
        "app.layout = html.Div([\n",
        "    html.Div(className='row', children='My First App with Data, Graph, and Controls',\n",
        "             style={'textAlign': 'center', 'color': 'blue', 'fontSize': 30}),\n",
        "\n",
        "    html.Div(className='row', children=[\n",
        "        dcc.RadioItems(options=['pop', 'lifeExp', 'gdpPercap'],\n",
        "                       value='lifeExp',\n",
        "                       inline=True,\n",
        "                       id='my-radio-buttons-final')\n",
        "    ]),\n",
        "\n",
        "    html.Div(className='row', children=[\n",
        "        html.Div(className='six columns', children=[\n",
        "            dash_table.DataTable(data=df.to_dict('records'), page_size=11, style_table={'overflowX': 'auto'})\n",
        "        ]),\n",
        "        html.Div(className='six columns', children=[\n",
        "            dcc.Graph(figure={}, id='histo-chart-final')\n",
        "        ])\n",
        "    ])\n",
        "])\n",
        "\n",
        "# Add controls to build the interaction\n",
        "@callback(\n",
        "    Output(component_id='histo-chart-final', component_property='figure'),\n",
        "    Input(component_id='my-radio-buttons-final', component_property='value')\n",
        ")\n",
        "def update_graph(col_chosen):\n",
        "    fig = px.histogram(df, x='continent', y=col_chosen, histfunc='avg')\n",
        "    return fig\n",
        "\n",
        "# Run the app\n",
        "if __name__ == '__main__':\n",
        "    app.run(debug=True)\n"
      ]
    },
    {
      "cell_type": "markdown",
      "metadata": {
        "id": "o2w3Hg3z_hCP"
      },
      "source": [
        "Ein weiteres Beispiel"
      ]
    },
    {
      "cell_type": "code",
      "execution_count": 30,
      "metadata": {
        "colab": {
          "base_uri": "https://localhost:8080/",
          "height": 671
        },
        "id": "sMPKkr5o_li0",
        "outputId": "62e5c26f-569c-4354-f22a-be289af087c9"
      },
      "outputs": [
        {
          "data": {
            "text/html": [
              "\n",
              "        <iframe\n",
              "            width=\"100%\"\n",
              "            height=\"650\"\n",
              "            src=\"http://127.0.0.1:8050/\"\n",
              "            frameborder=\"0\"\n",
              "            allowfullscreen\n",
              "            \n",
              "        ></iframe>\n",
              "        "
            ],
            "text/plain": [
              "<IPython.lib.display.IFrame at 0x272aae828d0>"
            ]
          },
          "metadata": {},
          "output_type": "display_data"
        }
      ],
      "source": [
        "import dash\n",
        "from dash import dcc, html, dash_table\n",
        "from dash.dependencies import Input, Output\n",
        "import plotly.express as px\n",
        "import pandas as pd\n",
        "\n",
        "# Beispiel-Daten laden (du kannst deine eigenen Daten verwenden)\n",
        "df = px.data.iris()\n",
        "\n",
        "# Initialisiere die Dash-Anwendung\n",
        "app = dash.Dash(__name__)\n",
        "\n",
        "# Layout der Anwendung\n",
        "app.layout = html.Div(children=[\n",
        "    html.H1(\"Interaktive Dash-Anwendung\"),\n",
        "\n",
        "    # DataTable zur Anzeige der Daten\n",
        "    dash_table.DataTable(\n",
        "        id='datatable',\n",
        "        columns=[\n",
        "            {\"name\": col, \"id\": col} for col in df.columns\n",
        "        ],\n",
        "        data=df.to_dict('records'),\n",
        "        page_size=10  # Anzahl der Zeilen pro Seite\n",
        "    ),\n",
        "\n",
        "    # Dropdown-Menü für die Auswahl der Blumenart\n",
        "    dcc.Dropdown(\n",
        "        id='dropdown-species',\n",
        "        options=[\n",
        "            {'label': species, 'value': species}\n",
        "            for species in df['species'].unique()\n",
        "        ],\n",
        "        value='setosa',  # Standardwert\n",
        "        multi=False  # Nur eine Auswahl erlauben\n",
        "    ),\n",
        "\n",
        "    # Balkendiagramm für die Verteilung der Sepal-Länge\n",
        "    dcc.Graph(id='bar-chart'),\n",
        "\n",
        "    # Scatterplot für Sepal-Länge vs. Sepal-Breite\n",
        "    dcc.Graph(id='scatter-plot'),\n",
        "\n",
        "    # Histogramm für die Verteilung der Petal-Länge\n",
        "    dcc.Graph(id='histogram')\n",
        "])\n",
        "\n",
        "# Callback-Funktionen für die Interaktivität\n",
        "@app.callback(\n",
        "    Output('datatable', 'data'),\n",
        "    Output('bar-chart', 'figure'),\n",
        "    Output('scatter-plot', 'figure'),\n",
        "    Output('histogram', 'figure'),\n",
        "    Input('dropdown-species', 'value')\n",
        ")\n",
        "def update_charts(selected_species):\n",
        "    # Filtere Daten basierend auf der ausgewählten Blumenart\n",
        "    filtered_df = df[df['species'] == selected_species]\n",
        "\n",
        "    # Aktualisiere DataTable\n",
        "    table_data = filtered_df.to_dict('records')\n",
        "\n",
        "    # Balkendiagramm für die Verteilung der Sepal-Länge\n",
        "    bar_chart = px.bar(\n",
        "        filtered_df, x='sepal_length', title=f'Sepal-Länge Verteilung ({selected_species})'\n",
        "    )\n",
        "\n",
        "    # Scatterplot für Sepal-Länge vs. Sepal-Breite\n",
        "    scatter_plot = px.scatter(\n",
        "        filtered_df, x='sepal_length', y='sepal_width', title=f'Sepal-Länge vs. Sepal-Breite ({selected_species})'\n",
        "    )\n",
        "\n",
        "    # Histogramm für die Verteilung der Petal-Länge\n",
        "    histogram = px.histogram(\n",
        "        filtered_df, x='petal_length', title=f'Petal-Länge Verteilung ({selected_species})'\n",
        "    )\n",
        "\n",
        "    return table_data, bar_chart, scatter_plot, histogram\n",
        "\n",
        "# Starte die Dash-Anwendung\n",
        "if __name__ == '__main__':\n",
        "    app.run_server(debug=True)"
      ]
    }
  ],
  "metadata": {
    "colab": {
      "provenance": []
    },
    "kernelspec": {
      "display_name": "Python 3",
      "name": "python3"
    },
    "language_info": {
      "codemirror_mode": {
        "name": "ipython",
        "version": 3
      },
      "file_extension": ".py",
      "mimetype": "text/x-python",
      "name": "python",
      "nbconvert_exporter": "python",
      "pygments_lexer": "ipython3",
      "version": "3.11.3"
    }
  },
  "nbformat": 4,
  "nbformat_minor": 0
}
