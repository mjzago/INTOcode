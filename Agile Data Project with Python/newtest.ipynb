{
 "cells": [
  {
   "cell_type": "code",
   "execution_count": 1,
   "metadata": {},
   "outputs": [
    {
     "name": "stderr",
     "output_type": "stream",
     "text": [
      "C:\\Users\\mjzag\\AppData\\Local\\Temp\\ipykernel_20868\\3182600903.py:6: UserWarning: \n",
      "The dash_html_components package is deprecated. Please replace\n",
      "`import dash_html_components as html` with `from dash import html`\n",
      "  import dash_html_components as html\n",
      "C:\\Users\\mjzag\\AppData\\Local\\Temp\\ipykernel_20868\\3182600903.py:7: UserWarning: \n",
      "The dash_core_components package is deprecated. Please replace\n",
      "`import dash_core_components as dcc` with `from dash import dcc`\n",
      "  import dash_core_components as dcc\n"
     ]
    }
   ],
   "source": [
    "# ! pip install dash\n",
    "# ! pip install dash-html-components\n",
    "# ! pip install dash-core-components\n",
    "# ! pip install plotly\n",
    "import dash\n",
    "import dash_html_components as html\n",
    "import dash_core_components as dcc\n",
    "import plotly.graph_objects as go\n",
    "import plotly.express as px\n",
    "# Inicializando o aplicativo Dash\n",
    "app = dash.Dash()\n",
    "# Lendo o conjunto de dados de preços de ações\n",
    "df = px.data.stocks()\n",
    "def stock_prices():\n",
    "    # Função para criar um gráfico de linhas mostrando os preços das ações do Google ao longo do tempo\n",
    "    fig = go.Figure([go.Scatter(x=df['date'], y=df['GOOG'],\\\n",
    "                     line=dict(color='firebrick', width=4), name='Google')\n",
    "                     ])\n",
    "    fig.update_layout(title='Preços ao longo do tempo',\n",
    "                      xaxis_title='Datas',\n",
    "                      yaxis_title='Preços'\n",
    "                      )\n",
    "    return fig\n",
    "# Definindo o layout do aplicativo\n",
    "app.layout = html.Div(id='parent', children=[\n",
    "    html.H1(id='H1', children='Estilizando usando componentes HTML', style={'textAlign': 'center',\\\n",
    "                                            'marginTop': 40, 'marginBottom': 40}),\n",
    "    dcc.Graph(id='line_plot', figure=stock_prices())\n",
    "])\n",
    "# Executando o aplicativo"
   ]
  },
  {
   "cell_type": "code",
   "execution_count": 2,
   "metadata": {},
   "outputs": [
    {
     "data": {
      "text/html": [
       "\n",
       "        <iframe\n",
       "            width=\"100%\"\n",
       "            height=\"650\"\n",
       "            src=\"http://127.0.0.1:8050/\"\n",
       "            frameborder=\"0\"\n",
       "            allowfullscreen\n",
       "            \n",
       "        ></iframe>\n",
       "        "
      ],
      "text/plain": [
       "<IPython.lib.display.IFrame at 0x1ea8f712990>"
      ]
     },
     "metadata": {},
     "output_type": "display_data"
    }
   ],
   "source": [
    "if __name__ == '__main__':\n",
    "    app.run_server()"
   ]
  },
  {
   "cell_type": "code",
   "execution_count": 3,
   "metadata": {},
   "outputs": [
    {
     "data": {
      "text/html": [
       "\n",
       "        <iframe\n",
       "            width=\"100%\"\n",
       "            height=\"650\"\n",
       "            src=\"http://127.0.0.1:8050/\"\n",
       "            frameborder=\"0\"\n",
       "            allowfullscreen\n",
       "            \n",
       "        ></iframe>\n",
       "        "
      ],
      "text/plain": [
       "<IPython.lib.display.IFrame at 0x1ea8f926510>"
      ]
     },
     "metadata": {},
     "output_type": "display_data"
    }
   ],
   "source": [
    "import dash\n",
    "import dash_html_components as html\n",
    "import plotly.graph_objects as go\n",
    "import dash_core_components as dcc\n",
    "import plotly.express as px\n",
    "from dash.dependencies import Input, Output\n",
    "# Inicializando o aplicativo Dash\n",
    "app = dash.Dash()\n",
    "# Lendo o conjunto de dados de preços de ações\n",
    "df = px.data.stocks()\n",
    "# Definindo o layout do aplicativo com um dropdown e um gráfico de barras\n",
    "app.layout = html.Div(id='parent', children=[\n",
    "    html.H1(id='H1', children='Estilizando usando componentes HTML', style={'textAlign': 'center',\\\n",
    "                                            'marginTop': 40, 'marginBottom': 40}),\n",
    "    dcc.Dropdown(id='dropdown',\n",
    "                 options=[\n",
    "                     {'label': 'Google', 'value': 'GOOG'},\n",
    "                     {'label': 'Apple', 'value': 'AAPL'},\n",
    "                     {'label': 'Amazon', 'value': 'AMZN'},\n",
    "                 ],\n",
    "                 value='GOOG'),\n",
    "    dcc.Graph(id='bar_plot')\n",
    "])\n",
    "# Callback para atualizar o gráfico com base na seleção do dropdown\n",
    "@app.callback(Output(component_id='bar_plot', component_property='figure'),\n",
    "              [Input(component_id='dropdown', component_property='value')])\n",
    "def graph_update(dropdown_value):\n",
    "    fig = go.Figure([go.Scatter(x=df['date'], y=df['{}'.format(dropdown_value)],\\\n",
    "                     line=dict(color='firebrick', width=4))\n",
    "                     ])\n",
    "    fig.update_layout(title='Preços das ações ao longo do tempo',\n",
    "                      xaxis_title='Datas',\n",
    "                      yaxis_title='Preços'\n",
    "                      )\n",
    "    return fig\n",
    "# Executando o aplicativo\n",
    "if __name__ == '__main__':\n",
    "    app.run_server()"
   ]
  }
 ],
 "metadata": {
  "kernelspec": {
   "display_name": "Python 3",
   "language": "python",
   "name": "python3"
  },
  "language_info": {
   "codemirror_mode": {
    "name": "ipython",
    "version": 3
   },
   "file_extension": ".py",
   "mimetype": "text/x-python",
   "name": "python",
   "nbconvert_exporter": "python",
   "pygments_lexer": "ipython3",
   "version": "3.11.3"
  },
  "orig_nbformat": 4
 },
 "nbformat": 4,
 "nbformat_minor": 2
}
