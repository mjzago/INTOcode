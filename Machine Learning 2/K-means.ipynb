{
 "cells": [
  {
   "cell_type": "markdown",
   "id": "52954b9b",
   "metadata": {},
   "source": [
    "# K-means für 1Dimensionale Datenpunkte"
   ]
  },
  {
   "cell_type": "code",
   "execution_count": 1,
   "id": "c018540a",
   "metadata": {},
   "outputs": [],
   "source": [
    "from sklearn.cluster import KMeans\n",
    "import numpy as np\n",
    "import matplotlib.pyplot as plt"
   ]
  },
  {
   "cell_type": "code",
   "execution_count": 2,
   "id": "18c263be",
   "metadata": {},
   "outputs": [],
   "source": [
    "# Daten erstellen\n",
    "X = np.array([[-2.1], [-1], [-0.5], [1.4], [1.8], [1.9]])"
   ]
  },
  {
   "cell_type": "code",
   "execution_count": 3,
   "id": "c9e4e228",
   "metadata": {},
   "outputs": [],
   "source": [
    "# K-Means-Modell erstellen und anpassen\n",
    "kmeans = KMeans(n_clusters=2).fit(X)"
   ]
  },
  {
   "cell_type": "code",
   "execution_count": 4,
   "id": "918dd834",
   "metadata": {},
   "outputs": [
    {
     "name": "stdout",
     "output_type": "stream",
     "text": [
      "[1 1 1 0 0 0]\n"
     ]
    }
   ],
   "source": [
    "# Die Cluster-Zuordnung für die Datenpunkte\n",
    "print(kmeans.labels_)"
   ]
  },
  {
   "cell_type": "code",
   "execution_count": 5,
   "id": "315ecd64",
   "metadata": {},
   "outputs": [
    {
     "name": "stdout",
     "output_type": "stream",
     "text": [
      "[1 0]\n"
     ]
    }
   ],
   "source": [
    "new_data = np.array([[-2.0], [0.25]])\n",
    "print(kmeans.predict(new_data))"
   ]
  },
  {
   "cell_type": "code",
   "execution_count": 6,
   "id": "71d34b6b",
   "metadata": {},
   "outputs": [
    {
     "name": "stdout",
     "output_type": "stream",
     "text": [
      "[[ 1.7]\n",
      " [-1.2]]\n"
     ]
    }
   ],
   "source": [
    "# Die Clusterzentren\n",
    "print(kmeans.cluster_centers_)"
   ]
  },
  {
   "cell_type": "code",
   "execution_count": 7,
   "id": "a29e37fc",
   "metadata": {},
   "outputs": [
    {
     "data": {
      "image/png": "[encoded data removed]",
      "text/plain": [
       "<Figure size 432x288 with 1 Axes>"
      ]
     },
     "metadata": {
      "needs_background": "light"
     },
     "output_type": "display_data"
    }
   ],
   "source": [
    "# Ergebnisse plotten\n",
    "plt.scatter(X, np.zeros_like(X), c=kmeans.labels_)\n",
    "plt.scatter(kmeans.cluster_centers_, np.zeros_like(\n",
    "    kmeans.cluster_centers_), marker='x', s=200, c='red')\n",
    "plt.title('K-Means Clustering (1D)')\n",
    "plt.show()"
   ]
  },
  {
   "cell_type": "markdown",
   "id": "88c751a8",
   "metadata": {},
   "source": [
    "# K-means für 2Dimensionale Datenpunkte"
   ]
  },
  {
   "cell_type": "code",
   "execution_count": 8,
   "id": "2567b1a7",
   "metadata": {},
   "outputs": [],
   "source": [
    "# Erstellen des Datenarrays\n",
    "X = np.array([[2, 10], [2, 5], [8, 4], [5, 8], [7, 5], [6, 4], [1, 2], [4, 9]])"
   ]
  },
  {
   "cell_type": "code",
   "execution_count": 9,
   "id": "7a5ff6c8",
   "metadata": {},
   "outputs": [],
   "source": [
    "# K-Means-Modell erstellen und anpassen\n",
    "kmeans = KMeans(n_clusters=3).fit(X)"
   ]
  },
  {
   "cell_type": "code",
   "execution_count": 10,
   "id": "482d017f",
   "metadata": {},
   "outputs": [
    {
     "name": "stdout",
     "output_type": "stream",
     "text": [
      "[0 2 1 0 1 1 2 0]\n"
     ]
    }
   ],
   "source": [
    "# Clusterlabels für Datenpunkte erhalten\n",
    "cluster_labels = kmeans.labels_\n",
    "\n",
    "print(cluster_labels)"
   ]
  },
  {
   "cell_type": "code",
   "execution_count": 11,
   "id": "babe9872",
   "metadata": {},
   "outputs": [
    {
     "name": "stdout",
     "output_type": "stream",
     "text": [
      "[0 2]\n"
     ]
    }
   ],
   "source": [
    "# Vorhersage der Clusterlabels für neue Datenpunkte\n",
    "new_data = np.array([[3, 7], [4, 4]])\n",
    "predicted_labels = kmeans.predict(new_data)\n",
    "print(predicted_labels)"
   ]
  },
  {
   "cell_type": "code",
   "execution_count": 12,
   "id": "964b6056",
   "metadata": {},
   "outputs": [
    {
     "name": "stdout",
     "output_type": "stream",
     "text": [
      "[[3.66666667 9.        ]\n",
      " [7.         4.33333333]\n",
      " [1.5        3.5       ]]\n"
     ]
    }
   ],
   "source": [
    "# Clusterzentren abrufen\n",
    "cluster_centers = kmeans.cluster_centers_\n",
    "print(cluster_centers)"
   ]
  },
  {
   "cell_type": "code",
   "execution_count": 13,
   "id": "74211395",
   "metadata": {},
   "outputs": [
    {
     "data": {
      "image/png": "[encoded data removed]",
      "text/plain": [
       "<Figure size 432x288 with 1 Axes>"
      ]
     },
     "metadata": {
      "needs_background": "light"
     },
     "output_type": "display_data"
    }
   ],
   "source": [
    "# Datenpunkte und Clusterzentren plotten\n",
    "plt.scatter(X[:, 0], X[:, 1], c=cluster_labels, cmap='viridis', s=50)\n",
    "plt.scatter(cluster_centers[:, 0],\n",
    "            cluster_centers[:, 1], c='red', s=200, marker='X')\n",
    "\n",
    "plt.title('K-Means Clustering (2D)')\n",
    "plt.xlabel('Feature 1')\n",
    "plt.ylabel('Feature 2')\n",
    "plt.show()"
   ]
  },
  {
   "cell_type": "markdown",
   "id": "c91aae43",
   "metadata": {},
   "source": [
    "# Elbow Diagram\n"
   ]
  },
  {
   "cell_type": "code",
   "execution_count": 33,
   "id": "e250f731",
   "metadata": {},
   "outputs": [
    {
     "data": {
      "text/plain": [
       "8.666666666666666"
      ]
     },
     "execution_count": 33,
     "metadata": {},
     "output_type": "execute_result"
    }
   ],
   "source": [
    "kmeans = KMeans(n_clusters=4).fit(X)\n",
    "kmeans.inertia_"
   ]
  },
  {
   "cell_type": "code",
   "execution_count": 25,
   "id": "0f87b88d",
   "metadata": {},
   "outputs": [
    {
     "name": "stderr",
     "output_type": "stream",
     "text": [
      "C:\\Tools\\anaconda3\\lib\\site-packages\\sklearn\\cluster\\_kmeans.py:881: UserWarning: KMeans is known to have a memory leak on Windows with MKL, when there are less chunks than available threads. You can avoid it by setting the environment variable OMP_NUM_THREADS=1.\n",
      "  warnings.warn(\n"
     ]
    }
   ],
   "source": [
    "wcss = []\n",
    "# Probieren Sie verschiedene Clusteranzahlen aus (z.B. von 1 bis 7) und berechnen Sie WCSS für jede\n",
    "for i in range(1, len(X)):\n",
    "    kmeans = KMeans(n_clusters=i, n_init=10).fit(X)\n",
    "    wcss.append(kmeans.inertia_)"
   ]
  },
  {
   "cell_type": "code",
   "execution_count": 26,
   "id": "7c2533a0",
   "metadata": {},
   "outputs": [
    {
     "data": {
      "image/png": "[encoded data removed]",
      "text/plain": [
       "<Figure size 576x432 with 1 Axes>"
      ]
     },
     "metadata": {
      "needs_background": "light"
     },
     "output_type": "display_data"
    }
   ],
   "source": [
    "# Erstellen des Elbow-Diagramms für die WCSS-Werte\n",
    "plt.figure(figsize=(8, 6))\n",
    "plt.plot(range(1, 8), wcss, marker='o', linestyle='-', color='b')\n",
    "plt.title('Elbow-Diagramm')\n",
    "plt.xlabel('Anzahl der Cluster')\n",
    "plt.ylabel('WCSS')\n",
    "plt.show()"
   ]
  },
  {
   "cell_type": "code",
   "execution_count": null,
   "id": "db468a14",
   "metadata": {},
   "outputs": [],
   "source": []
  }
 ],
 "metadata": {
  "kernelspec": {
   "display_name": "Python 3",
   "language": "python",
   "name": "python3"
  },
  "language_info": {
   "codemirror_mode": {
    "name": "ipython",
    "version": 3
   },
   "file_extension": ".py",
   "mimetype": "text/x-python",
   "name": "python",
   "nbconvert_exporter": "python",
   "pygments_lexer": "ipython3",
   "version": "3.11.3"
  }
 },
 "nbformat": 4,
 "nbformat_minor": 5
}
