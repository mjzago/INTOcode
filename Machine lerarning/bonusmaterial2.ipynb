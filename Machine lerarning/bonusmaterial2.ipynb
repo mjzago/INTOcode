{
 "cells": [
  {
   "cell_type": "markdown",
   "id": "9705e3cb-8c22-4c13-8166-285b39a3049c",
   "metadata": {},
   "source": [
    "# Bonusmaterial: Matrix-Multiplikation\n",
    "\n",
    "(c) 2023 by Harald Bögeholz\n",
    "\n",
    "---"
   ]
  },
  {
   "cell_type": "code",
   "execution_count": 2,
   "id": "96325488-7464-47fc-9871-6805e86a7b0b",
   "metadata": {},
   "outputs": [],
   "source": [
    "import numpy as np"
   ]
  },
  {
   "cell_type": "code",
   "execution_count": 3,
   "id": "0bbcd426-1eb1-46eb-8f1a-58bbf7ecb884",
   "metadata": {},
   "outputs": [
    {
     "data": {
      "text/plain": [
       "array([[1, 2, 3],\n",
       "       [4, 5, 6]])"
      ]
     },
     "execution_count": 3,
     "metadata": {},
     "output_type": "execute_result"
    }
   ],
   "source": [
    "A=np.array([[1,2,3],[4,5,6]])\n",
    "A"
   ]
  },
  {
   "cell_type": "code",
   "execution_count": 4,
   "id": "7ba08c4a-f2e0-4869-892d-49a83ee15162",
   "metadata": {},
   "outputs": [
    {
     "data": {
      "text/plain": [
       "array([[ 1,  2],\n",
       "       [ 0,  1],\n",
       "       [-1,  0]])"
      ]
     },
     "execution_count": 4,
     "metadata": {},
     "output_type": "execute_result"
    }
   ],
   "source": [
    "B=np.array([[1,2],[0,1],[-1,0]])\n",
    "B"
   ]
  },
  {
   "cell_type": "markdown",
   "id": "3b891b79-7776-475f-96ae-6af4a200c09f",
   "metadata": {},
   "source": [
    "Matrix-Multiplikation schreibt man in Numpy mit `@`"
   ]
  },
  {
   "cell_type": "code",
   "execution_count": 5,
   "id": "7da2cfd0-9959-4fb8-85b0-e71e1077c3c6",
   "metadata": {},
   "outputs": [
    {
     "data": {
      "text/plain": [
       "array([[-2,  4],\n",
       "       [-2, 13]])"
      ]
     },
     "execution_count": 5,
     "metadata": {},
     "output_type": "execute_result"
    }
   ],
   "source": [
    "A @ B"
   ]
  },
  {
   "cell_type": "code",
   "execution_count": 6,
   "id": "fe2bb465-c9d2-4c8a-b4f4-109480e3608c",
   "metadata": {},
   "outputs": [
    {
     "data": {
      "text/plain": [
       "array([[1, 2, 3]])"
      ]
     },
     "execution_count": 6,
     "metadata": {},
     "output_type": "execute_result"
    }
   ],
   "source": [
    "Z=np.array([[1,2,3]])\n",
    "Z"
   ]
  },
  {
   "cell_type": "code",
   "execution_count": 7,
   "id": "e8b4f6de-4d34-4600-8ad1-a1d4fe6e02f5",
   "metadata": {},
   "outputs": [
    {
     "data": {
      "text/plain": [
       "array([[4],\n",
       "       [5],\n",
       "       [6]])"
      ]
     },
     "execution_count": 7,
     "metadata": {},
     "output_type": "execute_result"
    }
   ],
   "source": [
    "S=np.array([[4],[5],[6]])\n",
    "S"
   ]
  },
  {
   "cell_type": "markdown",
   "id": "c91b11c8-e1b9-4948-8614-1095d91d918e",
   "metadata": {},
   "source": [
    "Zeilenvektor multipliziert mit Spaltenvektor ergibt nur eine einzige Zahl:"
   ]
  },
  {
   "cell_type": "code",
   "execution_count": 8,
   "id": "42c3e9e8-a2a4-4f6c-a5ad-e64e691985f7",
   "metadata": {},
   "outputs": [
    {
     "data": {
      "text/plain": [
       "array([[32]])"
      ]
     },
     "execution_count": 8,
     "metadata": {},
     "output_type": "execute_result"
    }
   ],
   "source": [
    "Z @ S"
   ]
  },
  {
   "cell_type": "markdown",
   "id": "a0ff8c3c-9273-4a97-89c1-2ca3764a35af",
   "metadata": {},
   "source": [
    "Spaltenvektor mal Zeilenvektor ergibt in diesem Fall eine 3x3-Matrix (3x1- mal 1x3-Matrix)"
   ]
  },
  {
   "cell_type": "code",
   "execution_count": 9,
   "id": "07ecbfd5-52f2-4767-8804-172e367599fd",
   "metadata": {},
   "outputs": [
    {
     "data": {
      "text/plain": [
       "array([[ 4,  8, 12],\n",
       "       [ 5, 10, 15],\n",
       "       [ 6, 12, 18]])"
      ]
     },
     "execution_count": 9,
     "metadata": {},
     "output_type": "execute_result"
    }
   ],
   "source": [
    "X = S @ Z\n",
    "X"
   ]
  },
  {
   "cell_type": "markdown",
   "id": "6de540cc-d302-412b-9fd7-24c4f5d3b2de",
   "metadata": {},
   "source": [
    "Es kommt bei der Matrix-Multiplikation also auf die Reihenfolge an! `A @ B` ist nicht gleich `B @ A`!"
   ]
  },
  {
   "cell_type": "code",
   "execution_count": 10,
   "id": "c467bb1f-43a8-4329-8525-b427598d204d",
   "metadata": {},
   "outputs": [
    {
     "data": {
      "text/plain": [
       "array([[ 1,  0,  1],\n",
       "       [ 2, -2,  3],\n",
       "       [ 0,  1,  2]])"
      ]
     },
     "execution_count": 10,
     "metadata": {},
     "output_type": "execute_result"
    }
   ],
   "source": [
    "Y = np.array([[1,0,1],[2,-2,3],[0,1,2]])\n",
    "Y"
   ]
  },
  {
   "cell_type": "code",
   "execution_count": 11,
   "id": "c4ac34fa-0d93-4834-a5b7-96858a013749",
   "metadata": {},
   "outputs": [
    {
     "data": {
      "text/plain": [
       "array([[20, -4, 52],\n",
       "       [25, -5, 65],\n",
       "       [30, -6, 78]])"
      ]
     },
     "execution_count": 11,
     "metadata": {},
     "output_type": "execute_result"
    }
   ],
   "source": [
    "X @ Y"
   ]
  },
  {
   "cell_type": "markdown",
   "id": "93c4e426-2898-43cb-9e32-588cbd5565c0",
   "metadata": {},
   "source": [
    "**Achtung:** Normale Multiplikation mit `*` arbeitet komponentenweise. Das ist *nicht* die Matrix-Multiplikation"
   ]
  },
  {
   "cell_type": "code",
   "execution_count": 12,
   "id": "988fe204-2656-47c5-829e-fe953bf457e7",
   "metadata": {},
   "outputs": [
    {
     "data": {
      "text/plain": [
       "array([[  4,   0,  12],\n",
       "       [ 10, -20,  45],\n",
       "       [  0,  12,  36]])"
      ]
     },
     "execution_count": 12,
     "metadata": {},
     "output_type": "execute_result"
    }
   ],
   "source": [
    "X * Y"
   ]
  },
  {
   "cell_type": "markdown",
   "id": "47991ea5-f8c9-4d82-99db-44e47dc9bf73",
   "metadata": {},
   "source": [
    "So findet man die Dimensionen einer Matrix heraus:"
   ]
  },
  {
   "cell_type": "code",
   "execution_count": 13,
   "id": "24e02e93-6646-4621-92d8-5bdcb31022b5",
   "metadata": {},
   "outputs": [
    {
     "data": {
      "text/plain": [
       "(2, 3)"
      ]
     },
     "execution_count": 13,
     "metadata": {},
     "output_type": "execute_result"
    }
   ],
   "source": [
    "A.shape"
   ]
  },
  {
   "cell_type": "code",
   "execution_count": 16,
   "id": "a5888c0a-2d3d-4e3d-9793-acda40cbded7",
   "metadata": {},
   "outputs": [
    {
     "data": {
      "text/plain": [
       "array([[1, 2, 3],\n",
       "       [4, 5, 6]])"
      ]
     },
     "execution_count": 16,
     "metadata": {},
     "output_type": "execute_result"
    }
   ],
   "source": [
    "A"
   ]
  },
  {
   "cell_type": "markdown",
   "id": "ab3d9c40-62ab-4dd9-b171-7513f0c82855",
   "metadata": {},
   "source": [
    "Mit der Funktion `reshape()` bringt man Arrays in eine andere Form. Das klappt aber nur, wenn die gewünschten Dimensionen zur Anzahl der Elemente passen."
   ]
  },
  {
   "cell_type": "code",
   "execution_count": 14,
   "id": "0c12cd91-651d-45d0-91e1-d1fabb599caa",
   "metadata": {},
   "outputs": [
    {
     "data": {
      "text/plain": [
       "array([[1, 2],\n",
       "       [3, 4],\n",
       "       [5, 6]])"
      ]
     },
     "execution_count": 14,
     "metadata": {},
     "output_type": "execute_result"
    }
   ],
   "source": [
    "A.reshape(3,2)"
   ]
  },
  {
   "cell_type": "code",
   "execution_count": 15,
   "id": "2d285fda-d03b-4446-973c-828ff59a8a2d",
   "metadata": {},
   "outputs": [
    {
     "data": {
      "text/plain": [
       "array([1, 2, 3, 4, 5, 6])"
      ]
     },
     "execution_count": 15,
     "metadata": {},
     "output_type": "execute_result"
    }
   ],
   "source": [
    "A.reshape(6)"
   ]
  },
  {
   "cell_type": "code",
   "execution_count": 17,
   "id": "a7fc8e78-c7e6-41fa-83ca-07f591c1dbf3",
   "metadata": {},
   "outputs": [
    {
     "data": {
      "text/plain": [
       "array([ 1,  2,  3,  4,  5,  6,  7,  8,  9, 10, 11, 12])"
      ]
     },
     "execution_count": 17,
     "metadata": {},
     "output_type": "execute_result"
    }
   ],
   "source": [
    "C = np.array(range(1, 13))\n",
    "C"
   ]
  },
  {
   "cell_type": "code",
   "execution_count": 18,
   "id": "74297ef4-02d4-4c53-a3f8-bcc97e7c5ad6",
   "metadata": {},
   "outputs": [
    {
     "data": {
      "text/plain": [
       "array([[ 1,  2,  3,  4],\n",
       "       [ 5,  6,  7,  8],\n",
       "       [ 9, 10, 11, 12]])"
      ]
     },
     "execution_count": 18,
     "metadata": {},
     "output_type": "execute_result"
    }
   ],
   "source": [
    "C.reshape(3,4)"
   ]
  },
  {
   "cell_type": "code",
   "execution_count": 19,
   "id": "6d0e3f0c-3f14-4282-835c-da402d17577e",
   "metadata": {},
   "outputs": [
    {
     "data": {
      "text/plain": [
       "array([[ 1,  2,  3],\n",
       "       [ 4,  5,  6],\n",
       "       [ 7,  8,  9],\n",
       "       [10, 11, 12]])"
      ]
     },
     "execution_count": 19,
     "metadata": {},
     "output_type": "execute_result"
    }
   ],
   "source": [
    "C.reshape(4,3)"
   ]
  },
  {
   "cell_type": "code",
   "execution_count": 20,
   "id": "143064c5-152e-4910-aae9-4dc91ed6b408",
   "metadata": {},
   "outputs": [
    {
     "data": {
      "text/plain": [
       "array([[ 1,  2,  3,  4,  5,  6],\n",
       "       [ 7,  8,  9, 10, 11, 12]])"
      ]
     },
     "execution_count": 20,
     "metadata": {},
     "output_type": "execute_result"
    }
   ],
   "source": [
    "C.reshape(2,6)"
   ]
  },
  {
   "cell_type": "code",
   "execution_count": 21,
   "id": "7eac0cdb-b163-461a-bdbc-0d5d395af0d3",
   "metadata": {},
   "outputs": [
    {
     "data": {
      "text/plain": [
       "array([[ 1,  2],\n",
       "       [ 3,  4],\n",
       "       [ 5,  6],\n",
       "       [ 7,  8],\n",
       "       [ 9, 10],\n",
       "       [11, 12]])"
      ]
     },
     "execution_count": 21,
     "metadata": {},
     "output_type": "execute_result"
    }
   ],
   "source": [
    "C.reshape(6,2)"
   ]
  },
  {
   "cell_type": "code",
   "execution_count": 22,
   "id": "11ae7a58-1bdb-4b46-99e3-88bd98afe8a0",
   "metadata": {},
   "outputs": [
    {
     "ename": "ValueError",
     "evalue": "cannot reshape array of size 12 into shape (7,3)",
     "output_type": "error",
     "traceback": [
      "\u001b[0;31m---------------------------------------------------------------------------\u001b[0m",
      "\u001b[0;31mValueError\u001b[0m                                Traceback (most recent call last)",
      "Cell \u001b[0;32mIn[22], line 1\u001b[0m\n\u001b[0;32m----> 1\u001b[0m \u001b[43mC\u001b[49m\u001b[38;5;241;43m.\u001b[39;49m\u001b[43mreshape\u001b[49m\u001b[43m(\u001b[49m\u001b[38;5;241;43m7\u001b[39;49m\u001b[43m,\u001b[49m\u001b[38;5;241;43m3\u001b[39;49m\u001b[43m)\u001b[49m\n",
      "\u001b[0;31mValueError\u001b[0m: cannot reshape array of size 12 into shape (7,3)"
     ]
    }
   ],
   "source": [
    "C.reshape(7,3)"
   ]
  },
  {
   "cell_type": "code",
   "execution_count": null,
   "id": "c6c54c7a-3af4-4937-852a-85c3c4d16603",
   "metadata": {},
   "outputs": [],
   "source": []
  }
 ],
 "metadata": {
  "kernelspec": {
   "display_name": "Python 3 (ipykernel)",
   "language": "python",
   "name": "python3"
  },
  "language_info": {
   "codemirror_mode": {
    "name": "ipython",
    "version": 3
   },
   "file_extension": ".py",
   "mimetype": "text/x-python",
   "name": "python",
   "nbconvert_exporter": "python",
   "pygments_lexer": "ipython3",
   "version": "3.11.2"
  }
 },
 "nbformat": 4,
 "nbformat_minor": 5
}
