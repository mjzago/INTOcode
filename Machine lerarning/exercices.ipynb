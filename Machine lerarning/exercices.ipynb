{
 "cells": [
  {
   "cell_type": "code",
   "execution_count": null,
   "metadata": {},
   "outputs": [],
   "source": [
    "def x():\n",
    "    quadrados = [i ** 2 for i in range(1, 11)]\n",
    "    return quadrados\n",
    "\n",
    "quadrados = x()\n",
    "print(quadrados)\n",
    "\n",
    "quadrados\n"
   ]
  },
  {
   "cell_type": "code",
   "execution_count": null,
   "metadata": {},
   "outputs": [],
   "source": [
    "quadrados = []\n",
    "for i in range(1, 11):\n",
    "    quadrado = i ** 2\n",
    "    quadrados.append(quadrado)\n",
    "print(quadrados)\n"
   ]
  },
  {
   "cell_type": "code",
   "execution_count": null,
   "metadata": {},
   "outputs": [],
   "source": [
    "import numpy as np\n",
    "matriz = np.arange(1, 31).reshape(10, 3)\n",
    "print(matriz)\n"
   ]
  },
  {
   "cell_type": "code",
   "execution_count": null,
   "metadata": {},
   "outputs": [],
   "source": [
    "num_linhas = 9\n",
    "primeira_linha = [1, 2, 3, 4, 5, 6, 7, 8, 9, 10]\n",
    "\n",
    "for i in range(1, num_linhas + 2):\n",
    "    linha_multiplicada = [x * i for x in primeira_linha]\n",
    "    print(linha_multiplicada)\n",
    "\n"
   ]
  },
  {
   "cell_type": "code",
   "execution_count": null,
   "metadata": {},
   "outputs": [],
   "source": [
    "for i in range (1,11):\n",
    "    print(i*i)"
   ]
  },
  {
   "cell_type": "code",
   "execution_count": null,
   "metadata": {},
   "outputs": [],
   "source": [
    "a = [2., 17., 42., 3., 5., 7., 100., 50.]\n",
    "\n",
    "total = 0\n",
    "for i in a:\n",
    "    sum += i\n",
    "\n",
    "print(sum)\n",
    "  \n",
    "\n"
   ]
  },
  {
   "cell_type": "code",
   "execution_count": null,
   "metadata": {},
   "outputs": [],
   "source": [
    "a = [2., 17., 42., 3., 5., 7., 100., 50.]\n",
    "\n",
    "for i in range(len(a)):\n",
    "    print(f\"a[{i}] = {a[i]}\")\n"
   ]
  },
  {
   "cell_type": "code",
   "execution_count": null,
   "metadata": {},
   "outputs": [],
   "source": [
    "for i in range(1, 11):\n",
    "    j = [x * i for x in primeira_linha]\n",
    "    print(j)\n"
   ]
  },
  {
   "cell_type": "code",
   "execution_count": null,
   "metadata": {},
   "outputs": [],
   "source": [
    "total = 0.0\n",
    "for x in a:\n",
    "    total += x\n",
    "\n",
    "average = total / len(a)\n",
    "print(average)\n"
   ]
  },
  {
   "cell_type": "code",
   "execution_count": null,
   "metadata": {},
   "outputs": [],
   "source": [
    "from math import sqrt\n",
    "\n",
    "total = 0.0\n",
    "for x in a:\n",
    "    total += x\n",
    "\n",
    "average = total / len(a)\n",
    "print(\"Average\", average)\n",
    "\n",
    "squared_diff_sum = 0.0\n",
    "for x in a:\n",
    "    squared_diff_sum += (x - average) ** 2\n",
    "\n",
    "# Step 3: Calculate the mean of the squared differences\n",
    "mean_squared_diff = squared_diff_sum / len(a)\n",
    "\n",
    "# Step 4: Take the square root of the mean of the squared differences\n",
    "std_dev = sqrt(mean_squared_diff)\n",
    "print(\"Standard Deviation:\", std_dev)\n",
    "\n",
    "print(squared_diff_sum)"
   ]
  },
  {
   "cell_type": "code",
   "execution_count": null,
   "metadata": {},
   "outputs": [],
   "source": [
    "import numpy as np\n",
    "np.std(a)\n"
   ]
  },
  {
   "cell_type": "code",
   "execution_count": null,
   "metadata": {},
   "outputs": [],
   "source": [
    "\n"
   ]
  },
  {
   "cell_type": "markdown",
   "metadata": {},
   "source": []
  },
  {
   "cell_type": "code",
   "execution_count": null,
   "metadata": {},
   "outputs": [],
   "source": [
    "square_sum = 0.0\n",
    "for i in range(length(a)):\n",
    "    square_sum += a [i]"
   ]
  },
  {
   "cell_type": "code",
   "execution_count": 85,
   "metadata": {},
   "outputs": [
    {
     "data": {
      "text/plain": [
       "32.123784023679406"
      ]
     },
     "execution_count": 85,
     "metadata": {},
     "output_type": "execute_result"
    }
   ],
   "source": [
    "a = [2., 17., 42., 3., 5., 7., 100., 50.]\n",
    "np.array(a).std()"
   ]
  },
  {
   "cell_type": "code",
   "execution_count": 86,
   "metadata": {},
   "outputs": [
    {
     "data": {
      "text/plain": [
       "120.9958676980334"
      ]
     },
     "execution_count": 86,
     "metadata": {},
     "output_type": "execute_result"
    }
   ],
   "source": [
    "np.linalg.norm(a)"
   ]
  },
  {
   "cell_type": "code",
   "execution_count": 98,
   "metadata": {},
   "outputs": [
    {
     "name": "stdout",
     "output_type": "stream",
     "text": [
      "89.76923076923077\n"
     ]
    }
   ],
   "source": [
    "speed = [99, 86, 87, 88, 111, 86, 103, 87, 94, 78, 77, 85, 86]\n",
    "\n",
    "\n",
    "\n",
    "\n",
    "\n"
   ]
  },
  {
   "cell_type": "code",
   "execution_count": 110,
   "metadata": {},
   "outputs": [
    {
     "name": "stdout",
     "output_type": "stream",
     "text": [
      "Mean: 89.76923076923077\n"
     ]
    }
   ],
   "source": [
    "speed = [99, 86, 87, 88, 111, 86, 103, 87, 94, 78, 77, 85, 86]\n",
    "\n",
    "\n",
    "Mean = 0 \n",
    "\n",
    "for i in speed:\n",
    "    Mean += i \n",
    "\n",
    "print(\"Mean:\", Mean/len(speed))\n",
    "\n",
    "\n",
    "\n",
    "\n"
   ]
  },
  {
   "cell_type": "code",
   "execution_count": 127,
   "metadata": {},
   "outputs": [
    {
     "name": "stdout",
     "output_type": "stream",
     "text": [
      "Median: 87\n"
     ]
    }
   ],
   "source": [
    "speed = [99, 86, 87, 88, 111, 86, 103, 87, 94, 78, 77, 85, 86]\n",
    "\n",
    "# Sort the list in ascending order\n",
    "speed.sort()\n",
    "\n",
    "# Calculate the index of the middle element\n",
    "middle_index = len(speed) // 2\n",
    "\n",
    "# Check if the number of values is odd or even\n",
    "if len(speed) % 2 == 1:\n",
    "    median = speed[middle_index]\n",
    "else:\n",
    "    # If the number of values is even, take the average of the two middle values\n",
    "    median = (speed[middle_index - 1] + speed[middle_index]) / 2\n",
    "\n",
    "# Print the median\n",
    "print(\"Median:\", median)\n",
    "\n"
   ]
  },
  {
   "cell_type": "code",
   "execution_count": 130,
   "metadata": {},
   "outputs": [
    {
     "name": "stdout",
     "output_type": "stream",
     "text": [
      "Mode: 86\n"
     ]
    },
    {
     "data": {
      "text/plain": [
       "[86]"
      ]
     },
     "execution_count": 130,
     "metadata": {},
     "output_type": "execute_result"
    }
   ],
   "source": [
    "from collections import Counter\n",
    "\n",
    "speed = [99, 86, 87, 88, 111, 86, 103, 87, 94, 78, 77, 85, 86]\n",
    "\n",
    "# Use Counter to count the frequency of each value\n",
    "speed_counts = Counter(speed)\n",
    "\n",
    "# Find the value(s) with the highest frequency\n",
    "max_count = max(speed_counts.values())\n",
    "mode = [value for value, count in speed_counts.items() if count == max_count]\n",
    "\n",
    "# If there is more than one mode, mode will be a list\n",
    "if len(mode) > 1:\n",
    "    print(\"Mode:\", mode)\n",
    "else:\n",
    "    print(\"Mode:\", mode[0])\n",
    "\n",
    "\n",
    "\n",
    "speed_counts \n",
    "\n",
    "mode"
   ]
  },
  {
   "cell_type": "code",
   "execution_count": null,
   "metadata": {},
   "outputs": [],
   "source": []
  },
  {
   "cell_type": "code",
   "execution_count": 143,
   "metadata": {},
   "outputs": [
    {
     "name": "stdout",
     "output_type": "stream",
     "text": [
      "5.5\n",
      "5.5\n"
     ]
    }
   ],
   "source": [
    "import numpy as np\n",
    "num = [1, 2, 3, 4, 5, 6, 7, 8, 9, 10,]\n",
    "\n",
    "x = np.mean(num)\n",
    "\n",
    "print(x)\n",
    "\n",
    "\n",
    "y = np.median(num)\n",
    "\n",
    "print(y)\n"
   ]
  },
  {
   "cell_type": "code",
   "execution_count": 147,
   "metadata": {},
   "outputs": [
    {
     "name": "stdout",
     "output_type": "stream",
     "text": [
      "ModeResult(mode=6, count=2)\n"
     ]
    }
   ],
   "source": [
    "from scipy import stats\n",
    "num = [1, 2, 3, 4, 5, 6, 7, 8, 9, 10, 6]\n",
    "z = stats.mode(num)\n",
    "print (z)"
   ]
  }
 ],
 "metadata": {
  "kernelspec": {
   "display_name": "Python 3",
   "language": "python",
   "name": "python3"
  },
  "language_info": {
   "codemirror_mode": {
    "name": "ipython",
    "version": 3
   },
   "file_extension": ".py",
   "mimetype": "text/x-python",
   "name": "python",
   "nbconvert_exporter": "python",
   "pygments_lexer": "ipython3",
   "version": "3.11.3"
  },
  "orig_nbformat": 4
 },
 "nbformat": 4,
 "nbformat_minor": 2
}
