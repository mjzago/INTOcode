{
 "cells": [
  {
   "cell_type": "markdown",
   "id": "f40b2c4d-14c5-4924-a2ce-5647db08ccf0",
   "metadata": {},
   "source": [
    "# Machine Learning 1, Übung 1\n",
    "(c) 2023 by Harald Bögeholz"
   ]
  },
  {
   "cell_type": "markdown",
   "id": "94711969-f153-4601-b9d1-9bc1fe20e215",
   "metadata": {},
   "source": [
    "Der unten stehende Code erzeugt einige pseudo-zufällige Datenpunkte. Sehen Sie sich die Inhalte der Variablen an."
   ]
  },
  {
   "cell_type": "code",
   "execution_count": 95,
   "id": "c4f54377-5747-480c-962a-59463ae4e5c1",
   "metadata": {},
   "outputs": [
    {
     "data": {
      "text/plain": [
       "array([3.74540119, 9.50714306, 7.31993942, 5.98658484, 1.5601864 ,\n",
       "       1.5599452 , 0.58083612, 8.66176146, 6.01115012, 7.08072578,\n",
       "       0.20584494, 9.69909852, 8.32442641, 2.12339111, 1.81824967,\n",
       "       1.8340451 , 3.04242243, 5.24756432, 4.31945019, 2.9122914 ])"
      ]
     },
     "execution_count": 95,
     "metadata": {},
     "output_type": "execute_result"
    }
   ],
   "source": [
    "import numpy as np\n",
    "\n",
    "np.random.seed(42)\n",
    "m = 20\n",
    "x = np.random.rand(m) * 10\n",
    "y = 3.5 * x + 10 + np.random.randn(m) * 5\n",
    "x"
   ]
  },
  {
   "cell_type": "code",
   "execution_count": 96,
   "id": "b99edac0-be11-41c6-a911-c3a77ceacd07",
   "metadata": {},
   "outputs": [
    {
     "data": {
      "text/plain": [
       "array([18.04474856, 44.84623739, 31.07966759, 23.89152844, 22.78889626,\n",
       "       14.33092671, 12.37056745, 33.19242417, 28.31711179, 35.33715317,\n",
       "        4.96548941, 45.82533492, 36.13229898, 15.97340012, 13.35534079,\n",
       "       25.68054877, 20.58099238, 23.07792046, 29.23080021, 14.08880166])"
      ]
     },
     "execution_count": 96,
     "metadata": {},
     "output_type": "execute_result"
    }
   ],
   "source": [
    "y"
   ]
  },
  {
   "cell_type": "markdown",
   "id": "41fad7ef-922e-4101-a6ef-b21a1c7fc43a",
   "metadata": {},
   "source": [
    "Ein paar Zeilen Code zur Vorbereitung des Folgenden:"
   ]
  },
  {
   "cell_type": "code",
   "execution_count": 97,
   "id": "14bb6ef9-afc9-49f1-9cef-e5813ade7c12",
   "metadata": {},
   "outputs": [],
   "source": [
    "import math\n",
    "import matplotlib.pyplot as plt\n",
    "\n",
    "linX = np.array([0,10])\n",
    "y_range = max(y) - min(y)\n",
    "y_min = min(y) - 0.1 * y_range\n",
    "y_max = max(y) + 0.1 * y_range"
   ]
  },
  {
   "cell_type": "markdown",
   "id": "554c715d-0bf2-42f7-b3f4-b0541ba0b0f7",
   "metadata": {},
   "source": [
    "Die folgenden Werte sind von Hand geschätzt:"
   ]
  },
  {
   "cell_type": "code",
   "execution_count": 98,
   "id": "f98f7b5c-a413-447b-a8b1-ac19d60fb3c5",
   "metadata": {},
   "outputs": [],
   "source": [
    "theta_0 = 10.25\n",
    "theta_1 = 3.25"
   ]
  },
  {
   "cell_type": "code",
   "execution_count": 99,
   "id": "a44b4fe2-e5b9-4c0d-a533-71ce0aff3f72",
   "metadata": {},
   "outputs": [
    {
     "data": {
      "text/plain": [
       "[<matplotlib.lines.Line2D at 0x1185f7710>]"
      ]
     },
     "execution_count": 99,
     "metadata": {},
     "output_type": "execute_result"
    },
    {
     "data": {
      "image/png": "[encoded data removed]",
      "text/plain": [
       "<Figure size 640x480 with 1 Axes>"
      ]
     },
     "metadata": {},
     "output_type": "display_data"
    }
   ],
   "source": [
    "plt.plot(x,y,\"b.\")\n",
    "plt.plot(linX, theta_0+linX*theta_1, \"r-\")"
   ]
  },
  {
   "cell_type": "markdown",
   "id": "361e3dd8-bd5d-4a26-bb2e-bda1a4e1f53d",
   "metadata": {},
   "source": [
    "Der Vektor `x` enthält die Eingabedaten"
   ]
  },
  {
   "cell_type": "code",
   "execution_count": 100,
   "id": "25b84a8b-f2f3-40eb-8b4a-c8c0b42feb50",
   "metadata": {},
   "outputs": [
    {
     "data": {
      "text/plain": [
       "array([3.74540119, 9.50714306, 7.31993942, 5.98658484, 1.5601864 ,\n",
       "       1.5599452 , 0.58083612, 8.66176146, 6.01115012, 7.08072578,\n",
       "       0.20584494, 9.69909852, 8.32442641, 2.12339111, 1.81824967,\n",
       "       1.8340451 , 3.04242243, 5.24756432, 4.31945019, 2.9122914 ])"
      ]
     },
     "execution_count": 100,
     "metadata": {},
     "output_type": "execute_result"
    }
   ],
   "source": [
    "x"
   ]
  },
  {
   "cell_type": "markdown",
   "id": "7f396d4e-c4d3-4656-bd4e-ea27ceecfd29",
   "metadata": {},
   "source": [
    "Der Vektor `y` enthält die zugehörigen Ausgabedaten:"
   ]
  },
  {
   "cell_type": "code",
   "execution_count": 101,
   "id": "5b85db1d-32b9-4131-90c0-37f1d37a1b8c",
   "metadata": {},
   "outputs": [
    {
     "data": {
      "text/plain": [
       "array([18.04474856, 44.84623739, 31.07966759, 23.89152844, 22.78889626,\n",
       "       14.33092671, 12.37056745, 33.19242417, 28.31711179, 35.33715317,\n",
       "        4.96548941, 45.82533492, 36.13229898, 15.97340012, 13.35534079,\n",
       "       25.68054877, 20.58099238, 23.07792046, 29.23080021, 14.08880166])"
      ]
     },
     "execution_count": 101,
     "metadata": {},
     "output_type": "execute_result"
    }
   ],
   "source": [
    "y"
   ]
  },
  {
   "cell_type": "markdown",
   "id": "1cd8688e-9052-4bfc-a42a-5ac618d92159",
   "metadata": {},
   "source": [
    "Das lineare Modell liefert folgende Werte (man beachte: numpy kann einen Vektor `x` mit einer Zahl `theta_1` komponentenweise multiplizieren)"
   ]
  },
  {
   "cell_type": "code",
   "execution_count": 102,
   "id": "275231ef-1c94-4689-9ac3-b05fab3f8191",
   "metadata": {},
   "outputs": [
    {
     "data": {
      "text/plain": [
       "array([22.42255386, 41.14821496, 34.03980311, 29.70640074, 15.32060581,\n",
       "       15.31982191, 12.1377174 , 38.40072474, 29.78623788, 33.26235878,\n",
       "       10.91899606, 41.7720702 , 37.30438583, 17.1510211 , 16.15931143,\n",
       "       16.21064657, 20.1378729 , 27.30458403, 24.28821311, 19.71494706])"
      ]
     },
     "execution_count": 102,
     "metadata": {},
     "output_type": "execute_result"
    }
   ],
   "source": [
    "theta_0 + x * theta_1"
   ]
  },
  {
   "cell_type": "markdown",
   "id": "fd3626ee-f400-4750-be1f-4c966f4f65d4",
   "metadata": {},
   "source": [
    "Der Fehler ist die Differenz zwischen dem Modell und den tatsächlichen Werten in `y`. Es gibt positive und negative Abweichungen (die Gerade verläuft über oder unter den Datenpunkten)"
   ]
  },
  {
   "cell_type": "code",
   "execution_count": 103,
   "id": "cf83ff33-9eac-49c8-9060-d4bf92ef2f2d",
   "metadata": {},
   "outputs": [
    {
     "data": {
      "text/plain": [
       "array([ 4.3778053 , -3.69802243,  2.96013552,  5.8148723 , -7.46829045,\n",
       "        0.9888952 , -0.23285005,  5.20830057,  1.46912609, -2.07479439,\n",
       "        5.95350665, -4.05326472,  1.17208685,  1.17762097,  2.80397064,\n",
       "       -9.4699022 , -0.44311948,  4.22666357, -4.94258711,  5.6261454 ])"
      ]
     },
     "execution_count": 103,
     "metadata": {},
     "output_type": "execute_result"
    }
   ],
   "source": [
    "theta_0 + x * theta_1 - y"
   ]
  },
  {
   "cell_type": "markdown",
   "id": "984d26ea-71bd-4a2b-9724-2060236c6890",
   "metadata": {},
   "source": [
    "Wir quadrieren den Fehler. Dann sind alle Werte positiv."
   ]
  },
  {
   "cell_type": "code",
   "execution_count": 104,
   "id": "09156f53-bd2e-496d-a70c-7169088e56ac",
   "metadata": {},
   "outputs": [
    {
     "data": {
      "text/plain": [
       "array([1.91651793e+01, 1.36753699e+01, 8.76240231e+00, 3.38127398e+01,\n",
       "       5.57753622e+01, 9.77913720e-01, 5.42191476e-02, 2.71263948e+01,\n",
       "       2.15833148e+00, 4.30477177e+00, 3.54442414e+01, 1.64289549e+01,\n",
       "       1.37378758e+00, 1.38679115e+00, 7.86225137e+00, 8.96790476e+01,\n",
       "       1.96354877e-01, 1.78646849e+01, 2.44291673e+01, 3.16535121e+01])"
      ]
     },
     "execution_count": 104,
     "metadata": {},
     "output_type": "execute_result"
    }
   ],
   "source": [
    "(theta_0 + x * theta_1 - y) ** 2"
   ]
  },
  {
   "cell_type": "markdown",
   "id": "c387f292-4a5b-4837-88b6-608a2fc4f29b",
   "metadata": {},
   "source": [
    "So können wir den mittleren quadratischen Fehler (MSE) berechnen:"
   ]
  },
  {
   "cell_type": "code",
   "execution_count": 105,
   "id": "384aa408-3579-4586-90e9-d5d01144dfe7",
   "metadata": {},
   "outputs": [
    {
     "data": {
      "text/plain": [
       "19.606573880949234"
      ]
     },
     "execution_count": 105,
     "metadata": {},
     "output_type": "execute_result"
    }
   ],
   "source": [
    "np.sum((theta_0 + x * theta_1 - y) ** 2) / m"
   ]
  },
  {
   "cell_type": "code",
   "execution_count": 106,
   "id": "c3debaa7-5865-4d9d-8c33-ef5f91128768",
   "metadata": {},
   "outputs": [
    {
     "data": {
      "text/plain": [
       "array([[1.        , 3.74540119],\n",
       "       [1.        , 9.50714306],\n",
       "       [1.        , 7.31993942],\n",
       "       [1.        , 5.98658484],\n",
       "       [1.        , 1.5601864 ],\n",
       "       [1.        , 1.5599452 ],\n",
       "       [1.        , 0.58083612],\n",
       "       [1.        , 8.66176146],\n",
       "       [1.        , 6.01115012],\n",
       "       [1.        , 7.08072578],\n",
       "       [1.        , 0.20584494],\n",
       "       [1.        , 9.69909852],\n",
       "       [1.        , 8.32442641],\n",
       "       [1.        , 2.12339111],\n",
       "       [1.        , 1.81824967],\n",
       "       [1.        , 1.8340451 ],\n",
       "       [1.        , 3.04242243],\n",
       "       [1.        , 5.24756432],\n",
       "       [1.        , 4.31945019],\n",
       "       [1.        , 2.9122914 ]])"
      ]
     },
     "execution_count": 106,
     "metadata": {},
     "output_type": "execute_result"
    }
   ],
   "source": [
    "X = np.c_[np.ones(m), x]\n",
    "X"
   ]
  },
  {
   "cell_type": "code",
   "execution_count": 107,
   "id": "20f72fb7-2632-4002-a47e-d64f96a7b362",
   "metadata": {},
   "outputs": [],
   "source": [
    "theta_best = np.linalg.inv(X.T @ X) @ X.T @ y\n",
    "theta_best\n",
    "theta_0, theta_1 = theta_best"
   ]
  },
  {
   "cell_type": "code",
   "execution_count": 108,
   "id": "be8d473a-06ce-4dea-a2ce-acd954616e6b",
   "metadata": {},
   "outputs": [
    {
     "data": {
      "text/plain": [
       "[<matplotlib.lines.Line2D at 0x11865d690>]"
      ]
     },
     "execution_count": 108,
     "metadata": {},
     "output_type": "execute_result"
    },
    {
     "data": {
      "image/png": "[encoded data removed]",
      "text/plain": [
       "<Figure size 640x480 with 1 Axes>"
      ]
     },
     "metadata": {},
     "output_type": "display_data"
    }
   ],
   "source": [
    "plt.plot(x,y,\"b.\")\n",
    "plt.plot(linX, theta_0+linX*theta_1, \"r-\")"
   ]
  },
  {
   "cell_type": "code",
   "execution_count": 109,
   "id": "a2726218-8723-428c-8abc-1399676f69de",
   "metadata": {},
   "outputs": [
    {
     "data": {
      "text/plain": [
       "19.385233111742174"
      ]
     },
     "execution_count": 109,
     "metadata": {},
     "output_type": "execute_result"
    }
   ],
   "source": [
    "np.sum((theta_0 + x * theta_1 - y) ** 2) / m"
   ]
  },
  {
   "cell_type": "code",
   "execution_count": null,
   "id": "fcbd643f-dce1-4a08-9439-23d1eb4b0897",
   "metadata": {},
   "outputs": [],
   "source": []
  }
 ],
 "metadata": {
  "kernelspec": {
   "display_name": "Python 3 (ipykernel)",
   "language": "python",
   "name": "python3"
  },
  "language_info": {
   "codemirror_mode": {
    "name": "ipython",
    "version": 3
   },
   "file_extension": ".py",
   "mimetype": "text/x-python",
   "name": "python",
   "nbconvert_exporter": "python",
   "pygments_lexer": "ipython3",
   "version": "3.11.2"
  }
 },
 "nbformat": 4,
 "nbformat_minor": 5
}
