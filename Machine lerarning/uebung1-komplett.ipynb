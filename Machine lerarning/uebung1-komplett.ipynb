{
 "cells": [
  {
   "cell_type": "markdown",
   "id": "f40b2c4d-14c5-4924-a2ce-5647db08ccf0",
   "metadata": {},
   "source": [
    "# Machine Learning 1, Übung 1\n",
    "(c) 2023 by Harald Bögeholz"
   ]
  },
  {
   "cell_type": "markdown",
   "id": "94711969-f153-4601-b9d1-9bc1fe20e215",
   "metadata": {},
   "source": [
    "Der unten stehende Code erzeugt einige pseudo-zufällige Datenpunkte. Sehen Sie sich die Inhalte der Variablen an."
   ]
  },
  {
   "cell_type": "code",
   "execution_count": 1,
   "id": "c4f54377-5747-480c-962a-59463ae4e5c1",
   "metadata": {},
   "outputs": [
    {
     "data": {
      "text/plain": [
       "array([3.74540119, 9.50714306, 7.31993942, 5.98658484, 1.5601864 ,\n",
       "       1.5599452 , 0.58083612, 8.66176146, 6.01115012, 7.08072578,\n",
       "       0.20584494, 9.69909852, 8.32442641, 2.12339111, 1.81824967,\n",
       "       1.8340451 , 3.04242243, 5.24756432, 4.31945019, 2.9122914 ])"
      ]
     },
     "execution_count": 1,
     "metadata": {},
     "output_type": "execute_result"
    }
   ],
   "source": [
    "import numpy as np\n",
    "\n",
    "np.random.seed(42)\n",
    "m = 20\n",
    "x = np.random.rand(m) * 10\n",
    "y = 3.5 * x + 10 + np.random.randn(m) * 5\n",
    "x"
   ]
  },
  {
   "cell_type": "code",
   "execution_count": 2,
   "id": "b99edac0-be11-41c6-a911-c3a77ceacd07",
   "metadata": {},
   "outputs": [
    {
     "data": {
      "text/plain": [
       "array([18.04474856, 44.84623739, 31.07966759, 23.89152844, 22.78889626,\n",
       "       14.33092671, 12.37056745, 33.19242417, 28.31711179, 35.33715317,\n",
       "        4.96548941, 45.82533492, 36.13229898, 15.97340012, 13.35534079,\n",
       "       25.68054877, 20.58099238, 23.07792046, 29.23080021, 14.08880166])"
      ]
     },
     "execution_count": 2,
     "metadata": {},
     "output_type": "execute_result"
    }
   ],
   "source": [
    "y"
   ]
  },
  {
   "cell_type": "markdown",
   "id": "41fad7ef-922e-4101-a6ef-b21a1c7fc43a",
   "metadata": {},
   "source": [
    "Ein paar Zeilen Code zur Vorbereitung des Folgenden:"
   ]
  },
  {
   "cell_type": "code",
   "execution_count": 3,
   "id": "14bb6ef9-afc9-49f1-9cef-e5813ade7c12",
   "metadata": {},
   "outputs": [],
   "source": [
    "import math\n",
    "import matplotlib.pyplot as plt\n",
    "\n",
    "linX = np.array([0,10])\n",
    "y_range = max(y) - min(y)\n",
    "y_min = min(y) - 0.1 * y_range\n",
    "y_max = max(y) + 0.1 * y_range"
   ]
  },
  {
   "cell_type": "markdown",
   "id": "554c715d-0bf2-42f7-b3f4-b0541ba0b0f7",
   "metadata": {},
   "source": [
    "Die folgenden Werte sind von Hand geschätzt:"
   ]
  },
  {
   "cell_type": "code",
   "execution_count": 4,
   "id": "f98f7b5c-a413-447b-a8b1-ac19d60fb3c5",
   "metadata": {},
   "outputs": [],
   "source": [
    "theta_0 = 3\n",
    "theta_1 = 5"
   ]
  },
  {
   "cell_type": "code",
   "execution_count": 5,
   "id": "a44b4fe2-e5b9-4c0d-a533-71ce0aff3f72",
   "metadata": {},
   "outputs": [
    {
     "data": {
      "text/plain": [
       "[<matplotlib.lines.Line2D at 0x11214fdd0>]"
      ]
     },
     "execution_count": 5,
     "metadata": {},
     "output_type": "execute_result"
    },
    {
     "data": {
      "image/png": "[encoded data removed]",
      "text/plain": [
       "<Figure size 640x480 with 1 Axes>"
      ]
     },
     "metadata": {},
     "output_type": "display_data"
    }
   ],
   "source": [
    "plt.plot(x,y,\"b.\")\n",
    "plt.plot(linX, theta_0+linX*theta_1, \"r-\")"
   ]
  },
  {
   "cell_type": "markdown",
   "id": "361e3dd8-bd5d-4a26-bb2e-bda1a4e1f53d",
   "metadata": {},
   "source": [
    "Der Vektor `x` enthält die Eingabedaten"
   ]
  },
  {
   "cell_type": "code",
   "execution_count": 6,
   "id": "25b84a8b-f2f3-40eb-8b4a-c8c0b42feb50",
   "metadata": {},
   "outputs": [
    {
     "data": {
      "text/plain": [
       "array([3.74540119, 9.50714306, 7.31993942, 5.98658484, 1.5601864 ,\n",
       "       1.5599452 , 0.58083612, 8.66176146, 6.01115012, 7.08072578,\n",
       "       0.20584494, 9.69909852, 8.32442641, 2.12339111, 1.81824967,\n",
       "       1.8340451 , 3.04242243, 5.24756432, 4.31945019, 2.9122914 ])"
      ]
     },
     "execution_count": 6,
     "metadata": {},
     "output_type": "execute_result"
    }
   ],
   "source": [
    "x"
   ]
  },
  {
   "cell_type": "markdown",
   "id": "7f396d4e-c4d3-4656-bd4e-ea27ceecfd29",
   "metadata": {},
   "source": [
    "Der Vektor `y` enthält die zugehörigen Ausgabedaten:"
   ]
  },
  {
   "cell_type": "code",
   "execution_count": 7,
   "id": "5b85db1d-32b9-4131-90c0-37f1d37a1b8c",
   "metadata": {},
   "outputs": [
    {
     "data": {
      "text/plain": [
       "array([18.04474856, 44.84623739, 31.07966759, 23.89152844, 22.78889626,\n",
       "       14.33092671, 12.37056745, 33.19242417, 28.31711179, 35.33715317,\n",
       "        4.96548941, 45.82533492, 36.13229898, 15.97340012, 13.35534079,\n",
       "       25.68054877, 20.58099238, 23.07792046, 29.23080021, 14.08880166])"
      ]
     },
     "execution_count": 7,
     "metadata": {},
     "output_type": "execute_result"
    }
   ],
   "source": [
    "y"
   ]
  },
  {
   "cell_type": "markdown",
   "id": "1cd8688e-9052-4bfc-a42a-5ac618d92159",
   "metadata": {},
   "source": [
    "Das lineare Modell liefert folgende Werte (man beachte: numpy kann einen Vektor `x` mit einer Zahl `theta_1` komponentenweise multiplizieren)"
   ]
  },
  {
   "cell_type": "code",
   "execution_count": 8,
   "id": "275231ef-1c94-4689-9ac3-b05fab3f8191",
   "metadata": {},
   "outputs": [
    {
     "data": {
      "text/plain": [
       "array([21.72700594, 50.53571532, 39.59969709, 32.93292421, 10.80093202,\n",
       "       10.79972602,  5.90418061, 46.30880729, 33.05575059, 38.40362889,\n",
       "        4.02922471, 51.49549261, 44.62213204, 13.61695553, 12.09124836,\n",
       "       12.17022549, 18.21211215, 29.23782158, 24.59725093, 17.56145701])"
      ]
     },
     "execution_count": 8,
     "metadata": {},
     "output_type": "execute_result"
    }
   ],
   "source": [
    "theta_0 + x * theta_1"
   ]
  },
  {
   "cell_type": "markdown",
   "id": "fd3626ee-f400-4750-be1f-4c966f4f65d4",
   "metadata": {},
   "source": [
    "Der Fehler ist die Differenz zwischen dem Modell und den tatsächlichen Werten in `y`. Es gibt positive und negative Abweichungen (die Gerade verläuft über oder unter den Datenpunkten)"
   ]
  },
  {
   "cell_type": "code",
   "execution_count": 9,
   "id": "cf83ff33-9eac-49c8-9060-d4bf92ef2f2d",
   "metadata": {},
   "outputs": [
    {
     "data": {
      "text/plain": [
       "array([  3.68225738,   5.68947793,   8.5200295 ,   9.04139577,\n",
       "       -11.98796424,  -3.53120069,  -6.46638684,  13.11638312,\n",
       "         4.7386388 ,   3.06647572,  -0.9362647 ,   5.67015769,\n",
       "         8.48983306,  -2.35644459,  -1.26409243, -13.51032327,\n",
       "        -2.36888023,   6.15990112,  -4.63354928,   3.47265535])"
      ]
     },
     "execution_count": 9,
     "metadata": {},
     "output_type": "execute_result"
    }
   ],
   "source": [
    "theta_0 + x * theta_1 - y"
   ]
  },
  {
   "cell_type": "markdown",
   "id": "984d26ea-71bd-4a2b-9724-2060236c6890",
   "metadata": {},
   "source": [
    "Wir quadrieren den Fehler. Dann sind alle Werte positiv."
   ]
  },
  {
   "cell_type": "code",
   "execution_count": 10,
   "id": "09156f53-bd2e-496d-a70c-7169088e56ac",
   "metadata": {},
   "outputs": [
    {
     "data": {
      "text/plain": [
       "array([ 13.55901944,  32.37015915,  72.59090276,  81.74683746,\n",
       "       143.71128657,  12.46937833,  41.81415878, 172.03950609,\n",
       "        22.45469767,   9.40327333,   0.87659159,  32.15068824,\n",
       "        72.07726541,   5.55283111,   1.59792967, 182.52883499,\n",
       "         5.61159355,  37.9443818 ,  21.46977894,  12.0593352 ])"
      ]
     },
     "execution_count": 10,
     "metadata": {},
     "output_type": "execute_result"
    }
   ],
   "source": [
    "(theta_0 + x * theta_1 - y) ** 2"
   ]
  },
  {
   "cell_type": "markdown",
   "id": "c387f292-4a5b-4837-88b6-608a2fc4f29b",
   "metadata": {},
   "source": [
    "So können wir den mittleren quadratischen Fehler (MSE) berechnen:"
   ]
  },
  {
   "cell_type": "code",
   "execution_count": 11,
   "id": "384aa408-3579-4586-90e9-d5d01144dfe7",
   "metadata": {},
   "outputs": [
    {
     "data": {
      "text/plain": [
       "48.701422504276714"
      ]
     },
     "execution_count": 11,
     "metadata": {},
     "output_type": "execute_result"
    }
   ],
   "source": [
    "np.sum((theta_0 + x * theta_1 - y) ** 2) / m"
   ]
  },
  {
   "cell_type": "code",
   "execution_count": 12,
   "id": "c3debaa7-5865-4d9d-8c33-ef5f91128768",
   "metadata": {},
   "outputs": [
    {
     "data": {
      "text/plain": [
       "array([[1.        , 3.74540119],\n",
       "       [1.        , 9.50714306],\n",
       "       [1.        , 7.31993942],\n",
       "       [1.        , 5.98658484],\n",
       "       [1.        , 1.5601864 ],\n",
       "       [1.        , 1.5599452 ],\n",
       "       [1.        , 0.58083612],\n",
       "       [1.        , 8.66176146],\n",
       "       [1.        , 6.01115012],\n",
       "       [1.        , 7.08072578],\n",
       "       [1.        , 0.20584494],\n",
       "       [1.        , 9.69909852],\n",
       "       [1.        , 8.32442641],\n",
       "       [1.        , 2.12339111],\n",
       "       [1.        , 1.81824967],\n",
       "       [1.        , 1.8340451 ],\n",
       "       [1.        , 3.04242243],\n",
       "       [1.        , 5.24756432],\n",
       "       [1.        , 4.31945019],\n",
       "       [1.        , 2.9122914 ]])"
      ]
     },
     "execution_count": 12,
     "metadata": {},
     "output_type": "execute_result"
    }
   ],
   "source": [
    "X = np.c_[np.ones(m), x]\n",
    "X"
   ]
  },
  {
   "cell_type": "code",
   "execution_count": 13,
   "id": "32729285-d9ce-4488-a06d-a0deb14fd50e",
   "metadata": {},
   "outputs": [
    {
     "data": {
      "text/plain": [
       "array([[ 20.        ,  91.54045768],\n",
       "       [ 91.54045768, 598.85806554]])"
      ]
     },
     "execution_count": 13,
     "metadata": {},
     "output_type": "execute_result"
    }
   ],
   "source": [
    "X.T @ X"
   ]
  },
  {
   "cell_type": "code",
   "execution_count": 14,
   "id": "20f72fb7-2632-4002-a47e-d64f96a7b362",
   "metadata": {},
   "outputs": [
    {
     "data": {
      "text/plain": [
       "array([9.81802502, 3.24173263])"
      ]
     },
     "execution_count": 14,
     "metadata": {},
     "output_type": "execute_result"
    }
   ],
   "source": [
    "theta_best = np.linalg.inv(X.T @ X) @ X.T @ y\n",
    "theta_0, theta_1 = theta_best\n",
    "theta_best"
   ]
  },
  {
   "cell_type": "code",
   "execution_count": 15,
   "id": "be8d473a-06ce-4dea-a2ce-acd954616e6b",
   "metadata": {},
   "outputs": [
    {
     "data": {
      "text/plain": [
       "[<matplotlib.lines.Line2D at 0x1121a2090>]"
      ]
     },
     "execution_count": 15,
     "metadata": {},
     "output_type": "execute_result"
    },
    {
     "data": {
      "image/png": "[encoded data removed]",
      "text/plain": [
       "<Figure size 640x480 with 1 Axes>"
      ]
     },
     "metadata": {},
     "output_type": "display_data"
    }
   ],
   "source": [
    "plt.plot(x,y,\"b.\")\n",
    "plt.plot(linX, theta_0+linX*theta_1, \"r-\")"
   ]
  },
  {
   "cell_type": "code",
   "execution_count": 16,
   "id": "a2726218-8723-428c-8abc-1399676f69de",
   "metadata": {},
   "outputs": [
    {
     "data": {
      "text/plain": [
       "19.385233111742174"
      ]
     },
     "execution_count": 16,
     "metadata": {},
     "output_type": "execute_result"
    }
   ],
   "source": [
    "np.sum((theta_0 + x * theta_1 - y) ** 2) / m"
   ]
  },
  {
   "cell_type": "code",
   "execution_count": 17,
   "id": "fcbd643f-dce1-4a08-9439-23d1eb4b0897",
   "metadata": {},
   "outputs": [
    {
     "data": {
      "text/plain": [
       "array([18.04474856, 44.84623739, 31.07966759, 23.89152844, 22.78889626,\n",
       "       14.33092671, 12.37056745, 33.19242417, 28.31711179, 35.33715317,\n",
       "        4.96548941, 45.82533492, 36.13229898, 15.97340012, 13.35534079,\n",
       "       25.68054877, 20.58099238, 23.07792046, 29.23080021, 14.08880166])"
      ]
     },
     "execution_count": 17,
     "metadata": {},
     "output_type": "execute_result"
    }
   ],
   "source": [
    "y"
   ]
  },
  {
   "cell_type": "code",
   "execution_count": 18,
   "id": "1c1b105f-9797-4e1a-bbd1-dc3b1a91db8f",
   "metadata": {},
   "outputs": [
    {
     "data": {
      "text/plain": [
       "24.655509461279415"
      ]
     },
     "execution_count": 18,
     "metadata": {},
     "output_type": "execute_result"
    }
   ],
   "source": [
    "y_avg = np.sum(y) / m\n",
    "y_avg"
   ]
  },
  {
   "cell_type": "code",
   "execution_count": 19,
   "id": "e36deac8-f106-4bf2-8e7e-8053992d1ba7",
   "metadata": {},
   "outputs": [
    {
     "data": {
      "text/plain": [
       "array([ 43.70215972, 407.66549418,  41.26980761,   0.583667  ,\n",
       "         3.48424484, 106.597009  , 150.91980024,  72.87891276,\n",
       "        13.4073316 , 114.09751235, 387.69688949, 448.16150984,\n",
       "       131.71669762,  75.37902253, 127.69381197,   1.05070558,\n",
       "        16.60168945,   2.48878705,  20.93328546, 111.65531382])"
      ]
     },
     "execution_count": 19,
     "metadata": {},
     "output_type": "execute_result"
    }
   ],
   "source": [
    "(y - y_avg)**2"
   ]
  },
  {
   "cell_type": "markdown",
   "id": "efe6549c-7811-42b6-a83b-dc741db970b9",
   "metadata": {},
   "source": [
    "Der R^2-Wert errechnet sich nach der Formel in der Präsentation."
   ]
  },
  {
   "cell_type": "code",
   "execution_count": 20,
   "id": "eb52813e-9946-43ff-b73b-1e33d1edaeb1",
   "metadata": {},
   "outputs": [
    {
     "data": {
      "text/plain": [
       "0.829803580077148"
      ]
     },
     "execution_count": 20,
     "metadata": {},
     "output_type": "execute_result"
    }
   ],
   "source": [
    "1 - np.sum((theta_0 + x * theta_1 - y) ** 2) / np.sum((y - y_avg)**2)"
   ]
  },
  {
   "cell_type": "code",
   "execution_count": 21,
   "id": "0deded02-e638-4db2-a639-771c36d60e63",
   "metadata": {},
   "outputs": [],
   "source": [
    "from sklearn.linear_model import LinearRegression"
   ]
  },
  {
   "cell_type": "code",
   "execution_count": 22,
   "id": "f7bb3c45-0f85-45d2-b1da-9ac39ba8fd84",
   "metadata": {},
   "outputs": [],
   "source": [
    "model = LinearRegression()"
   ]
  },
  {
   "cell_type": "code",
   "execution_count": 23,
   "id": "41387c47-bfc3-4072-9e7b-7823eee54c0d",
   "metadata": {},
   "outputs": [
    {
     "data": {
      "text/plain": [
       "array([3.74540119, 9.50714306, 7.31993942, 5.98658484, 1.5601864 ,\n",
       "       1.5599452 , 0.58083612, 8.66176146, 6.01115012, 7.08072578,\n",
       "       0.20584494, 9.69909852, 8.32442641, 2.12339111, 1.81824967,\n",
       "       1.8340451 , 3.04242243, 5.24756432, 4.31945019, 2.9122914 ])"
      ]
     },
     "execution_count": 23,
     "metadata": {},
     "output_type": "execute_result"
    }
   ],
   "source": [
    "x"
   ]
  },
  {
   "cell_type": "code",
   "execution_count": 24,
   "id": "b92fd57e-c4f5-40f5-852c-49c7588f0249",
   "metadata": {},
   "outputs": [
    {
     "data": {
      "text/plain": [
       "array([[3.74540119],\n",
       "       [9.50714306],\n",
       "       [7.31993942],\n",
       "       [5.98658484],\n",
       "       [1.5601864 ],\n",
       "       [1.5599452 ],\n",
       "       [0.58083612],\n",
       "       [8.66176146],\n",
       "       [6.01115012],\n",
       "       [7.08072578],\n",
       "       [0.20584494],\n",
       "       [9.69909852],\n",
       "       [8.32442641],\n",
       "       [2.12339111],\n",
       "       [1.81824967],\n",
       "       [1.8340451 ],\n",
       "       [3.04242243],\n",
       "       [5.24756432],\n",
       "       [4.31945019],\n",
       "       [2.9122914 ]])"
      ]
     },
     "execution_count": 24,
     "metadata": {},
     "output_type": "execute_result"
    }
   ],
   "source": [
    "X = x.reshape(m,1)\n",
    "X"
   ]
  },
  {
   "cell_type": "code",
   "execution_count": 25,
   "id": "898e2f5a-7432-4a74-ac0d-accaea10ba11",
   "metadata": {},
   "outputs": [
    {
     "data": {
      "text/html": [
       "<style>#sk-container-id-1 {color: black;}#sk-container-id-1 pre{padding: 0;}#sk-container-id-1 div.sk-toggleable {background-color: white;}#sk-container-id-1 label.sk-toggleable__label {cursor: pointer;display: block;width: 100%;margin-bottom: 0;padding: 0.3em;box-sizing: border-box;text-align: center;}#sk-container-id-1 label.sk-toggleable__label-arrow:before {content: \"▸\";float: left;margin-right: 0.25em;color: #696969;}#sk-container-id-1 label.sk-toggleable__label-arrow:hover:before {color: black;}#sk-container-id-1 div.sk-estimator:hover label.sk-toggleable__label-arrow:before {color: black;}#sk-container-id-1 div.sk-toggleable__content {max-height: 0;max-width: 0;overflow: hidden;text-align: left;background-color: #f0f8ff;}#sk-container-id-1 div.sk-toggleable__content pre {margin: 0.2em;color: black;border-radius: 0.25em;background-color: #f0f8ff;}#sk-container-id-1 input.sk-toggleable__control:checked~div.sk-toggleable__content {max-height: 200px;max-width: 100%;overflow: auto;}#sk-container-id-1 input.sk-toggleable__control:checked~label.sk-toggleable__label-arrow:before {content: \"▾\";}#sk-container-id-1 div.sk-estimator input.sk-toggleable__control:checked~label.sk-toggleable__label {background-color: #d4ebff;}#sk-container-id-1 div.sk-label input.sk-toggleable__control:checked~label.sk-toggleable__label {background-color: #d4ebff;}#sk-container-id-1 input.sk-hidden--visually {border: 0;clip: rect(1px 1px 1px 1px);clip: rect(1px, 1px, 1px, 1px);height: 1px;margin: -1px;overflow: hidden;padding: 0;position: absolute;width: 1px;}#sk-container-id-1 div.sk-estimator {font-family: monospace;background-color: #f0f8ff;border: 1px dotted black;border-radius: 0.25em;box-sizing: border-box;margin-bottom: 0.5em;}#sk-container-id-1 div.sk-estimator:hover {background-color: #d4ebff;}#sk-container-id-1 div.sk-parallel-item::after {content: \"\";width: 100%;border-bottom: 1px solid gray;flex-grow: 1;}#sk-container-id-1 div.sk-label:hover label.sk-toggleable__label {background-color: #d4ebff;}#sk-container-id-1 div.sk-serial::before {content: \"\";position: absolute;border-left: 1px solid gray;box-sizing: border-box;top: 0;bottom: 0;left: 50%;z-index: 0;}#sk-container-id-1 div.sk-serial {display: flex;flex-direction: column;align-items: center;background-color: white;padding-right: 0.2em;padding-left: 0.2em;position: relative;}#sk-container-id-1 div.sk-item {position: relative;z-index: 1;}#sk-container-id-1 div.sk-parallel {display: flex;align-items: stretch;justify-content: center;background-color: white;position: relative;}#sk-container-id-1 div.sk-item::before, #sk-container-id-1 div.sk-parallel-item::before {content: \"\";position: absolute;border-left: 1px solid gray;box-sizing: border-box;top: 0;bottom: 0;left: 50%;z-index: -1;}#sk-container-id-1 div.sk-parallel-item {display: flex;flex-direction: column;z-index: 1;position: relative;background-color: white;}#sk-container-id-1 div.sk-parallel-item:first-child::after {align-self: flex-end;width: 50%;}#sk-container-id-1 div.sk-parallel-item:last-child::after {align-self: flex-start;width: 50%;}#sk-container-id-1 div.sk-parallel-item:only-child::after {width: 0;}#sk-container-id-1 div.sk-dashed-wrapped {border: 1px dashed gray;margin: 0 0.4em 0.5em 0.4em;box-sizing: border-box;padding-bottom: 0.4em;background-color: white;}#sk-container-id-1 div.sk-label label {font-family: monospace;font-weight: bold;display: inline-block;line-height: 1.2em;}#sk-container-id-1 div.sk-label-container {text-align: center;}#sk-container-id-1 div.sk-container {/* jupyter's `normalize.less` sets `[hidden] { display: none; }` but bootstrap.min.css set `[hidden] { display: none !important; }` so we also need the `!important` here to be able to override the default hidden behavior on the sphinx rendered scikit-learn.org. See: https://github.com/scikit-learn/scikit-learn/issues/21755 */display: inline-block !important;position: relative;}#sk-container-id-1 div.sk-text-repr-fallback {display: none;}</style><div id=\"sk-container-id-1\" class=\"sk-top-container\"><div class=\"sk-text-repr-fallback\"><pre>LinearRegression()</pre><b>In a Jupyter environment, please rerun this cell to show the HTML representation or trust the notebook. <br />On GitHub, the HTML representation is unable to render, please try loading this page with nbviewer.org.</b></div><div class=\"sk-container\" hidden><div class=\"sk-item\"><div class=\"sk-estimator sk-toggleable\"><input class=\"sk-toggleable__control sk-hidden--visually\" id=\"sk-estimator-id-1\" type=\"checkbox\" checked><label for=\"sk-estimator-id-1\" class=\"sk-toggleable__label sk-toggleable__label-arrow\">LinearRegression</label><div class=\"sk-toggleable__content\"><pre>LinearRegression()</pre></div></div></div></div></div>"
      ],
      "text/plain": [
       "LinearRegression()"
      ]
     },
     "execution_count": 25,
     "metadata": {},
     "output_type": "execute_result"
    }
   ],
   "source": [
    "model.fit(X, y)"
   ]
  },
  {
   "cell_type": "code",
   "execution_count": 26,
   "id": "778a38d9-761c-49c2-adce-7c3a65a91e7f",
   "metadata": {},
   "outputs": [
    {
     "data": {
      "text/plain": [
       "array([3.24173263])"
      ]
     },
     "execution_count": 26,
     "metadata": {},
     "output_type": "execute_result"
    }
   ],
   "source": [
    "model.coef_"
   ]
  },
  {
   "cell_type": "code",
   "execution_count": 27,
   "id": "8cfc8abc-7d60-489c-b4ec-905a6f9a98e4",
   "metadata": {},
   "outputs": [
    {
     "data": {
      "text/plain": [
       "9.818025015001554"
      ]
     },
     "execution_count": 27,
     "metadata": {},
     "output_type": "execute_result"
    }
   ],
   "source": [
    "model.intercept_"
   ]
  },
  {
   "cell_type": "markdown",
   "id": "864618e7-0c55-4c98-ac64-702b68207c1f",
   "metadata": {},
   "source": [
    "Die Funktion `predict()` wendet das Modell auf die angegebenen Daten an. Hier setzen wir unseren ursprünglichen Datensatz `X` ein:"
   ]
  },
  {
   "cell_type": "code",
   "execution_count": 28,
   "id": "4ab8f243-a702-4ba5-9aa7-24c9e4e9f010",
   "metadata": {},
   "outputs": [
    {
     "data": {
      "text/plain": [
       "array([21.95961427, 40.63764094, 33.5473115 , 29.22493246, 14.8757322 ,\n",
       "       14.87495029, 11.70094043, 37.89713979, 29.30456651, 32.77184484,\n",
       "       10.48531928, 41.25990921, 36.80358976, 16.70149126, 15.71230431,\n",
       "       15.76350886, 19.68074509, 26.8292255 , 23.82052764, 19.25889509])"
      ]
     },
     "execution_count": 28,
     "metadata": {},
     "output_type": "execute_result"
    }
   ],
   "source": [
    "model.predict(X)"
   ]
  },
  {
   "cell_type": "markdown",
   "id": "24b46ea9-e376-4cf8-85d3-8d8969fd393c",
   "metadata": {},
   "source": [
    "Das Ergebnis ist dasselbe wie wir es vorher \"von Hand\" ausgerechnet haben:"
   ]
  },
  {
   "cell_type": "code",
   "execution_count": 29,
   "id": "fef8241f-9ba6-439e-b08b-46d16997417e",
   "metadata": {},
   "outputs": [
    {
     "data": {
      "text/plain": [
       "array([21.95961427, 40.63764094, 33.5473115 , 29.22493246, 14.8757322 ,\n",
       "       14.87495029, 11.70094043, 37.89713979, 29.30456651, 32.77184484,\n",
       "       10.48531928, 41.25990921, 36.80358976, 16.70149126, 15.71230431,\n",
       "       15.76350886, 19.68074509, 26.8292255 , 23.82052764, 19.25889509])"
      ]
     },
     "execution_count": 29,
     "metadata": {},
     "output_type": "execute_result"
    }
   ],
   "source": [
    "theta_0 + theta_1 * x"
   ]
  },
  {
   "cell_type": "code",
   "execution_count": 30,
   "id": "b3cf054d-58ca-4292-a544-50362af5d1e6",
   "metadata": {},
   "outputs": [
    {
     "data": {
      "text/plain": [
       "array([22.78495555])"
      ]
     },
     "execution_count": 30,
     "metadata": {},
     "output_type": "execute_result"
    }
   ],
   "source": [
    "model.predict(np.array([[4]]))"
   ]
  },
  {
   "cell_type": "code",
   "execution_count": 31,
   "id": "992f976d-a3b6-45cf-8170-44bcb240c118",
   "metadata": {},
   "outputs": [],
   "source": [
    "y_hat = model.predict(X)"
   ]
  },
  {
   "cell_type": "markdown",
   "id": "76eb0f0d-07d7-4ffa-abb3-8c9a411937d7",
   "metadata": {},
   "source": [
    "Für den R^2-Wert gibt es in scikit-learn auch eine vorgefertigte Funktion:"
   ]
  },
  {
   "cell_type": "code",
   "execution_count": 32,
   "id": "f2268d60-b313-43e1-bf77-d8f011990d58",
   "metadata": {},
   "outputs": [
    {
     "data": {
      "text/plain": [
       "0.829803580077148"
      ]
     },
     "execution_count": 32,
     "metadata": {},
     "output_type": "execute_result"
    }
   ],
   "source": [
    "from sklearn.metrics import r2_score\n",
    "r2_score(y, y_hat)"
   ]
  },
  {
   "cell_type": "code",
   "execution_count": null,
   "id": "bd540f3b-89a5-4032-8d4d-dfb58a095cf5",
   "metadata": {},
   "outputs": [],
   "source": []
  }
 ],
 "metadata": {
  "kernelspec": {
   "display_name": "Python 3 (ipykernel)",
   "language": "python",
   "name": "python3"
  },
  "language_info": {
   "codemirror_mode": {
    "name": "ipython",
    "version": 3
   },
   "file_extension": ".py",
   "mimetype": "text/x-python",
   "name": "python",
   "nbconvert_exporter": "python",
   "pygments_lexer": "ipython3",
   "version": "3.11.2"
  }
 },
 "nbformat": 4,
 "nbformat_minor": 5
}
