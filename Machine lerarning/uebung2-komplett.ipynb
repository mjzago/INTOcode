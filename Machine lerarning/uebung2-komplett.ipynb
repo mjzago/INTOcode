{
 "cells": [
  {
   "cell_type": "markdown",
   "id": "f40b2c4d-14c5-4924-a2ce-5647db08ccf0",
   "metadata": {},
   "source": [
    "# Machine Learning 1, Übung 2\n",
    "(c) 2023 by Harald Bögeholz"
   ]
  },
  {
   "cell_type": "markdown",
   "id": "94711969-f153-4601-b9d1-9bc1fe20e215",
   "metadata": {},
   "source": [
    "Der unten stehende Code erzeugt einige pseudo-zufällige Datenpunkte. Sehen Sie sich die Inhalte der Variablen an."
   ]
  },
  {
   "cell_type": "code",
   "execution_count": 21,
   "id": "c4f54377-5747-480c-962a-59463ae4e5c1",
   "metadata": {},
   "outputs": [],
   "source": [
    "import numpy as np\n",
    "\n",
    "np.random.seed(42)\n",
    "m = 20\n",
    "x = np.random.rand(m) * 10 - 5\n",
    "y = 0.5*x*x + x + 3 + np.random.randn(m)"
   ]
  },
  {
   "cell_type": "markdown",
   "id": "41fad7ef-922e-4101-a6ef-b21a1c7fc43a",
   "metadata": {},
   "source": [
    "Ein paar Zeilen Code zur Vorbereitung des Folgenden:"
   ]
  },
  {
   "cell_type": "code",
   "execution_count": 22,
   "id": "14bb6ef9-afc9-49f1-9cef-e5813ade7c12",
   "metadata": {},
   "outputs": [],
   "source": [
    "import math\n",
    "import matplotlib.pyplot as plt\n",
    "\n",
    "x_range = max(x) - min(x)\n",
    "x_min = min(x) - 0.1 * x_range\n",
    "x_max = max(x) + 0.1 * x_range\n",
    "linX = np.linspace(x_min, x_max, num=400)\n",
    "y_range = max(y) - min(y)\n",
    "y_min = min(y) - 0.1 * y_range\n",
    "y_max = max(y) + 0.1 * y_range"
   ]
  },
  {
   "cell_type": "code",
   "execution_count": 23,
   "id": "a44b4fe2-e5b9-4c0d-a533-71ce0aff3f72",
   "metadata": {},
   "outputs": [
    {
     "data": {
      "image/png": "[encoded data removed]",
      "text/plain": [
       "<Figure size 640x480 with 1 Axes>"
      ]
     },
     "metadata": {},
     "output_type": "display_data"
    }
   ],
   "source": [
    "plt.plot(x,y,\"b.\")\n",
    "plt.grid()\n",
    "plt.show()"
   ]
  },
  {
   "cell_type": "code",
   "execution_count": 24,
   "id": "25ab3da9-ba5b-4df9-ae36-f9df34597b1b",
   "metadata": {},
   "outputs": [],
   "source": [
    "from sklearn.linear_model import LinearRegression"
   ]
  },
  {
   "cell_type": "code",
   "execution_count": 25,
   "id": "d22c5334-29d6-457a-92a0-51726456f1cb",
   "metadata": {},
   "outputs": [],
   "source": [
    "model = LinearRegression()"
   ]
  },
  {
   "cell_type": "markdown",
   "id": "c23752cb-dd30-49c2-be29-fcfc5fcd1229",
   "metadata": {},
   "source": [
    "Für das Modell `LinearRegression` müssen wir unseren Datenvektor `x` in eine Matrix mit einer einzigen Spalte überführen:"
   ]
  },
  {
   "cell_type": "code",
   "execution_count": 26,
   "id": "b3e4774a-c538-4107-8521-060f6ed2e9d0",
   "metadata": {},
   "outputs": [],
   "source": [
    "X = x.reshape(-1,1)"
   ]
  },
  {
   "cell_type": "code",
   "execution_count": 27,
   "id": "1661c08d-c975-4efe-a240-d755e462a8ef",
   "metadata": {},
   "outputs": [
    {
     "data": {
      "text/html": [
       "<style>#sk-container-id-3 {color: black;}#sk-container-id-3 pre{padding: 0;}#sk-container-id-3 div.sk-toggleable {background-color: white;}#sk-container-id-3 label.sk-toggleable__label {cursor: pointer;display: block;width: 100%;margin-bottom: 0;padding: 0.3em;box-sizing: border-box;text-align: center;}#sk-container-id-3 label.sk-toggleable__label-arrow:before {content: \"▸\";float: left;margin-right: 0.25em;color: #696969;}#sk-container-id-3 label.sk-toggleable__label-arrow:hover:before {color: black;}#sk-container-id-3 div.sk-estimator:hover label.sk-toggleable__label-arrow:before {color: black;}#sk-container-id-3 div.sk-toggleable__content {max-height: 0;max-width: 0;overflow: hidden;text-align: left;background-color: #f0f8ff;}#sk-container-id-3 div.sk-toggleable__content pre {margin: 0.2em;color: black;border-radius: 0.25em;background-color: #f0f8ff;}#sk-container-id-3 input.sk-toggleable__control:checked~div.sk-toggleable__content {max-height: 200px;max-width: 100%;overflow: auto;}#sk-container-id-3 input.sk-toggleable__control:checked~label.sk-toggleable__label-arrow:before {content: \"▾\";}#sk-container-id-3 div.sk-estimator input.sk-toggleable__control:checked~label.sk-toggleable__label {background-color: #d4ebff;}#sk-container-id-3 div.sk-label input.sk-toggleable__control:checked~label.sk-toggleable__label {background-color: #d4ebff;}#sk-container-id-3 input.sk-hidden--visually {border: 0;clip: rect(1px 1px 1px 1px);clip: rect(1px, 1px, 1px, 1px);height: 1px;margin: -1px;overflow: hidden;padding: 0;position: absolute;width: 1px;}#sk-container-id-3 div.sk-estimator {font-family: monospace;background-color: #f0f8ff;border: 1px dotted black;border-radius: 0.25em;box-sizing: border-box;margin-bottom: 0.5em;}#sk-container-id-3 div.sk-estimator:hover {background-color: #d4ebff;}#sk-container-id-3 div.sk-parallel-item::after {content: \"\";width: 100%;border-bottom: 1px solid gray;flex-grow: 1;}#sk-container-id-3 div.sk-label:hover label.sk-toggleable__label {background-color: #d4ebff;}#sk-container-id-3 div.sk-serial::before {content: \"\";position: absolute;border-left: 1px solid gray;box-sizing: border-box;top: 0;bottom: 0;left: 50%;z-index: 0;}#sk-container-id-3 div.sk-serial {display: flex;flex-direction: column;align-items: center;background-color: white;padding-right: 0.2em;padding-left: 0.2em;position: relative;}#sk-container-id-3 div.sk-item {position: relative;z-index: 1;}#sk-container-id-3 div.sk-parallel {display: flex;align-items: stretch;justify-content: center;background-color: white;position: relative;}#sk-container-id-3 div.sk-item::before, #sk-container-id-3 div.sk-parallel-item::before {content: \"\";position: absolute;border-left: 1px solid gray;box-sizing: border-box;top: 0;bottom: 0;left: 50%;z-index: -1;}#sk-container-id-3 div.sk-parallel-item {display: flex;flex-direction: column;z-index: 1;position: relative;background-color: white;}#sk-container-id-3 div.sk-parallel-item:first-child::after {align-self: flex-end;width: 50%;}#sk-container-id-3 div.sk-parallel-item:last-child::after {align-self: flex-start;width: 50%;}#sk-container-id-3 div.sk-parallel-item:only-child::after {width: 0;}#sk-container-id-3 div.sk-dashed-wrapped {border: 1px dashed gray;margin: 0 0.4em 0.5em 0.4em;box-sizing: border-box;padding-bottom: 0.4em;background-color: white;}#sk-container-id-3 div.sk-label label {font-family: monospace;font-weight: bold;display: inline-block;line-height: 1.2em;}#sk-container-id-3 div.sk-label-container {text-align: center;}#sk-container-id-3 div.sk-container {/* jupyter's `normalize.less` sets `[hidden] { display: none; }` but bootstrap.min.css set `[hidden] { display: none !important; }` so we also need the `!important` here to be able to override the default hidden behavior on the sphinx rendered scikit-learn.org. See: https://github.com/scikit-learn/scikit-learn/issues/21755 */display: inline-block !important;position: relative;}#sk-container-id-3 div.sk-text-repr-fallback {display: none;}</style><div id=\"sk-container-id-3\" class=\"sk-top-container\"><div class=\"sk-text-repr-fallback\"><pre>LinearRegression()</pre><b>In a Jupyter environment, please rerun this cell to show the HTML representation or trust the notebook. <br />On GitHub, the HTML representation is unable to render, please try loading this page with nbviewer.org.</b></div><div class=\"sk-container\" hidden><div class=\"sk-item\"><div class=\"sk-estimator sk-toggleable\"><input class=\"sk-toggleable__control sk-hidden--visually\" id=\"sk-estimator-id-3\" type=\"checkbox\" checked><label for=\"sk-estimator-id-3\" class=\"sk-toggleable__label sk-toggleable__label-arrow\">LinearRegression</label><div class=\"sk-toggleable__content\"><pre>LinearRegression()</pre></div></div></div></div></div>"
      ],
      "text/plain": [
       "LinearRegression()"
      ]
     },
     "execution_count": 27,
     "metadata": {},
     "output_type": "execute_result"
    }
   ],
   "source": [
    "model.fit(X, y)"
   ]
  },
  {
   "cell_type": "code",
   "execution_count": 28,
   "id": "6982f9dc-5c64-472f-8f16-946a345dd99d",
   "metadata": {},
   "outputs": [],
   "source": [
    "y_hat = model.predict(X)"
   ]
  },
  {
   "cell_type": "code",
   "execution_count": 29,
   "id": "c9981c46-dc96-445b-a985-77440a49b405",
   "metadata": {},
   "outputs": [
    {
     "data": {
      "text/plain": [
       "0.3416143209559088"
      ]
     },
     "execution_count": 29,
     "metadata": {},
     "output_type": "execute_result"
    }
   ],
   "source": [
    "from sklearn.metrics import r2_score\n",
    "r2_score(y, y_hat)"
   ]
  },
  {
   "cell_type": "code",
   "execution_count": 30,
   "id": "bfc26651-389d-4a4c-9de6-ad48d2455bfa",
   "metadata": {},
   "outputs": [
    {
     "data": {
      "image/png": "[encoded data removed]",
      "text/plain": [
       "<Figure size 640x480 with 1 Axes>"
      ]
     },
     "metadata": {},
     "output_type": "display_data"
    }
   ],
   "source": [
    "plt.ylim(y_min, y_max)\n",
    "plt.plot(x, y, \"b.\")\n",
    "plt.plot(linX, model.predict(linX.reshape(-1,1)), \"r-\")\n",
    "plt.show()"
   ]
  },
  {
   "cell_type": "markdown",
   "id": "77f2aea2-0222-4321-b13e-9f1c5a7b05f5",
   "metadata": {},
   "source": [
    "`PolynomialFeatures` erweitert eine Feature-Matrix um zusätzliche Spalten mit polynomialen Features, in unserem Fall mit Potenzen unseres Vektors."
   ]
  },
  {
   "cell_type": "code",
   "execution_count": 31,
   "id": "e3996486-9c4a-47db-8fec-8af159ab8e1a",
   "metadata": {},
   "outputs": [],
   "source": [
    "from sklearn.preprocessing import PolynomialFeatures"
   ]
  },
  {
   "cell_type": "markdown",
   "id": "bd727d2e-9b28-4a61-95f2-3f02da4484ad",
   "metadata": {},
   "source": [
    "Der Anschauung halber erst einmal ein einfacher Testvektor:"
   ]
  },
  {
   "cell_type": "code",
   "execution_count": 32,
   "id": "86366ae7-e0ef-4ef3-8004-521e77eeb6b6",
   "metadata": {},
   "outputs": [
    {
     "data": {
      "text/plain": [
       "array([[-3],\n",
       "       [-2],\n",
       "       [-1],\n",
       "       [ 0],\n",
       "       [ 1],\n",
       "       [ 2],\n",
       "       [ 3]])"
      ]
     },
     "execution_count": 32,
     "metadata": {},
     "output_type": "execute_result"
    }
   ],
   "source": [
    "test = np.array(range(-3,4)).reshape(-1,1)\n",
    "test"
   ]
  },
  {
   "cell_type": "code",
   "execution_count": 33,
   "id": "74e597e5-c245-4177-9c62-e96b354450fa",
   "metadata": {},
   "outputs": [],
   "source": [
    "poly = PolynomialFeatures(degree=2, include_bias=False)"
   ]
  },
  {
   "cell_type": "markdown",
   "id": "ed1a8517-a687-4144-b847-8d567b56d4be",
   "metadata": {},
   "source": [
    "Die transformierte Matrix enthält in der zweiten Spalte das Quadrat der ersten:"
   ]
  },
  {
   "cell_type": "code",
   "execution_count": 34,
   "id": "3151b0d6-9a50-4d93-95d8-de3f07898725",
   "metadata": {},
   "outputs": [
    {
     "data": {
      "text/plain": [
       "array([[-3.,  9.],\n",
       "       [-2.,  4.],\n",
       "       [-1.,  1.],\n",
       "       [ 0.,  0.],\n",
       "       [ 1.,  1.],\n",
       "       [ 2.,  4.],\n",
       "       [ 3.,  9.]])"
      ]
     },
     "execution_count": 34,
     "metadata": {},
     "output_type": "execute_result"
    }
   ],
   "source": [
    "poly.fit_transform(test)"
   ]
  },
  {
   "cell_type": "markdown",
   "id": "dd04cd12-d266-4395-8634-8398bd283869",
   "metadata": {},
   "source": [
    "Jetzt wenden wir dies auf unseren Datensatz `X` an:"
   ]
  },
  {
   "cell_type": "code",
   "execution_count": 35,
   "id": "e9e5d80b-3efc-4a9b-9010-600ef391a8c8",
   "metadata": {},
   "outputs": [
    {
     "data": {
      "text/plain": [
       "array([[-1.25459881,  1.57401818],\n",
       "       [ 4.50714306, 20.3143386 ],\n",
       "       [ 2.31993942,  5.3821189 ],\n",
       "       [ 0.98658484,  0.97334965],\n",
       "       [-3.4398136 , 11.83231757],\n",
       "       [-3.4400548 , 11.833977  ],\n",
       "       [-4.41916388, 19.52900938],\n",
       "       [ 3.66176146, 13.40849697],\n",
       "       [ 1.01115012,  1.02242456],\n",
       "       [ 2.08072578,  4.32941976],\n",
       "       [-4.79415506, 22.98392271],\n",
       "       [ 4.69909852, 22.08152692],\n",
       "       [ 3.32442641, 11.05181094],\n",
       "       [-2.87660889,  8.27487872],\n",
       "       [-3.18175033, 10.12353515],\n",
       "       [-3.1659549 , 10.02327044],\n",
       "       [-1.95757757,  3.83210994],\n",
       "       [ 0.24756432,  0.06128809],\n",
       "       [-0.68054981,  0.46314805],\n",
       "       [-2.0877086 ,  4.35852719]])"
      ]
     },
     "execution_count": 35,
     "metadata": {},
     "output_type": "execute_result"
    }
   ],
   "source": [
    "X_poly = poly.fit_transform(X)\n",
    "X_poly"
   ]
  },
  {
   "cell_type": "code",
   "execution_count": 36,
   "id": "61218b7b-667f-46c4-8212-21808e987793",
   "metadata": {},
   "outputs": [
    {
     "data": {
      "text/html": [
       "<style>#sk-container-id-4 {color: black;}#sk-container-id-4 pre{padding: 0;}#sk-container-id-4 div.sk-toggleable {background-color: white;}#sk-container-id-4 label.sk-toggleable__label {cursor: pointer;display: block;width: 100%;margin-bottom: 0;padding: 0.3em;box-sizing: border-box;text-align: center;}#sk-container-id-4 label.sk-toggleable__label-arrow:before {content: \"▸\";float: left;margin-right: 0.25em;color: #696969;}#sk-container-id-4 label.sk-toggleable__label-arrow:hover:before {color: black;}#sk-container-id-4 div.sk-estimator:hover label.sk-toggleable__label-arrow:before {color: black;}#sk-container-id-4 div.sk-toggleable__content {max-height: 0;max-width: 0;overflow: hidden;text-align: left;background-color: #f0f8ff;}#sk-container-id-4 div.sk-toggleable__content pre {margin: 0.2em;color: black;border-radius: 0.25em;background-color: #f0f8ff;}#sk-container-id-4 input.sk-toggleable__control:checked~div.sk-toggleable__content {max-height: 200px;max-width: 100%;overflow: auto;}#sk-container-id-4 input.sk-toggleable__control:checked~label.sk-toggleable__label-arrow:before {content: \"▾\";}#sk-container-id-4 div.sk-estimator input.sk-toggleable__control:checked~label.sk-toggleable__label {background-color: #d4ebff;}#sk-container-id-4 div.sk-label input.sk-toggleable__control:checked~label.sk-toggleable__label {background-color: #d4ebff;}#sk-container-id-4 input.sk-hidden--visually {border: 0;clip: rect(1px 1px 1px 1px);clip: rect(1px, 1px, 1px, 1px);height: 1px;margin: -1px;overflow: hidden;padding: 0;position: absolute;width: 1px;}#sk-container-id-4 div.sk-estimator {font-family: monospace;background-color: #f0f8ff;border: 1px dotted black;border-radius: 0.25em;box-sizing: border-box;margin-bottom: 0.5em;}#sk-container-id-4 div.sk-estimator:hover {background-color: #d4ebff;}#sk-container-id-4 div.sk-parallel-item::after {content: \"\";width: 100%;border-bottom: 1px solid gray;flex-grow: 1;}#sk-container-id-4 div.sk-label:hover label.sk-toggleable__label {background-color: #d4ebff;}#sk-container-id-4 div.sk-serial::before {content: \"\";position: absolute;border-left: 1px solid gray;box-sizing: border-box;top: 0;bottom: 0;left: 50%;z-index: 0;}#sk-container-id-4 div.sk-serial {display: flex;flex-direction: column;align-items: center;background-color: white;padding-right: 0.2em;padding-left: 0.2em;position: relative;}#sk-container-id-4 div.sk-item {position: relative;z-index: 1;}#sk-container-id-4 div.sk-parallel {display: flex;align-items: stretch;justify-content: center;background-color: white;position: relative;}#sk-container-id-4 div.sk-item::before, #sk-container-id-4 div.sk-parallel-item::before {content: \"\";position: absolute;border-left: 1px solid gray;box-sizing: border-box;top: 0;bottom: 0;left: 50%;z-index: -1;}#sk-container-id-4 div.sk-parallel-item {display: flex;flex-direction: column;z-index: 1;position: relative;background-color: white;}#sk-container-id-4 div.sk-parallel-item:first-child::after {align-self: flex-end;width: 50%;}#sk-container-id-4 div.sk-parallel-item:last-child::after {align-self: flex-start;width: 50%;}#sk-container-id-4 div.sk-parallel-item:only-child::after {width: 0;}#sk-container-id-4 div.sk-dashed-wrapped {border: 1px dashed gray;margin: 0 0.4em 0.5em 0.4em;box-sizing: border-box;padding-bottom: 0.4em;background-color: white;}#sk-container-id-4 div.sk-label label {font-family: monospace;font-weight: bold;display: inline-block;line-height: 1.2em;}#sk-container-id-4 div.sk-label-container {text-align: center;}#sk-container-id-4 div.sk-container {/* jupyter's `normalize.less` sets `[hidden] { display: none; }` but bootstrap.min.css set `[hidden] { display: none !important; }` so we also need the `!important` here to be able to override the default hidden behavior on the sphinx rendered scikit-learn.org. See: https://github.com/scikit-learn/scikit-learn/issues/21755 */display: inline-block !important;position: relative;}#sk-container-id-4 div.sk-text-repr-fallback {display: none;}</style><div id=\"sk-container-id-4\" class=\"sk-top-container\"><div class=\"sk-text-repr-fallback\"><pre>LinearRegression()</pre><b>In a Jupyter environment, please rerun this cell to show the HTML representation or trust the notebook. <br />On GitHub, the HTML representation is unable to render, please try loading this page with nbviewer.org.</b></div><div class=\"sk-container\" hidden><div class=\"sk-item\"><div class=\"sk-estimator sk-toggleable\"><input class=\"sk-toggleable__control sk-hidden--visually\" id=\"sk-estimator-id-4\" type=\"checkbox\" checked><label for=\"sk-estimator-id-4\" class=\"sk-toggleable__label sk-toggleable__label-arrow\">LinearRegression</label><div class=\"sk-toggleable__content\"><pre>LinearRegression()</pre></div></div></div></div></div>"
      ],
      "text/plain": [
       "LinearRegression()"
      ]
     },
     "execution_count": 36,
     "metadata": {},
     "output_type": "execute_result"
    }
   ],
   "source": [
    "poly_model = LinearRegression()\n",
    "poly_model.fit(X_poly, y)"
   ]
  },
  {
   "cell_type": "code",
   "execution_count": 37,
   "id": "f7fad759-295a-436f-bcb0-afd46e35e6ef",
   "metadata": {},
   "outputs": [
    {
     "data": {
      "image/png": "[encoded data removed]",
      "text/plain": [
       "<Figure size 640x480 with 1 Axes>"
      ]
     },
     "metadata": {},
     "output_type": "display_data"
    }
   ],
   "source": [
    "linX_poly = poly.fit_transform(linX.reshape(-1,1))\n",
    "plt.ylim(y_min, y_max)\n",
    "plt.plot(x, y, \"b.\")\n",
    "plt.plot(linX, poly_model.predict(linX_poly), \"r-\")\n",
    "plt.show()"
   ]
  },
  {
   "cell_type": "code",
   "execution_count": 38,
   "id": "2811eacc-550a-4f97-a353-260ce95029a6",
   "metadata": {},
   "outputs": [],
   "source": [
    "y_poly_hat = poly_model.predict(X_poly)"
   ]
  },
  {
   "cell_type": "code",
   "execution_count": 39,
   "id": "406836aa-4196-48be-b6af-db05c3247747",
   "metadata": {},
   "outputs": [
    {
     "data": {
      "text/plain": [
       "0.9681123113639274"
      ]
     },
     "execution_count": 39,
     "metadata": {},
     "output_type": "execute_result"
    }
   ],
   "source": [
    "r2_score(y, y_poly_hat)"
   ]
  },
  {
   "cell_type": "code",
   "execution_count": 40,
   "id": "68e188db-bd58-4b69-997c-17a72016beab",
   "metadata": {},
   "outputs": [
    {
     "data": {
      "text/plain": [
       "array([0.94864877, 0.52388449])"
      ]
     },
     "execution_count": 40,
     "metadata": {},
     "output_type": "execute_result"
    }
   ],
   "source": [
    "poly_model.coef_"
   ]
  },
  {
   "cell_type": "markdown",
   "id": "4d77e2ff-76f2-4352-b8a0-0b066f107d02",
   "metadata": {},
   "source": [
    "Setzen Sie oben bei `PolynomialFeatures(degree=2, include_bias=False)` versuchsweise höhere Werte für `degree` ein und sehen Sie sich den resultierenden Plot an, indem Sie mit *Run all cells* das ganze Notebook noch einmal ausführen!"
   ]
  },
  {
   "cell_type": "code",
   "execution_count": null,
   "id": "343e67f9-1444-435d-99e2-d3f397c06fdf",
   "metadata": {},
   "outputs": [],
   "source": []
  }
 ],
 "metadata": {
  "kernelspec": {
   "display_name": "Python 3 (ipykernel)",
   "language": "python",
   "name": "python3"
  },
  "language_info": {
   "codemirror_mode": {
    "name": "ipython",
    "version": 3
   },
   "file_extension": ".py",
   "mimetype": "text/x-python",
   "name": "python",
   "nbconvert_exporter": "python",
   "pygments_lexer": "ipython3",
   "version": "3.11.2"
  }
 },
 "nbformat": 4,
 "nbformat_minor": 5
}
