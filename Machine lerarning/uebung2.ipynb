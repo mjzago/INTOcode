{
 "cells": [
  {
   "cell_type": "markdown",
   "id": "f40b2c4d-14c5-4924-a2ce-5647db08ccf0",
   "metadata": {},
   "source": [
    "# Machine Learning 1, Übung 2\n",
    "(c) 2023 by Harald Bögeholz"
   ]
  },
  {
   "cell_type": "markdown",
   "id": "94711969-f153-4601-b9d1-9bc1fe20e215",
   "metadata": {},
   "source": [
    "Der unten stehende Code erzeugt einige pseudo-zufällige Datenpunkte. Sehen Sie sich die Inhalte der Variablen an."
   ]
  },
  {
   "cell_type": "code",
   "execution_count": null,
   "id": "c4f54377-5747-480c-962a-59463ae4e5c1",
   "metadata": {},
   "outputs": [],
   "source": [
    "import numpy as np\n",
    "\n",
    "np.random.seed(42)\n",
    "m = 20\n",
    "x = np.random.rand(m) * 10 - 5\n",
    "y = 0.5*x*x + x + 3 + np.random.randn(m)"
   ]
  },
  {
   "cell_type": "markdown",
   "id": "41fad7ef-922e-4101-a6ef-b21a1c7fc43a",
   "metadata": {},
   "source": [
    "Ein paar Zeilen Code zur Vorbereitung des Folgenden:"
   ]
  },
  {
   "cell_type": "code",
   "execution_count": null,
   "id": "14bb6ef9-afc9-49f1-9cef-e5813ade7c12",
   "metadata": {},
   "outputs": [],
   "source": [
    "import math\n",
    "import matplotlib.pyplot as plt\n",
    "\n",
    "x_range = max(x) - min(x)\n",
    "x_min = min(x) - 0.1 * x_range\n",
    "x_max = max(x) + 0.1 * x_range\n",
    "linX = np.linspace(x_min, x_max, num=400)\n",
    "y_range = max(y) - min(y)\n",
    "y_min = min(y) - 0.1 * y_range\n",
    "y_max = max(y) + 0.1 * y_range"
   ]
  },
  {
   "cell_type": "code",
   "execution_count": null,
   "id": "a44b4fe2-e5b9-4c0d-a533-71ce0aff3f72",
   "metadata": {},
   "outputs": [],
   "source": [
    "plt.figure(figsize=(6, 4))\n",
    "plt.plot(x,y,\"b.\")\n",
    "plt.grid()\n",
    "plt.show()"
   ]
  }
 ],
 "metadata": {
  "kernelspec": {
   "display_name": "Python 3 (ipykernel)",
   "language": "python",
   "name": "python3"
  },
  "language_info": {
   "codemirror_mode": {
    "name": "ipython",
    "version": 3
   },
   "file_extension": ".py",
   "mimetype": "text/x-python",
   "name": "python",
   "nbconvert_exporter": "python",
   "pygments_lexer": "ipython3",
   "version": "3.11.2"
  }
 },
 "nbformat": 4,
 "nbformat_minor": 5
}
