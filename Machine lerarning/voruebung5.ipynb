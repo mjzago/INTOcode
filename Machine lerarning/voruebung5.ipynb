{
 "cells": [
  {
   "cell_type": "markdown",
   "id": "a64f6801-27d2-41b6-8b64-0967e63b9d71",
   "metadata": {},
   "source": [
    "# Machine Learning 1 – Vorübung 5\n",
    "(c)2023 by Harald Bögeholz\n",
    "\n",
    "---"
   ]
  },
  {
   "cell_type": "markdown",
   "id": "4d45047c-c060-42ad-9987-71ad4de0abd0",
   "metadata": {},
   "source": [
    "**Aufgabe 1:** Schreibe eine Funktion `square(xs)`, die als Parameter eine Liste annimmt und eine Liste ausgibt, in der alle Elemente quadridert sind.\n",
    "Beispiel: `square([2,4,6])` sollte die Liste `[4,16,36]` ausgeben"
   ]
  },
  {
   "cell_type": "code",
   "execution_count": null,
   "id": "5e6e9972-587f-4a42-a650-6daf406b2e4d",
   "metadata": {},
   "outputs": [],
   "source": []
  },
  {
   "cell_type": "markdown",
   "id": "6cd6276b-f984-4e76-aa2b-9e7ac4073706",
   "metadata": {},
   "source": [
    "**Aufgabe 2:** Schreibe eine Funktion `poly(xs, n)`. Die Parameter sind eine Liste von Zahlen `xs` und eine Ganzzahl `n`. Die Funktion soll eine Liste von Listen zurückliefern. Für jedes $x$ in `xs` soll sie die Liste $[x, x^2, \\ldots, x^n]$ liefern.\n",
    "\n",
    "Beispiel:\n",
    "```\n",
    ">>> poly([2,4,6,8], 3)\n",
    "[[2, 4, 8], [4, 16, 64], [6, 36, 216], [8, 64, 512]]\n",
    "```"
   ]
  },
  {
   "cell_type": "code",
   "execution_count": null,
   "id": "d56da1a9-4081-497b-bb37-5d3bb1b3c739",
   "metadata": {},
   "outputs": [],
   "source": []
  },
  {
   "cell_type": "markdown",
   "id": "b95ebb48-e713-4073-a3bb-9ec8a2b1698f",
   "metadata": {},
   "source": [
    "**Aufgabe 3:** Bestimme den Abstand der beiden Punkte $$\\begin{pmatrix} 1 \\\\ 5 \\end{pmatrix}, \\begin{pmatrix} 4 \\\\ 1 \\end{pmatrix}$$"
   ]
  },
  {
   "cell_type": "code",
   "execution_count": null,
   "id": "0bb638e3-37bc-40b7-9725-22f8f3e52c32",
   "metadata": {},
   "outputs": [],
   "source": []
  },
  {
   "cell_type": "markdown",
   "id": "54245108-07f9-4e0a-aefa-7c1170934773",
   "metadata": {},
   "source": [
    "**Aufgabe 4:** Bestimme den Abstand der beiden Punkte $$\\begin{pmatrix} 7 \\\\ 7 \\\\ 7 \\end{pmatrix}, \\begin{pmatrix} 6 \\\\ 8 \\\\ 4 \\end{pmatrix}$$"
   ]
  },
  {
   "cell_type": "code",
   "execution_count": null,
   "id": "9d89fcaa-4edb-4010-9b49-7df3ea2c6f3c",
   "metadata": {},
   "outputs": [],
   "source": []
  }
 ],
 "metadata": {
  "kernelspec": {
   "display_name": "Python 3 (ipykernel)",
   "language": "python",
   "name": "python3"
  },
  "language_info": {
   "codemirror_mode": {
    "name": "ipython",
    "version": 3
   },
   "file_extension": ".py",
   "mimetype": "text/x-python",
   "name": "python",
   "nbconvert_exporter": "python",
   "pygments_lexer": "ipython3",
   "version": "3.11.3"
  }
 },
 "nbformat": 4,
 "nbformat_minor": 5
}
