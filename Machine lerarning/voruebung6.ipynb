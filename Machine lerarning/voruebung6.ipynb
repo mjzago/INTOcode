{
 "cells": [
  {
   "cell_type": "markdown",
   "id": "52810d2d-8a94-4092-a40f-bf65c205fd48",
   "metadata": {},
   "source": [
    "# Machine Learning 1 – Vorübung 6\n",
    "(c) 2023 by Harald Bögeholz\n",
    "\n",
    "---"
   ]
  },
  {
   "cell_type": "code",
   "execution_count": 1,
   "id": "b35a4662-263b-43d9-a574-029aca55e3b5",
   "metadata": {},
   "outputs": [],
   "source": [
    "sample_list = [7.5, 2.3, 20.7, 100.4, 23.5, 64.6, 97.6, 50.2, 33.3, 44.4]"
   ]
  },
  {
   "cell_type": "markdown",
   "id": "f64b4946-29da-421c-a25a-be681cf38431",
   "metadata": {},
   "source": [
    "**Aufgabe 1:** Schreibe eine Python-Funktion `find_max(xs)`, die die größte Zahl in einer Liste `xs` \n",
    "findet. Die Funktion soll ein Tupel zurückliefern, \n",
    "bestehend aus dem Index der größten Zahl innhalb der Liste und der Zahl selbst.\n",
    "\n",
    "Beispiel: `find_max(sample_list)` soll das Tupel `(3, 100.4)` liefern."
   ]
  },
  {
   "cell_type": "code",
   "execution_count": 2,
   "id": "3b105da5-c05d-4271-95d6-67cf66627bf4",
   "metadata": {},
   "outputs": [
    {
     "name": "stdout",
     "output_type": "stream",
     "text": [
      "(3, 100.4)\n"
     ]
    }
   ],
   "source": [
    "def find_max(xs):\n",
    "    if not xs:\n",
    "        return None  # Return None if the list is empty\n",
    "    max_index = 0  # Initialize the index of the maximum element to the first element\n",
    "    max_value = xs[0]  # Initialize the maximum value to the first element\n",
    "    \n",
    "    for i, x in enumerate(xs):\n",
    "        if x > max_value:\n",
    "            max_index = i\n",
    "            max_value = x\n",
    "    \n",
    "    return (max_index, max_value)\n",
    "\n",
    "# Beispiel-Nutzung:\n",
    "sample_list = [7.5, 2.3, 20.7, 100.4, 23.5, 64.6, 97.6, 50.2, 33.3, 44.4]\n",
    "result = find_max(sample_list)\n",
    "print(result)  # Output: (3, 100.4)\n"
   ]
  },
  {
   "cell_type": "markdown",
   "id": "f6dca8f5-e9f1-4166-8cbf-cf323c38367b",
   "metadata": {},
   "source": [
    "Teste Deine Funktion, indem Du die folgende Zelle ausführst:"
   ]
  },
  {
   "cell_type": "code",
   "execution_count": null,
   "id": "67de9281-fb78-431a-af5f-27696aa1680e",
   "metadata": {},
   "outputs": [],
   "source": [
    "find_max(sample_list)"
   ]
  },
  {
   "cell_type": "markdown",
   "id": "693cd761-3623-49a8-a781-5a27008dc891",
   "metadata": {},
   "source": [
    "**Aufgabe 2:** Schreibe eine Python-Funktion `find_nearest(xs, x)`, die in einer Liste `xs` nach dem Wert `x` sucht und den *Index* des nächstgelegenen Werts in der Liste zurückgibt.\n",
    "\n",
    "Beispiele: \n",
    "* `find_nearest(sample_list, 50)` ergibt 7.\n",
    "* `find_nearest(sample_list, 20)` ergibt 2."
   ]
  },
  {
   "cell_type": "code",
   "execution_count": 8,
   "id": "bfe5640b-483a-41d4-8ef3-5920ad0dbe21",
   "metadata": {},
   "outputs": [
    {
     "data": {
      "text/plain": [
       "2"
      ]
     },
     "execution_count": 8,
     "metadata": {},
     "output_type": "execute_result"
    }
   ],
   "source": [
    "def find_nearest(xs, x):\n",
    "    nearest_i = 0\n",
    "    for i in range(len(xs)):\n",
    "        if abs(xs[i] - x) < abs(xs[nearest_i] - x):\n",
    "            nearest_i = i\n",
    "    return nearest_i\n",
    "\n",
    "\n",
    "find_nearest(sample_list, 50)\n",
    "\n",
    "find_nearest(sample_list, 20)\n"
   ]
  },
  {
   "cell_type": "markdown",
   "id": "401ae938-6c57-4114-b21f-07ada3887f9b",
   "metadata": {},
   "source": [
    "Teste Deine Funktion, indem Du die folgenden beiden Zellen ausführst:"
   ]
  },
  {
   "cell_type": "code",
   "execution_count": null,
   "id": "59336194-4121-4d92-96ee-60d9b12d369b",
   "metadata": {},
   "outputs": [],
   "source": [
    "find_nearest(sample_list, 50)"
   ]
  },
  {
   "cell_type": "code",
   "execution_count": null,
   "id": "a743e681-eb74-42dc-a553-9a84b22afba3",
   "metadata": {},
   "outputs": [],
   "source": [
    "find_nearest(sample_list, 20)"
   ]
  },
  {
   "cell_type": "markdown",
   "id": "2641d8a0-df69-4037-bcf8-e058cbae4d6b",
   "metadata": {},
   "source": [
    "**Aufgabe 3:** Schreibe eine Python-Funktion `find_nearest_2(xs, x)`, die in einer Liste `xs` nach dem Wert `x`.\n",
    "Sie soll eine Liste mit den *Indices* der beiden Elemente in `xs` zurückgeben, die `x` am nächsten liegen.\n",
    "\n",
    "Beispiele:\n",
    "* `find_nearest_2(sample_list, 42)` ergibt `[9, 7]`\n",
    "* `find_nearest_2(sample_list, 10)` ergibt `[0, 1]`"
   ]
  },
  {
   "cell_type": "code",
   "execution_count": 9,
   "id": "8d17e887-8577-4a99-a339-cc8db2dfbc26",
   "metadata": {},
   "outputs": [
    {
     "name": "stdout",
     "output_type": "stream",
     "text": [
      "[7, 8]\n",
      "[1, 0]\n"
     ]
    }
   ],
   "source": [
    "def find_nearest_2(xs, x):\n",
    "    if len(xs) < 2:\n",
    "        raise ValueError(\"A lista deve conter pelo menos dois elementos\")\n",
    "\n",
    "    xs_sorted = sorted(enumerate(xs), key=lambda item: abs(item[1] - x))\n",
    "    return [index for index, _ in xs_sorted[:2]]\n",
    "\n",
    "# Exemplos de uso:\n",
    "lista_de_amostras = [5, 10, 15, 20, 25, 30, 35, 40, 45, 50]\n",
    "print(find_nearest_2(lista_de_amostras, 42))  # Retorna [9, 7]\n",
    "print(find_nearest_2(lista_de_amostras, 10))  # Retorna [0, 1]\n"
   ]
  },
  {
   "cell_type": "code",
   "execution_count": 12,
   "metadata": {},
   "outputs": [
    {
     "name": "stdout",
     "output_type": "stream",
     "text": [
      "[7, 8]\n",
      "[1, 0]\n"
     ]
    }
   ],
   "source": [
    "def find_nearest_2(xs, x):\n",
    "    if len(xs) < 2:\n",
    "        raise ValueError(\"A lista deve conter pelo menos dois elementos\")\n",
    "\n",
    "    sorted_indices = sorted(range(len(xs)), key=lambda i: abs(xs[i] - x))\n",
    "    return sorted_indices[:2]\n",
    "\n",
    "lista_de_amostras = [5, 10, 15, 20, 25, 30, 35, 40, 45, 50]\n",
    "print(find_nearest_2(lista_de_amostras, 42))  \n",
    "print(find_nearest_2(lista_de_amostras, 10)) \n"
   ]
  },
  {
   "cell_type": "code",
   "execution_count": null,
   "id": "eae28495",
   "metadata": {},
   "outputs": [],
   "source": []
  },
  {
   "cell_type": "markdown",
   "id": "824750a1-dce7-4309-8deb-064d2d5764e3",
   "metadata": {},
   "source": [
    "Teste Deine Funktion, indem Du die folgenden beiden Zellen ausführst:"
   ]
  },
  {
   "cell_type": "code",
   "execution_count": 13,
   "id": "f4fcffff-48e3-41da-aa89-8967752e0ad0",
   "metadata": {},
   "outputs": [
    {
     "data": {
      "text/plain": [
       "[9, 7]"
      ]
     },
     "execution_count": 13,
     "metadata": {},
     "output_type": "execute_result"
    }
   ],
   "source": [
    "find_nearest_2(sample_list, 42)"
   ]
  },
  {
   "cell_type": "code",
   "execution_count": 14,
   "id": "7ad563b8-33e0-4718-bdd9-f89f1f6af33e",
   "metadata": {},
   "outputs": [
    {
     "data": {
      "text/plain": [
       "[0, 1]"
      ]
     },
     "execution_count": 14,
     "metadata": {},
     "output_type": "execute_result"
    }
   ],
   "source": [
    "find_nearest_2(sample_list, 10)"
   ]
  },
  {
   "cell_type": "markdown",
   "id": "aa4667d7-70fe-47f4-bbd3-c90202a6440b",
   "metadata": {},
   "source": [
    "**Aufgabe 4:** Schreibe eine Python-Funktion `find_nearest_k(xs, x, k)`, die in einer Liste `xs` nach dem Wert `x`.\n",
    "Sie soll eine Liste mit den *Indices* der `k` Elemente in `xs` zurückgeben, die `x` am nächsten liegen.\n",
    "\n",
    "Beispiele:\n",
    "* `find_nearest_k(sample_list, 20, 3)` ergibt `[2, 4, 0]`\n",
    "* `find_nearest_k(sample_list, 66, 5)` ergibt `[5, 7, 9, 6, 8]`"
   ]
  },
  {
   "cell_type": "code",
   "execution_count": null,
   "id": "5fca23bc-52e7-4648-b633-c978ebf2d27f",
   "metadata": {},
   "outputs": [],
   "source": []
  },
  {
   "cell_type": "markdown",
   "id": "702e37fa-ffca-4deb-9031-1ddae3b02f71",
   "metadata": {},
   "source": [
    "Teste Deine Funktion, indem Du die folgenden beiden Zellen ausführst:"
   ]
  },
  {
   "cell_type": "code",
   "execution_count": 18,
   "id": "4f890357-6124-4d47-bb3f-efcc1576a28d",
   "metadata": {},
   "outputs": [
    {
     "name": "stdout",
     "output_type": "stream",
     "text": [
      "[15, 25, 10]\n"
     ]
    }
   ],
   "source": [
    "def find_nearest_k(sample_list, target, k):\n",
    "    sorted_list = sorted(sample_list, key=lambda x: abs(x - target))\n",
    "    \n",
    "    return sorted_list[:k]\n",
    "\n",
    "sample_list = [10, 15, 25, 30, 35]\n",
    "k = 3\n",
    "target = 20\n",
    "nearest_numbers = find_nearest_k(sample_list, target, k)\n",
    "print(nearest_numbers)\n",
    "\n"
   ]
  },
  {
   "cell_type": "code",
   "execution_count": 17,
   "id": "0f9d9539-d5cf-4dde-8f6c-e19b28b7691d",
   "metadata": {},
   "outputs": [
    {
     "data": {
      "text/plain": [
       "[35, 30, 25, 15, 10]"
      ]
     },
     "execution_count": 17,
     "metadata": {},
     "output_type": "execute_result"
    }
   ],
   "source": [
    "find_nearest_k(sample_list, 66, 5)"
   ]
  },
  {
   "cell_type": "code",
   "execution_count": null,
   "id": "21bd4524-6ed2-4c32-8093-b1605a0e01e5",
   "metadata": {},
   "outputs": [],
   "source": []
  }
 ],
 "metadata": {
  "kernelspec": {
   "display_name": "Python 3 (ipykernel)",
   "language": "python",
   "name": "python3"
  },
  "language_info": {
   "codemirror_mode": {
    "name": "ipython",
    "version": 3
   },
   "file_extension": ".py",
   "mimetype": "text/x-python",
   "name": "python",
   "nbconvert_exporter": "python",
   "pygments_lexer": "ipython3",
   "version": "3.11.3"
  }
 },
 "nbformat": 4,
 "nbformat_minor": 5
}
