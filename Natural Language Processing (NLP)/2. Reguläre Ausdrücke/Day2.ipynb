{
 "cells": [
  {
   "cell_type": "code",
   "execution_count": null,
   "metadata": {},
   "outputs": [],
   "source": [
    "import codecs\n",
    "\n",
    "buch = codecs.open('BrückenkursPhysik.txt', 'r', 'utf8')\n",
    "\n",
    "for zeile in buch:\n",
    "    if \"Kraft\" in zeile:\n",
    "        print(zeile)\n",
    "\n",
    "buch.close()\n"
   ]
  },
  {
   "cell_type": "markdown",
   "metadata": {},
   "source": [
    "Este código Python tem a finalidade de ler um arquivo de texto chamado 'BrückenkursPhysik.txt' que está codificado em UTF-8 e procurar por linhas que contenham a palavra \"Kraft\". Ele realiza as seguintes ações:\n",
    "\n",
    "1. Importa o módulo `codecs`, que é utilizado para lidar com diferentes codificações de caracteres ao trabalhar com arquivos de texto.\n",
    "\n",
    "2. Abre o arquivo 'BrückenkursPhysik.txt' em modo de leitura ('r') com a codificação UTF-8 ('utf8') e cria um objeto chamado `buch` para representar esse arquivo.\n",
    "\n",
    "3. Inicia um loop `for` que irá percorrer cada linha do arquivo 'BrückenkursPhysik.txt'.\n",
    "\n",
    "4. Dentro do loop `for`, verifica se a palavra \"Kraft\" está presente na linha atual usando a expressão `if \"Kraft\" in zeile:`.\n",
    "\n",
    "5. Se a palavra \"Kraft\" for encontrada na linha, o código imprime essa linha no console.\n",
    "\n",
    "6. Após concluir a leitura do arquivo, o código fecha o arquivo 'BrückenkursPhysik.txt' usando o método `buch.close()`, liberando os recursos do sistema associados a ele.\n",
    "\n",
    "Em resumo, esse código lê um arquivo de texto, linha por linha, e exibe as linhas que contêm a palavra \"Kraft\" no console. Certifique-se de que o arquivo 'BrückenkursPhysik.txt' esteja no mesmo diretório onde o código está sendo executado ou forneça o caminho completo para o arquivo, caso contrário, o código não conseguirá encontrá-lo. Além disso, o código presume que o arquivo está codificado em UTF-8."
   ]
  },
  {
   "cell_type": "code",
   "execution_count": null,
   "metadata": {},
   "outputs": [],
   "source": [
    "import re\n",
    "import codecs\n",
    "\n",
    "buch = codecs.open('BrückenkursPhysik.txt', 'r', 'utf8')\n",
    "\n",
    "for zeile in buch:\n",
    "    if re.search(r'\\b\\S*[Kk]raft(e)?\\b', zeile):\n",
    "        print(zeile)\n",
    "\n",
    "buch.close()\n"
   ]
  },
  {
   "cell_type": "markdown",
   "metadata": {},
   "source": [
    "Este código Python está lendo um arquivo de texto chamado 'BrückenkursPhysik.txt', que está codificado em UTF-8, e procura por linhas que contenham a palavra \"Kraft\" (ou variações como \"Kraft\", \"Krafte\", \"Krafta\", \"Kkraft\", \"Kraftä\", etc.) usando expressões regulares. Aqui está uma explicação linha por linha do código:\n",
    "\n",
    "1. `import re`: Essa linha importa o módulo `re`, que é usado para trabalhar com expressões regulares, permitindo a busca por padrões de texto complexos.\n",
    "\n",
    "2. `buch = codecs.open('BrückenkursPhysik.txt', 'r', 'utf8')`: Esta linha abre o arquivo 'BrückenkursPhysik.txt' em modo de leitura ('r') usando a codificação UTF-8 ('utf8'). O objeto `buch` é criado para representar o arquivo aberto.\n",
    "\n",
    "3. Começa um loop `for` que irá percorrer todas as linhas do arquivo de texto.\n",
    "\n",
    "4. `for zeile in buch:`: A cada iteração do loop, uma linha do arquivo é lida e armazenada na variável `zeile` (que significa \"linha\" em alemão, de acordo com o nome do arquivo).\n",
    "\n",
    "5. `if re.search(r'\\b\\S*[Kk]raft(e)?\\b', zeile):`: Esta linha usa a função `re.search()` para verificar se a linha atual (`zeile`) contém um padrão que corresponde a \"Kraft\" ou variações. Aqui está a explicação do padrão:\n",
    "   - `\\b`: Corresponde a uma fronteira de palavra, garantindo que a palavra seja um termo independente na linha.\n",
    "   - `\\S*`: Corresponde a zero ou mais caracteres que não sejam espaços em branco.\n",
    "   - `[Kk]`: Corresponde a \"K\" ou \"k\".\n",
    "   - `raft(e)?`: Corresponde a \"raft\" seguido opcionalmente por \"e\".\n",
    "   - `\\b`: Outra fronteira de palavra para garantir que a palavra termine aqui.\n",
    "\n",
    "   Se a linha contiver esse padrão, o código dentro do bloco `if` será executado.\n",
    "\n",
    "6. `print(zeile)`: Se o padrão for encontrado na linha atual, esta linha imprimirá a linha no console.\n",
    "\n",
    "7. O loop `for` continua a percorrer todas as linhas do arquivo até que não haja mais linhas para ler.\n",
    "\n",
    "8. `buch.close()`: Após terminar de ler o arquivo, esta linha fecha o arquivo 'BrückenkursPhysik.txt', liberando os recursos do sistema associados a ele.\n",
    "\n",
    "Portanto, este código usa expressões regulares para procurar linhas que contenham a palavra \"Kraft\" ou variações dela no arquivo de texto e imprime essas linhas no console. Certifique-se de que o arquivo 'BrückenkursPhysik.txt' esteja no mesmo diretório em que você está executando o código ou forneça o caminho completo para o arquivo, caso contrário, o código não conseguirá encontrá-lo. Além disso, observe que este código considera que o arquivo está codificado em UTF-8."
   ]
  },
  {
   "cell_type": "code",
   "execution_count": 5,
   "metadata": {},
   "outputs": [
    {
     "name": "stdout",
     "output_type": "stream",
     "text": [
      "coronavirus: 7\n",
      "cytomegalievirus: 7\n",
      "influenza-a-virus: 6\n",
      "herpesvirus: 6\n",
      "adenovirus: 5\n",
      "varizella-zoster-virus: 5\n",
      "hantavirus: 5\n",
      "immundefizienz-virus: 4\n",
      "west-nil-virus: 4\n",
      "herpes-simplex-virus: 4\n",
      "rhinovirus: 4\n",
      "hantaan-virus: 3\n",
      "hepatitis-c-virus: 3\n",
      "epstein-barr-virus: 3\n",
      "influenzavirus: 3\n",
      "herpes-virus: 2\n",
      "masernvirus: 2\n",
      "mumpsvirus: 2\n",
      "dengue-virus: 2\n",
      "hepatitis-e-virus: 2\n",
      "guanarito-virus: 2\n",
      "metapneumo-virus: 2\n",
      "synzytial-virus: 2\n",
      "parainfluenzavirus: 2\n",
      "enterovirus: 2\n",
      "parvovirus: 2\n",
      "sin-nombre-virus: 2\n",
      "coxsackie-virus: 2\n",
      "hepatitis-a-virus: 1\n",
      "gelbfieber-virus: 1\n",
      "marburg-virus: 1\n",
      "arbovirus: 1\n",
      "rinderleukämie-virus: 1\n",
      "mastadenovirus: 1\n",
      "bk-virus: 1\n",
      "ebolavirus: 1\n",
      "myxovirus: 1\n",
      "ebola-virus: 1\n",
      "hepatitis-g-virus: 1\n",
      "gb-virus: 1\n",
      "sabia-virus: 1\n",
      "hendra-virus: 1\n",
      "morbillivirus: 1\n",
      "torqeno-teno-virus: 1\n",
      "nipah-virus: 1\n",
      "sars-assoziiertes-corona-virus: 1\n",
      "papillomvirus: 1\n",
      "rotavirus: 1\n",
      "rötelnvirus: 1\n",
      "fsme-virus: 1\n",
      "japanische-enzephalitis-virus: 1\n",
      "rifttal-fieber-virus: 1\n",
      "sandmückenfiebervirus: 1\n",
      "toskana-virus: 1\n",
      "mumps-virus: 1\n",
      "humane-zytomegalie-virus: 1\n",
      "poliovirus: 1\n",
      "metapneumovirus: 1\n",
      "zika-virus: 1\n",
      "herpes-genitalis-virus: 1\n",
      "sars-coronavirus: 1\n",
      "black-creek-canal-virus: 1\n",
      "muleshoe-virus: 1\n",
      "bayouvirus: 1\n",
      "andesvirus: 1\n",
      "bermejovirus: 1\n",
      "choclovirus: 1\n",
      "araraquaravirus: 1\n",
      "juquitibavirus: 1\n",
      "macielvirus: 1\n",
      "castelo-dos-sonhos-virus: 1\n",
      "dobrava-virus: 1\n",
      "puumala-virus: 1\n",
      "seoul-virus: 1\n",
      "virus: 0\n"
     ]
    }
   ],
   "source": [
    "import os\n",
    "import re\n",
    "from collections import Counter\n",
    "\n",
    "# Define a function to extract virus names from text\n",
    "def extract_virus_names(text):\n",
    "    # Regular expression pattern to match virus names\n",
    "    pattern = r'\\b[\\w-]+virus(?:es?|en)?\\b'\n",
    "    virus_names = re.findall(pattern, text, flags=re.IGNORECASE)\n",
    "    return [name.lower() for name in virus_names]\n",
    "\n",
    "# Initialize a Counter to count virus names\n",
    "virus_counter = Counter()\n",
    "\n",
    "# Directory where the text files are located (change this to your directory)\n",
    "directory = 'infekt'\n",
    "\n",
    "# Loop through all text files in the directory\n",
    "for filename in os.listdir(directory):\n",
    "    if filename.endswith('.txt'):\n",
    "        with open(os.path.join(directory, filename), 'r', encoding='utf-8') as file:\n",
    "            text = file.read()\n",
    "            virus_names = extract_virus_names(text)\n",
    "            virus_counter.update(virus_names)\n",
    "\n",
    "# Replace occurrences of 'viruses' with 'virus' in the result list\n",
    "virus_counter['virus'] += virus_counter['viruses']\n",
    "del virus_counter['viruses']\n",
    "\n",
    "# Print the most common virus names and their frequencies\n",
    "most_common_viruses = virus_counter.most_common()\n",
    "for name, frequency in most_common_viruses:\n",
    "    print(f\"{name}: {frequency}\")\n"
   ]
  },
  {
   "cell_type": "markdown",
   "metadata": {},
   "source": [
    "Este código em Python é um script que tem como objetivo extrair nomes de vírus de arquivos de texto em um diretório específico e contar a frequência de cada nome de vírus encontrado. Aqui está uma explicação passo a passo do código:\n",
    "\n",
    "1. Importação de bibliotecas:\n",
    "   - `os`: É uma biblioteca para interagir com o sistema operacional, usada aqui para manipular arquivos e diretórios.\n",
    "   - `re`: É a biblioteca de expressões regulares, usada para encontrar padrões de texto nos arquivos.\n",
    "   - `Counter` do módulo `collections`: É uma classe que facilita a contagem de elementos em uma sequência.\n",
    "\n",
    "2. Definição da função `extract_virus_names(text)`: Esta função aceita um pedaço de texto como entrada e usa expressões regulares para encontrar e extrair nomes de vírus desse texto. O padrão de expressão regular usado é `r'\\b[\\w-]+virus(?:es?|en)?\\b'`, que procura palavras que terminam em \"virus\", \"viruses\" ou \"virussen\", ignorando maiúsculas e minúsculas. Os nomes de vírus extraídos são convertidos para letras minúsculas e retornados em uma lista.\n",
    "\n",
    "3. Inicialização do objeto `virus_counter` como um `Counter()`: Isso cria um objeto de contador vazio que será usado para contar a frequência dos nomes de vírus encontrados nos arquivos.\n",
    "\n",
    "4. Especificação do diretório onde os arquivos de texto estão localizados na variável `directory`.\n",
    "\n",
    "5. Loop através dos arquivos no diretório:\n",
    "   - O código entra em um loop `for` para iterar sobre os arquivos no diretório especificado.\n",
    "   - `os.listdir(directory)` lista todos os arquivos e diretórios no diretório especificado.\n",
    "   - O loop verifica se cada arquivo possui a extensão `.txt` usando `filename.endswith('.txt')`.\n",
    "\n",
    "6. Abertura e leitura de cada arquivo de texto:\n",
    "   - Para cada arquivo `.txt` encontrado, o código abre o arquivo usando `with open(...) as file`.\n",
    "   - O conteúdo do arquivo é lido e armazenado na variável `text`.\n",
    "\n",
    "7. Chamada da função `extract_virus_names` para extrair nomes de vírus do texto:\n",
    "   - A função `extract_virus_names` é chamada com o texto lido do arquivo, e os nomes de vírus extraídos são armazenados na variável `virus_names`.\n",
    "\n",
    "8. Atualização do contador com os nomes de vírus extraídos:\n",
    "   - O contador `virus_counter` é atualizado com os nomes de vírus encontrados no texto.\n",
    "\n",
    "9. Correção de plural:\n",
    "   - O código verifica se há ocorrências de 'viruses' no contador e as adiciona à contagem de 'virus', depois exclui a entrada 'viruses' do contador para corrigir o plural.\n",
    "\n",
    "10. Impressão dos nomes de vírus mais comuns e suas frequências:\n",
    "    - A variável `most_common_viruses` contém uma lista de tuplas, onde cada tupla contém um nome de vírus e sua frequência.\n",
    "    - O código percorre essa lista e imprime os nomes de vírus mais comuns e suas frequências.\n",
    "\n",
    "Este código é útil para analisar arquivos de texto em busca de menções de vírus e contar quantas vezes cada nome de vírus é mencionado nos arquivos do diretório especificado."
   ]
  },
  {
   "cell_type": "code",
   "execution_count": 2,
   "metadata": {},
   "outputs": [
    {
     "name": "stdout",
     "output_type": "stream",
     "text": [
      "showing info https://raw.githubusercontent.com/nltk/nltk_data/gh-pages/index.xml\n"
     ]
    },
    {
     "data": {
      "text/plain": [
       "True"
      ]
     },
     "execution_count": 2,
     "metadata": {},
     "output_type": "execute_result"
    }
   ],
   "source": [
    "import nltk\n",
    "nltk.download()\n",
    "\n"
   ]
  },
  {
   "cell_type": "code",
   "execution_count": null,
   "metadata": {},
   "outputs": [],
   "source": [
    "nltk.corpora"
   ]
  }
 ],
 "metadata": {
  "kernelspec": {
   "display_name": "Python 3",
   "language": "python",
   "name": "python3"
  },
  "language_info": {
   "codemirror_mode": {
    "name": "ipython",
    "version": 3
   },
   "file_extension": ".py",
   "mimetype": "text/x-python",
   "name": "python",
   "nbconvert_exporter": "python",
   "pygments_lexer": "ipython3",
   "version": "3.11.3"
  },
  "orig_nbformat": 4
 },
 "nbformat": 4,
 "nbformat_minor": 2
}
