{
 "cells": [
  {
   "cell_type": "code",
   "execution_count": null,
   "metadata": {},
   "outputs": [],
   "source": [
    "import glob\n",
    "import codecs   \n",
    "filelist = glob.glob('infekt/*.txt')\n",
    "filelist \n"
   ]
  },
  {
   "cell_type": "code",
   "execution_count": null,
   "metadata": {},
   "outputs": [],
   "source": [
    "import codecs\n",
    "dt_open = codecs.open('infekt/Akute_Bronchitis.txt', 'r', 'utf-8')\n",
    "dt = dt_open.read()\n",
    "dt_open.close()\n",
    "\n",
    "print(dt)\n"
   ]
  },
  {
   "cell_type": "code",
   "execution_count": 7,
   "metadata": {},
   "outputs": [
    {
     "data": {
      "text/plain": [
       "[('Kraft', 137),\n",
       " ('Gewichtskraft', 53),\n",
       " ('Kräfte', 48),\n",
       " ('Lorentzkraft', 21),\n",
       " ('Schwerkraft', 19),\n",
       " ('Reibungskraft', 17),\n",
       " ('Coulomb-Kraft', 12),\n",
       " ('Federkraft', 10),\n",
       " ('kraft', 5),\n",
       " ('Gegenkraft', 5),\n",
       " ('Zugkraft', 5),\n",
       " ('Reibungskräfte', 4),\n",
       " ('Seilkräfte', 4),\n",
       " ('Seilkraft', 3),\n",
       " ('Lorentzkräfte', 3),\n",
       " ('Kontaktkräfte', 2),\n",
       " ('Muskelkraft', 2),\n",
       " ('Haftreibungskraft', 2),\n",
       " ('Druckkräfte', 2),\n",
       " ('Auftriebskraft', 2),\n",
       " ('Erdanziehungskraft', 2),\n",
       " ('Gesamtkraft', 2),\n",
       " ('Anziehungskräfte', 2),\n",
       " ('Magnetkräfte', 2),\n",
       " ('Magnetkraft', 2),\n",
       " ('Aussagekraft', 1),\n",
       " ('Bindungskräfte', 1),\n",
       " ('Motorkräfte', 1),\n",
       " ('Nichtreibungskraft', 1),\n",
       " ('kräfte', 1),\n",
       " ('Gewichtskräfte', 1),\n",
       " ('Zugkräfte', 1),\n",
       " ('Haltekraft', 1),\n",
       " ('Netto-Kraft', 1),\n",
       " ('Coulomb-Kräfte', 1),\n",
       " ('entzkraft', 1),\n",
       " ('Abstoßungskraft', 1)]"
      ]
     },
     "execution_count": 7,
     "metadata": {},
     "output_type": "execute_result"
    }
   ],
   "source": [
    "from collections import Counter\n",
    "import codecs\n",
    "import re\n",
    "\n",
    "buch = codecs.open('BrückenkursPhysik.txt', 'r', 'utf-8')\n",
    "kraftcount = Counter()  # Initialize kraftcount as a Counter object\n",
    "\n",
    "for zeile in buch:\n",
    "    fund = re.search(r'\\b\\S*[Kk]r(a|ä)fte?\\b', zeile)\n",
    "    if fund:\n",
    "        kraft = [fund.group(0)]\n",
    "        kraftcount.update(kraft)\n",
    "\n",
    "buch.close()\n",
    "\n",
    "# Now you can use kraftcount to get the most common items\n",
    "most_common_kraft = kraftcount.most_common()\n",
    "most_common_kraft\n"
   ]
  }
 ],
 "metadata": {
  "kernelspec": {
   "display_name": "Python 3",
   "language": "python",
   "name": "python3"
  },
  "language_info": {
   "codemirror_mode": {
    "name": "ipython",
    "version": 3
   },
   "file_extension": ".py",
   "mimetype": "text/x-python",
   "name": "python",
   "nbconvert_exporter": "python",
   "pygments_lexer": "ipython3",
   "version": "3.11.3"
  },
  "orig_nbformat": 4
 },
 "nbformat": 4,
 "nbformat_minor": 2
}
