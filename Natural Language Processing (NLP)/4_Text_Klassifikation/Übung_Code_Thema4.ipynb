{
 "cells": [
  {
   "cell_type": "code",
   "execution_count": null,
   "metadata": {},
   "outputs": [],
   "source": [
    "# 1. Wir wollen einen Merkmalevektor\n",
    "# für den folgernden Text erstellen. Nehmen Sie Wörter als Merkmale des Textes.\n",
    "# Zuerst zahlen Sie einfach die Wörter. (denken Sie daran: stopwords herausfiltern)\n",
    "\n",
    "text1='Der Jaccard-Koeffizient oder Jaccard-Index, auch Intersection over Union nach dem Schweizer Botaniker Paul Jaccard (1868–1944) ist eine Kennzahl für die Ähnlichkeit von Mengen. Oft wird er auch nach seiner Definition als IoU (Intersection over Union) bezeichnet.' \n",
    "\n",
    "# code hier. Schreiben Sie eine Funktion, weil wir das wieder machen werden. "
   ]
  },
  {
   "cell_type": "code",
   "execution_count": null,
   "metadata": {},
   "outputs": [],
   "source": [
    "# 2. machen Sie das gleich für Text2 und Text 3. (einfach nutzen die Funktion von Übung 1) \n",
    "\n",
    "text2='Die Isabellfarbene Gespenstfledermaus (Diclidurus isabella oder Diclidurus isabellus) ist ein im nördlichen Südamerika verbreitetes Fledertier in der Gattung der Amerikanischen Gespenstfledermäuse. Die Art ist der einzige Vertreter der Untergattung Depanycteris, die zeitweilig als Gattung geführt wurde.[1] Trotz isabellfarbener Körperteile könnte sich Oldfield Thomas bei seiner Erstbeschreibung auf eine Person namens Isabell bezogen haben.[2]'\n",
    "text3='Die Amerikanischen Gespenstfledermäuse (Diclidurus) sind eine Gattung der Fledermäuse aus der Familie der Glattnasen-Freischwänze. Neben der Weißen Fledermaus gehören sie zu den einzigen hellgrau bis weiß gefärbten Fledermäusen. Sie sind in den Tropen Zentral- und Südamerikas beheimatet.'\n",
    "#code hier\n"
   ]
  },
  {
   "cell_type": "code",
   "execution_count": null,
   "metadata": {},
   "outputs": [],
   "source": [
    "# 3. Jetzt müssen wir beide Text vergleichbar, das heißt jede Vektor-Position das gleich Wort (Merkmal) entspricht.\n",
    "\n",
    "# Zuerst das gesamte Wortzschatz zu sammeln.\n",
    "# Danach die Vektor wieder zu erstellen \n"
   ]
  },
  {
   "cell_type": "code",
   "execution_count": null,
   "metadata": {},
   "outputs": [],
   "source": [
    "# 4. Nutzen Sie Jaccard- Koeefizient. Laut diesem Maß, welche Texten sind am ählichsten. \n"
   ]
  },
  {
   "cell_type": "code",
   "execution_count": null,
   "metadata": {},
   "outputs": [],
   "source": [
    "# 5. Das gleich mit cosinus. "
   ]
  }
 ],
 "metadata": {
  "language_info": {
   "name": "python"
  },
  "orig_nbformat": 4
 },
 "nbformat": 4,
 "nbformat_minor": 2
}
