{
 "cells": [
  {
   "cell_type": "code",
   "execution_count": 2,
   "metadata": {},
   "outputs": [
    {
     "data": {
      "text/plain": [
       "Counter({'Der': 1,\n",
       "         'Jaccard-Koeffizient': 1,\n",
       "         'oder': 1,\n",
       "         'Jaccard-Index': 1,\n",
       "         ',': 1,\n",
       "         'auch': 2,\n",
       "         'Intersection': 2,\n",
       "         'over': 2,\n",
       "         'Union': 2,\n",
       "         'nach': 2,\n",
       "         'dem': 1,\n",
       "         'Schweizer': 1,\n",
       "         'Botaniker': 1,\n",
       "         'Paul': 1,\n",
       "         'Jaccard': 1,\n",
       "         '(': 2,\n",
       "         '1868–1944': 1,\n",
       "         ')': 2,\n",
       "         'ist': 1,\n",
       "         'eine': 1,\n",
       "         'Kennzahl': 1,\n",
       "         'für': 1,\n",
       "         'die': 1,\n",
       "         'Ähnlichkeit': 1,\n",
       "         'von': 1,\n",
       "         'Mengen': 1,\n",
       "         '.': 2,\n",
       "         'Oft': 1,\n",
       "         'wird': 1,\n",
       "         'er': 1,\n",
       "         'seiner': 1,\n",
       "         'Definition': 1,\n",
       "         'als': 1,\n",
       "         'IoU': 1,\n",
       "         'bezeichnet': 1})"
      ]
     },
     "execution_count": 2,
     "metadata": {},
     "output_type": "execute_result"
    }
   ],
   "source": [
    "# 1. Wir wollen einen Merkmalevektor\n",
    "# für den folgernden Text erstellen. Nehmen Sie Wörter als Merkmale des Textes.\n",
    "# Zuerst zahlen Sie einfach die Wörter.\n",
    "# Toekenisierung -> Counter()\n",
    "\n",
    "text1='Der Jaccard-Koeffizient oder Jaccard-Index, auch Intersection over Union nach dem Schweizer Botaniker Paul Jaccard (1868–1944) ist eine Kennzahl für die Ähnlichkeit von Mengen. Oft wird er auch nach seiner Definition als IoU (Intersection over Union) bezeichnet.' \n",
    "from collections import Counter\n",
    "import nltk\n",
    "def count_text(text):\n",
    "    return Counter(nltk.word_tokenize(text,language='german'))\n",
    "\n",
    "count_text(text1)\n",
    "# code hier. Schreiben Sie eine Funktion, weil wir das wieder machen werden. Input:text; output: Counter() "
   ]
  },
  {
   "cell_type": "code",
   "execution_count": 3,
   "metadata": {},
   "outputs": [],
   "source": [
    "# 2. machen Sie das gleich für Text2 und Text 3. (einfach nutzen die Funktion von Übung 1) \n",
    "\n",
    "text2='Die Isabellfarbene Gespenstfledermaus (Diclidurus isabella oder Diclidurus isabellus) ist ein im nördlichen Südamerika verbreitetes Fledertier in der Gattung der Amerikanischen Gespenstfledermäuse. Die Art ist der einzige Vertreter der Untergattung Depanycteris, die zeitweilig als Gattung geführt wurde.[1] Trotz isabellfarbener Körperteile könnte sich Oldfield Thomas bei seiner Erstbeschreibung auf eine Person namens Isabell bezogen haben.[2]'\n",
    "text3='Die Amerikanischen Gespenstfledermäuse (Diclidurus) sind eine Gattung der Fledermäuse aus der Familie der Glattnasen-Freischwänze. Neben der Weißen Fledermaus gehören sie zu den einzigen hellgrau bis weiß gefärbten Fledermäusen. Sie sind in den Tropen Zentral- und Südamerikas beheimatet.'\n",
    "#code hier\n",
    "\n",
    "ct1=count_text(text1)\n",
    "ct2=count_text(text2)\n",
    "ct3=count_text(text3)\n",
    "\n",
    "\n"
   ]
  },
  {
   "cell_type": "code",
   "execution_count": 4,
   "metadata": {},
   "outputs": [
    {
     "name": "stdout",
     "output_type": "stream",
     "text": [
      "['aber', 'alle', 'allem', 'allen', 'aller', 'alles', 'als', 'also', 'am', 'an', 'ander', 'andere', 'anderem', 'anderen', 'anderer', 'anderes', 'anderm', 'andern', 'anderr', 'anders', 'auch', 'auf', 'aus', 'bei', 'bin', 'bis', 'bist', 'da', 'damit', 'dann', 'der', 'den', 'des', 'dem', 'die', 'das', 'dass', 'daß', 'derselbe', 'derselben', 'denselben', 'desselben', 'demselben', 'dieselbe', 'dieselben', 'dasselbe', 'dazu', 'dein', 'deine', 'deinem', 'deinen', 'deiner', 'deines', 'denn', 'derer', 'dessen', 'dich', 'dir', 'du', 'dies', 'diese', 'diesem', 'diesen', 'dieser', 'dieses', 'doch', 'dort', 'durch', 'ein', 'eine', 'einem', 'einen', 'einer', 'eines', 'einig', 'einige', 'einigem', 'einigen', 'einiger', 'einiges', 'einmal', 'er', 'ihn', 'ihm', 'es', 'etwas', 'euer', 'eure', 'eurem', 'euren', 'eurer', 'eures', 'für', 'gegen', 'gewesen', 'hab', 'habe', 'haben', 'hat', 'hatte', 'hatten', 'hier', 'hin', 'hinter', 'ich', 'mich', 'mir', 'ihr', 'ihre', 'ihrem', 'ihren', 'ihrer', 'ihres', 'euch', 'im', 'in', 'indem', 'ins', 'ist', 'jede', 'jedem', 'jeden', 'jeder', 'jedes', 'jene', 'jenem', 'jenen', 'jener', 'jenes', 'jetzt', 'kann', 'kein', 'keine', 'keinem', 'keinen', 'keiner', 'keines', 'können', 'könnte', 'machen', 'man', 'manche', 'manchem', 'manchen', 'mancher', 'manches', 'mein', 'meine', 'meinem', 'meinen', 'meiner', 'meines', 'mit', 'muss', 'musste', 'nach', 'nicht', 'nichts', 'noch', 'nun', 'nur', 'ob', 'oder', 'ohne', 'sehr', 'sein', 'seine', 'seinem', 'seinen', 'seiner', 'seines', 'selbst', 'sich', 'sie', 'ihnen', 'sind', 'so', 'solche', 'solchem', 'solchen', 'solcher', 'solches', 'soll', 'sollte', 'sondern', 'sonst', 'über', 'um', 'und', 'uns', 'unsere', 'unserem', 'unseren', 'unser', 'unseres', 'unter', 'viel', 'vom', 'von', 'vor', 'während', 'war', 'waren', 'warst', 'was', 'weg', 'weil', 'weiter', 'welche', 'welchem', 'welchen', 'welcher', 'welches', 'wenn', 'werde', 'werden', 'wie', 'wieder', 'will', 'wir', 'wird', 'wirst', 'wo', 'wollen', 'wollte', 'würde', 'würden', 'zu', 'zum', 'zur', 'zwar', 'zwischen']\n"
     ]
    }
   ],
   "source": [
    "import nltk\n",
    "stopwords = nltk.corpus.stopwords.words('german')\n",
    "print(stopwords)"
   ]
  },
  {
   "cell_type": "code",
   "execution_count": 11,
   "metadata": {},
   "outputs": [
    {
     "name": "stdout",
     "output_type": "stream",
     "text": [
      "71\n",
      "{'IoU', 'isabellus', 'Ähnlichkeit', 'verbreitetes', 'einzigen', 'Oft', 'zeitweilig', 'Untergattung', 'Südamerikas', 'Jaccard-Koeffizient', 'Person', 'Mengen', 'hellgrau', 'einzige', 'Trotz', 'Erstbeschreibung', 'gefärbten', 'Oldfield', 'Neben', '1', 'Jaccard-Index', 'Isabell', 'Fledermäusen', 'Zentral-', 'Diclidurus', 'Fledermaus', ')', 'Depanycteris', 'gehören', 'beheimatet', 'weiß', '[', 'Paul', 'namens', 'Weißen', ']', 'bezeichnet', 'Botaniker', '.', 'Glattnasen-Freischwänze', 'Gespenstfledermäuse', 'wurde', 'Definition', 'Intersection', 'nördlichen', 'Union', 'geführt', 'isabellfarbener', '(', 'Gespenstfledermaus', 'bezogen', '2', 'Amerikanischen', 'Familie', 'Vertreter', 'Isabellfarbene', 'over', ',', 'Kennzahl', 'Fledermäuse', 'Körperteile', 'isabella', 'Jaccard', 'Fledertier', '1868–1944', 'Tropen', 'Gattung', 'Art', 'Südamerika', 'Schweizer', 'Thomas'}\n",
      "True\n",
      "[1, 0, 1, 0, 0, 1, 0, 0, 0, 1, 0, 1, 0, 0, 0, 0, 0, 0, 0, 0, 1, 0, 0, 0, 0, 0, 2, 0, 0, 0, 0, 0, 1, 0, 0, 0, 1, 1, 2, 0, 0, 0, 1, 2, 0, 2, 0, 0, 2, 0, 0, 0, 0, 0, 0, 0, 2, 1, 1, 0, 0, 0, 1, 0, 1, 0, 0, 0, 0, 1, 0]\n",
      "[0, 1, 0, 1, 0, 0, 1, 1, 0, 0, 1, 0, 0, 1, 1, 1, 0, 1, 0, 1, 0, 1, 0, 0, 2, 0, 1, 1, 0, 0, 0, 2, 0, 1, 0, 2, 0, 0, 3, 0, 1, 1, 0, 0, 1, 0, 1, 1, 1, 1, 1, 1, 1, 0, 1, 1, 0, 1, 0, 0, 1, 1, 0, 1, 0, 0, 2, 1, 1, 0, 1]\n",
      "[0, 0, 0, 0, 1, 0, 0, 0, 1, 0, 0, 0, 1, 0, 0, 0, 1, 0, 1, 0, 0, 0, 1, 1, 1, 1, 1, 0, 1, 1, 1, 0, 0, 0, 1, 0, 0, 0, 3, 1, 1, 0, 0, 0, 0, 0, 0, 0, 1, 0, 0, 0, 1, 1, 0, 0, 0, 0, 0, 1, 0, 0, 0, 0, 0, 1, 1, 0, 0, 0, 0]\n"
     ]
    }
   ],
   "source": [
    "# 3. Jetzt müssen wir beide Text vergleichbar, das heißt jede Vektor-Position das gleich Wort (Merkmal) entspricht.\n",
    "vocabulary=[]\n",
    "for ct in [ct1,ct2,ct3]:\n",
    "    for w in ct:\n",
    "        if w.lower() not in stopwords:\n",
    "            vocabulary.append(w) # w.lower() ?? /// stopwords?? \n",
    "\n",
    "vocabulary=set(vocabulary)\n",
    "print(len(vocabulary))\n",
    "print(vocabulary)\n",
    "# Zuerst das gesamte Wortzschatz zu sammeln.\n",
    "# Danach die Vektor wieder zu erstellen \n",
    "\n",
    "def vector(ct):\n",
    "    vec=[]\n",
    "    for w in vocabulary:\n",
    "        vec.append(ct.get(w,0))\n",
    "    return vec\n",
    "\n",
    "print(len(vector(ct1))==len(vocabulary))\n",
    "    \n",
    "vc1=vector(ct1)\n",
    "print(vc1)\n",
    "\n",
    "vc2=vector(ct2)\n",
    "print(vc2)\n",
    "\n",
    "vc3=vector(ct3)\n",
    "print(vc3)"
   ]
  },
  {
   "cell_type": "code",
   "execution_count": 40,
   "metadata": {},
   "outputs": [
    {
     "data": {
      "text/plain": [
       "{'(',\n",
       " ')',\n",
       " ',',\n",
       " '.',\n",
       " '1',\n",
       " '1868–1944',\n",
       " '2',\n",
       " 'Amerikanischen',\n",
       " 'Art',\n",
       " 'Botaniker',\n",
       " 'Definition',\n",
       " 'Depanycteris',\n",
       " 'Der',\n",
       " 'Diclidurus',\n",
       " 'Die',\n",
       " 'Erstbeschreibung',\n",
       " 'Familie',\n",
       " 'Fledermaus',\n",
       " 'Fledermäuse',\n",
       " 'Fledermäusen',\n",
       " 'Fledertier',\n",
       " 'Gattung',\n",
       " 'Gespenstfledermaus',\n",
       " 'Gespenstfledermäuse',\n",
       " 'Glattnasen-Freischwänze',\n",
       " 'Intersection',\n",
       " 'IoU',\n",
       " 'Isabell',\n",
       " 'Isabellfarbene',\n",
       " 'Jaccard',\n",
       " 'Jaccard-Index',\n",
       " 'Jaccard-Koeffizient',\n",
       " 'Kennzahl',\n",
       " 'Körperteile',\n",
       " 'Mengen',\n",
       " 'Neben',\n",
       " 'Oft',\n",
       " 'Oldfield',\n",
       " 'Paul',\n",
       " 'Person',\n",
       " 'Schweizer',\n",
       " 'Sie',\n",
       " 'Südamerika',\n",
       " 'Südamerikas',\n",
       " 'Thomas',\n",
       " 'Tropen',\n",
       " 'Trotz',\n",
       " 'Union',\n",
       " 'Untergattung',\n",
       " 'Vertreter',\n",
       " 'Weißen',\n",
       " 'Zentral-',\n",
       " '[',\n",
       " ']',\n",
       " 'beheimatet',\n",
       " 'bezeichnet',\n",
       " 'bezogen',\n",
       " 'einzige',\n",
       " 'einzigen',\n",
       " 'gefärbten',\n",
       " 'geführt',\n",
       " 'gehören',\n",
       " 'hellgrau',\n",
       " 'isabella',\n",
       " 'isabellfarbener',\n",
       " 'isabellus',\n",
       " 'namens',\n",
       " 'nördlichen',\n",
       " 'over',\n",
       " 'verbreitetes',\n",
       " 'weiß',\n",
       " 'wurde',\n",
       " 'zeitweilig',\n",
       " 'Ähnlichkeit'}"
      ]
     },
     "execution_count": 40,
     "metadata": {},
     "output_type": "execute_result"
    }
   ],
   "source": [
    "vocabulary"
   ]
  },
  {
   "cell_type": "code",
   "execution_count": 13,
   "metadata": {},
   "outputs": [
    {
     "data": {
      "text/plain": [
       "0.14893617021276595"
      ]
     },
     "execution_count": 13,
     "metadata": {},
     "output_type": "execute_result"
    }
   ],
   "source": [
    "# 4. Nutzen Sie Jaccard- Koeefizient. Laut diesem Maß, welche Texten sind am ählichsten. \n",
    "\n",
    "def jaccard(vector1, vector2):\n",
    "    interc=0\n",
    "    union=0\n",
    "    for i in range(len(vector1)):\n",
    "        if vector1[i]>0 and vector2[i]>0:\n",
    "            interc+=1\n",
    "        elif vector1[i]>0 or vector2[i]>0:\n",
    "            union+=1\n",
    "        else:\n",
    "            continue\n",
    "\n",
    "    return interc/union\n",
    "\n",
    "\n",
    "jaccard(vc2,vc3)\n"
   ]
  },
  {
   "cell_type": "code",
   "execution_count": 15,
   "metadata": {},
   "outputs": [
    {
     "data": {
      "text/plain": [
       "0.4009166360410915"
      ]
     },
     "execution_count": 15,
     "metadata": {},
     "output_type": "execute_result"
    }
   ],
   "source": [
    "# 5. Das gleich mit cosinus. \n",
    "import numpy as np\n",
    "\n",
    "def cos(vector1, vector2):\n",
    "    vec1=np.array(vector1)\n",
    "    vec2=np.array(vector2)\n",
    "    return np.sum(vec1*vec2)/(np.linalg.norm(vec1)*np.linalg.norm(vec2))\n",
    "\n",
    "cos(vc2,vc3)"
   ]
  },
  {
   "cell_type": "code",
   "execution_count": null,
   "metadata": {},
   "outputs": [],
   "source": []
  },
  {
   "cell_type": "code",
   "execution_count": null,
   "metadata": {},
   "outputs": [],
   "source": []
  }
 ],
 "metadata": {
  "kernelspec": {
   "display_name": "base",
   "language": "python",
   "name": "python3"
  },
  "language_info": {
   "codemirror_mode": {
    "name": "ipython",
    "version": 3
   },
   "file_extension": ".py",
   "mimetype": "text/x-python",
   "name": "python",
   "nbconvert_exporter": "python",
   "pygments_lexer": "ipython3",
   "version": "3.8.17"
  },
  "orig_nbformat": 4
 },
 "nbformat": 4,
 "nbformat_minor": 2
}
