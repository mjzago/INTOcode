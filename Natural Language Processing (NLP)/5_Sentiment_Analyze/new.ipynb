{
 "cells": [
  {
   "cell_type": "markdown",
   "metadata": {},
   "source": []
  },
  {
   "cell_type": "code",
   "execution_count": 4,
   "metadata": {},
   "outputs": [
    {
     "name": "stdout",
     "output_type": "stream",
     "text": [
      "['and']\n"
     ]
    }
   ],
   "source": [
    "import re\n",
    "\n",
    "# Your input text\n",
    "input_text = \"This is a sample text with some four-letter words like word and test.\"\n",
    "\n",
    "# Define the regular expression pattern to find four-letter words\n",
    "pattern = r'\\b\\w{4}\\b'\n",
    "\n",
    "# Find all matching words in the input text\n",
    "four_letter_words = re.findall(pattern, input_text)\n",
    "\n",
    "# Print the matched words\n",
    "print(four_letter_words)\n"
   ]
  },
  {
   "cell_type": "code",
   "execution_count": 5,
   "metadata": {},
   "outputs": [
    {
     "name": "stdout",
     "output_type": "stream",
     "text": [
      "['example@email.com']\n"
     ]
    }
   ],
   "source": [
    "import re\n",
    "\n",
    "pattern = r'\\b[A-Za-z0-9._%+-]+@[A-Za-z0-9.-]+\\.[A-Z|a-z]{2,7}\\b'\n",
    "\n",
    "text = \"My email is example@email.com. Please contact me there.\"\n",
    "\n",
    "emails = re.findall(pattern, text)\n",
    "print(emails)\n"
   ]
  },
  {
   "cell_type": "code",
   "execution_count": 6,
   "metadata": {},
   "outputs": [
    {
     "name": "stdout",
     "output_type": "stream",
     "text": [
      "['09/28/2023']\n"
     ]
    }
   ],
   "source": [
    "import re\n",
    "\n",
    "pattern = r'\\d{2}/\\d{2}/\\d{4}'\n",
    "\n",
    "text = \"The event will take place on 09/28/2023. Save the date!\"\n",
    "\n",
    "dates = re.findall(pattern, text)\n",
    "print(dates)\n"
   ]
  },
  {
   "cell_type": "code",
   "execution_count": 9,
   "metadata": {},
   "outputs": [
    {
     "name": "stdout",
     "output_type": "stream",
     "text": [
      "['1', '9', '8', '9', '8', '9', '8', '2', '3', '3', '3', '4', '5', '6', '7', '8', '9', '0']\n"
     ]
    }
   ],
   "source": [
    "import re\n",
    "\n",
    "text = \"O número de telefone é 19898982333-456-7890.\"\n",
    "digits = re.findall(r'\\d', text)\n",
    "print(digits)\n"
   ]
  },
  {
   "cell_type": "code",
   "execution_count": 16,
   "metadata": {},
   "outputs": [
    {
     "name": "stdout",
     "output_type": "stream",
     "text": [
      "('ge', 'seh', 'en')\n",
      "('ge', 'schlaf', 'en')\n"
     ]
    }
   ],
   "source": [
    "import re\n",
    "\n",
    "text = \"Starke Verben auf Deutsch haben bei Partizip II die Endung -en, wie gesehen und geschlafen.\"\n",
    "ergebnisse = re.findall(r'([Gg]e)(\\S+)(en)', text)\n",
    "for teile in ergebnisse:\n",
    "    print(teile)\n"
   ]
  },
  {
   "cell_type": "code",
   "execution_count": 21,
   "metadata": {},
   "outputs": [
    {
     "name": "stdout",
     "output_type": "stream",
     "text": [
      "['In', 'einer', 'Gesellschaft', 'die', 'durch', 'Zentral\\nregierungen', 'und', 'Globalisierung', '']\n"
     ]
    }
   ],
   "source": [
    "import re\n",
    "\n",
    "text = \"In einer Gesellschaft, die durch Zentral\\nregierungen und Globalisierung...\"\n",
    "\n",
    "tokens = re.split(r'[,. \\r]+', text)\n",
    "\n",
    "print(tokens)\n"
   ]
  },
  {
   "cell_type": "code",
   "execution_count": 27,
   "metadata": {},
   "outputs": [
    {
     "ename": "FileNotFoundError",
     "evalue": "[Errno 2] No such file or directory: 'BrückenkursPhysik.txt'",
     "output_type": "error",
     "traceback": [
      "\u001b[1;31m---------------------------------------------------------------------------\u001b[0m",
      "\u001b[1;31mFileNotFoundError\u001b[0m                         Traceback (most recent call last)",
      "Cell \u001b[1;32mIn[27], line 5\u001b[0m\n\u001b[0;32m      1\u001b[0m \u001b[39mimport\u001b[39;00m \u001b[39mre\u001b[39;00m\n\u001b[0;32m      3\u001b[0m lstNamen \u001b[39m=\u001b[39m []\n\u001b[1;32m----> 5\u001b[0m \u001b[39mfor\u001b[39;00m name \u001b[39min\u001b[39;00m \u001b[39mopen\u001b[39;49m(\u001b[39m\"\u001b[39;49m\u001b[39mBrückenkursPhysik.txt\u001b[39;49m\u001b[39m\"\u001b[39;49m):\n\u001b[0;32m      6\u001b[0m     name1 \u001b[39m=\u001b[39m re\u001b[39m.\u001b[39msub(\u001b[39mr\u001b[39m\u001b[39m'\u001b[39m\u001b[39m(.*) ([^ \u001b[39m\u001b[39m\\\u001b[39m\u001b[39mn\u001b[39m\u001b[39m\\\u001b[39m\u001b[39mr]*)\u001b[39m\u001b[39m\\\u001b[39m\u001b[39ms*\u001b[39m\u001b[39m'\u001b[39m, \u001b[39mr\u001b[39m\u001b[39m'\u001b[39m\u001b[39m\\\u001b[39m\u001b[39m2, \u001b[39m\u001b[39m\\\u001b[39m\u001b[39m1\u001b[39m\u001b[39m'\u001b[39m, name)\n\u001b[0;32m      7\u001b[0m     lstNamen\u001b[39m.\u001b[39mappend(name1)\n",
      "File \u001b[1;32m~\\AppData\\Roaming\\Python\\Python311\\site-packages\\IPython\\core\\interactiveshell.py:284\u001b[0m, in \u001b[0;36m_modified_open\u001b[1;34m(file, *args, **kwargs)\u001b[0m\n\u001b[0;32m    277\u001b[0m \u001b[39mif\u001b[39;00m file \u001b[39min\u001b[39;00m {\u001b[39m0\u001b[39m, \u001b[39m1\u001b[39m, \u001b[39m2\u001b[39m}:\n\u001b[0;32m    278\u001b[0m     \u001b[39mraise\u001b[39;00m \u001b[39mValueError\u001b[39;00m(\n\u001b[0;32m    279\u001b[0m         \u001b[39mf\u001b[39m\u001b[39m\"\u001b[39m\u001b[39mIPython won\u001b[39m\u001b[39m'\u001b[39m\u001b[39mt let you open fd=\u001b[39m\u001b[39m{\u001b[39;00mfile\u001b[39m}\u001b[39;00m\u001b[39m by default \u001b[39m\u001b[39m\"\u001b[39m\n\u001b[0;32m    280\u001b[0m         \u001b[39m\"\u001b[39m\u001b[39mas it is likely to crash IPython. If you know what you are doing, \u001b[39m\u001b[39m\"\u001b[39m\n\u001b[0;32m    281\u001b[0m         \u001b[39m\"\u001b[39m\u001b[39myou can use builtins\u001b[39m\u001b[39m'\u001b[39m\u001b[39m open.\u001b[39m\u001b[39m\"\u001b[39m\n\u001b[0;32m    282\u001b[0m     )\n\u001b[1;32m--> 284\u001b[0m \u001b[39mreturn\u001b[39;00m io_open(file, \u001b[39m*\u001b[39;49margs, \u001b[39m*\u001b[39;49m\u001b[39m*\u001b[39;49mkwargs)\n",
      "\u001b[1;31mFileNotFoundError\u001b[0m: [Errno 2] No such file or directory: 'BrückenkursPhysik.txt'"
     ]
    }
   ],
   "source": [
    "import re\n",
    "\n",
    "lstNamen = []\n",
    "\n",
    "for name in open(\"BrückenkursPhysik.txt\"):\n",
    "    name1 = re.sub(r'(.*) ([^ \\n\\r]*)\\s*', r'\\2, \\1', name)\n",
    "    lstNamen.append(name1)\n",
    "\n",
    "lstNamen.sort()\n",
    "\n",
    "for name in lstNamen:\n",
    "    print(name)\n"
   ]
  }
 ],
 "metadata": {
  "kernelspec": {
   "display_name": "Python 3",
   "language": "python",
   "name": "python3"
  },
  "language_info": {
   "codemirror_mode": {
    "name": "ipython",
    "version": 3
   },
   "file_extension": ".py",
   "mimetype": "text/x-python",
   "name": "python",
   "nbconvert_exporter": "python",
   "pygments_lexer": "ipython3",
   "version": "3.11.3"
  },
  "orig_nbformat": 4
 },
 "nbformat": 4,
 "nbformat_minor": 2
}
