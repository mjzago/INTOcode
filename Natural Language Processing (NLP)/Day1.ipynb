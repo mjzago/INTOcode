{
 "cells": [
  {
   "cell_type": "code",
   "execution_count": 12,
   "metadata": {},
   "outputs": [
    {
     "ename": "FileNotFoundError",
     "evalue": "[WinError 3] The system cannot find the path specified: 'exercise_files'",
     "output_type": "error",
     "traceback": [
      "\u001b[1;31m---------------------------------------------------------------------------\u001b[0m",
      "\u001b[1;31mFileNotFoundError\u001b[0m                         Traceback (most recent call last)",
      "Cell \u001b[1;32mIn[12], line 28\u001b[0m\n\u001b[0;32m     25\u001b[0m                 file_out\u001b[39m.\u001b[39mwrite(line)\n\u001b[0;32m     27\u001b[0m \u001b[39m# Lista de nomes de arquivo a serem convertidos\u001b[39;00m\n\u001b[1;32m---> 28\u001b[0m file_names \u001b[39m=\u001b[39m os\u001b[39m.\u001b[39;49mlistdir(input_dir)\n\u001b[0;32m     30\u001b[0m \u001b[39m# Loop através dos arquivos no diretório de entrada e converter cada um\u001b[39;00m\n\u001b[0;32m     31\u001b[0m \u001b[39mfor\u001b[39;00m file_name \u001b[39min\u001b[39;00m file_names:\n",
      "\u001b[1;31mFileNotFoundError\u001b[0m: [WinError 3] The system cannot find the path specified: 'exercise_files'"
     ]
    }
   ],
   "source": [
    "import os\n",
    "import codecs\n",
    "\n",
    "# Diretório de entrada onde os arquivos originais estão localizados\n",
    "input_dir = \"exercise_files\"\n",
    "\n",
    "# Diretório de saída onde os arquivos convertidos serão salvos\n",
    "output_dir = \"converted_files\"\n",
    "\n",
    "# Crie o diretório de saída se ele não existir\n",
    "if not os.path.exists(output_dir):\n",
    "    os.makedirs(output_dir)\n",
    "\n",
    "# Função para detectar a codificação de um arquivo\n",
    "def detect_encoding(file_path):\n",
    "    with open(file_path, 'rb') as f:\n",
    "        result = chardet.detect(f.read())\n",
    "        return result['encoding']\n",
    "\n",
    "# Função para converter um arquivo para UTF-8\n",
    "def convert_to_utf8(input_file_path, output_file_path, input_encoding):\n",
    "    with codecs.open(input_file_path, 'r', input_encoding, errors='ignore') as file_in:\n",
    "        with codecs.open(output_file_path, 'w', 'utf-8') as file_out:\n",
    "            for line in file_in:\n",
    "                file_out.write(line)\n",
    "\n",
    "# Lista de nomes de arquivo a serem convertidos\n",
    "file_names = os.listdir(input_dir)\n",
    "\n",
    "# Loop através dos arquivos no diretório de entrada e converter cada um\n",
    "for file_name in file_names:\n",
    "    input_file_path = os.path.join(input_dir, file_name)\n",
    "    output_file_path = os.path.join(output_dir, file_name)\n",
    "\n",
    "    # Detectar a codificação original do arquivo\n",
    "    original_encoding = detect_encoding(input_file_path)\n",
    "\n",
    "    # Converter o arquivo para UTF-8\n",
    "    convert_to_utf8(input_file_path, output_file_path, original_encoding)\n",
    "    print(f\"{file_name} convertido para codificação UTF-8 e salvo como {output_file_path}\")\n"
   ]
  },
  {
   "cell_type": "code",
   "execution_count": 2,
   "metadata": {},
   "outputs": [],
   "source": [
    "import os\n",
    "import codecs\n",
    "\n",
    "bleistift_open = codecs.open('Texten lesen Texten schreiben/Aufgabe1/Texte/Bleistift.txt','r','cp1252')\n",
    "bleistift = bleistift_open.read()\n",
    "\n",
    "bleistift_out = codecs.open('Texten lesen Texten schreiben/Aufgabe1/Texte-out/Bleistift.txt','w','utf-8')\n",
    "bleistift_out.write(bleistift)\n",
    "\n",
    "bleistift_open.close()\n",
    "bleistift_out.close()"
   ]
  }
 ],
 "metadata": {
  "kernelspec": {
   "display_name": "Python 3",
   "language": "python",
   "name": "python3"
  },
  "language_info": {
   "codemirror_mode": {
    "name": "ipython",
    "version": 3
   },
   "file_extension": ".py",
   "mimetype": "text/x-python",
   "name": "python",
   "nbconvert_exporter": "python",
   "pygments_lexer": "ipython3",
   "version": "3.11.3"
  },
  "orig_nbformat": 4
 },
 "nbformat": 4,
 "nbformat_minor": 2
}
