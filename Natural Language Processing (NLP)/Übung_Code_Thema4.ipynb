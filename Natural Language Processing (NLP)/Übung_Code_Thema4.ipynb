{
 "cells": [
  {
   "cell_type": "code",
   "execution_count": 6,
   "metadata": {},
   "outputs": [
    {
     "name": "stdout",
     "output_type": "stream",
     "text": [
      "Counter({'jaccard': 3, 'intersection': 2, 'over': 2, 'union': 2, 'koeffizient': 1, 'index': 1, 'schweizer': 1, 'botaniker': 1, 'paul': 1, '1868': 1, '1944': 1, 'kennzahl': 1, 'ähnlichkeit': 1, 'mengen': 1, 'oft': 1, 'definition': 1, 'iou': 1, 'bezeichnet': 1})\n"
     ]
    }
   ],
   "source": [
    "# 1. Wir wollen einen Merkmalevektor\n",
    "# für den folgernden Text erstellen. Nehmen Sie Wörter als Merkmale des Textes.\n",
    "# Zuerst zahlen Sie einfach die Wörter. (denken Sie daran: stopwords herausfiltern)\n",
    "\n",
    "text1='Der Jaccard-Koeffizient oder Jaccard-Index, auch Intersection over Union nach dem Schweizer Botaniker Paul Jaccard (1868–1944) ist eine Kennzahl für die Ähnlichkeit von Mengen. Oft wird er auch nach seiner Definition als IoU (Intersection over Union) bezeichnet.' \n",
    "\n",
    "# code hier. Schreiben Sie eine Funktion, weil wir das wieder machen werden. \n",
    "\n",
    "import re\n",
    "from collections import Counter\n",
    "from nltk.corpus import stopwords\n",
    "\n",
    "# Laden der deutschen Stopwörter\n",
    "stop_words = set(stopwords.words('german'))\n",
    "\n",
    "def create_feature_vector(text):\n",
    "    # Text in Wörter aufteilen und in Kleinbuchstaben umwandeln\n",
    "    words = re.findall(r'\\w+', text.lower())\n",
    "    \n",
    "    # Wörter filtern, um Stopwörter zu entfernen\n",
    "    words = [word for word in words if word not in stop_words]\n",
    "    \n",
    "    # Häufigkeit der Wörter zählen\n",
    "    word_counts = Counter(words)\n",
    "    \n",
    "    return word_counts\n",
    "\n",
    "text1 = 'Der Jaccard-Koeffizient oder Jaccard-Index, auch Intersection over Union nach dem Schweizer Botaniker Paul Jaccard (1868–1944) ist eine Kennzahl für die Ähnlichkeit von Mengen. Oft wird er auch nach seiner Definition als IoU (Intersection over Union) bezeichnet.'\n",
    "\n",
    "# Merkmalsvektor für text1 erstellen\n",
    "feature_vector1 = create_feature_vector(text1)\n",
    "\n",
    "# Ausgabe des Merkmalsvektors\n",
    "print(feature_vector1)\n"
   ]
  },
  {
   "cell_type": "code",
   "execution_count": 5,
   "metadata": {},
   "outputs": [
    {
     "ename": "NameError",
     "evalue": "name 'create_feature_vector' is not defined",
     "output_type": "error",
     "traceback": [
      "\u001b[1;31m---------------------------------------------------------------------------\u001b[0m",
      "\u001b[1;31mNameError\u001b[0m                                 Traceback (most recent call last)",
      "Cell \u001b[1;32mIn[5], line 7\u001b[0m\n\u001b[0;32m      4\u001b[0m text3\u001b[39m=\u001b[39m\u001b[39m'\u001b[39m\u001b[39mDie Amerikanischen Gespenstfledermäuse (Diclidurus) sind eine Gattung der Fledermäuse aus der Familie der Glattnasen-Freischwänze. Neben der Weißen Fledermaus gehören sie zu den einzigen hellgrau bis weiß gefärbten Fledermäusen. Sie sind in den Tropen Zentral- und Südamerikas beheimatet.\u001b[39m\u001b[39m'\u001b[39m\n\u001b[0;32m      5\u001b[0m \u001b[39m#code hier\u001b[39;00m\n\u001b[1;32m----> 7\u001b[0m feature_vector2 \u001b[39m=\u001b[39m create_feature_vector(text2)\n\u001b[0;32m      8\u001b[0m feature_vector3 \u001b[39m=\u001b[39m create_feature_vector(text3)\n\u001b[0;32m     10\u001b[0m \u001b[39m# Ausgabe der Merkmalsvektoren\u001b[39;00m\n",
      "\u001b[1;31mNameError\u001b[0m: name 'create_feature_vector' is not defined"
     ]
    }
   ],
   "source": [
    "# 2. machen Sie das gleich für Text2 und Text 3. (einfach nutzen die Funktion von Übung 1) \n",
    "\n",
    "text2='Die Isabellfarbene Gespenstfledermaus (Diclidurus isabella oder Diclidurus isabellus) ist ein im nördlichen Südamerika verbreitetes Fledertier in der Gattung der Amerikanischen Gespenstfledermäuse. Die Art ist der einzige Vertreter der Untergattung Depanycteris, die zeitweilig als Gattung geführt wurde.[1] Trotz isabellfarbener Körperteile könnte sich Oldfield Thomas bei seiner Erstbeschreibung auf eine Person namens Isabell bezogen haben.[2]'\n",
    "text3='Die Amerikanischen Gespenstfledermäuse (Diclidurus) sind eine Gattung der Fledermäuse aus der Familie der Glattnasen-Freischwänze. Neben der Weißen Fledermaus gehören sie zu den einzigen hellgrau bis weiß gefärbten Fledermäusen. Sie sind in den Tropen Zentral- und Südamerikas beheimatet.'\n",
    "#code hier\n",
    "\n",
    "feature_vector2 = create_feature_vector(text2)\n",
    "feature_vector3 = create_feature_vector(text3)\n",
    "\n",
    "# Ausgabe der Merkmalsvektoren\n",
    "print(feature_vector2)\n",
    "print(feature_vector3)"
   ]
  },
  {
   "cell_type": "code",
   "execution_count": 7,
   "metadata": {},
   "outputs": [
    {
     "name": "stdout",
     "output_type": "stream",
     "text": [
      "[0, 0, 0, 0, 0, 1, 1, 0, 0, 1, 0, 0, 0, 1, 0, 0, 1, 0, 0, 1, 0, 2, 2, 2, 3, 0, 0, 0, 0, 0, 1, 0, 0, 0, 1, 0, 0, 0, 0, 0, 0, 1, 0, 0, 0, 0, 0, 0, 0, 1, 0, 0, 1, 0, 0, 0, 0, 0, 0, 1, 0, 0, 0, 1, 0, 0, 1]\n",
      "[0, 1, 1, 0, 1, 0, 0, 1, 1, 0, 1, 1, 0, 0, 1, 1, 0, 1, 1, 0, 0, 0, 0, 0, 0, 1, 1, 0, 1, 1, 0, 1, 0, 0, 0, 1, 0, 1, 1, 0, 2, 0, 0, 1, 1, 0, 0, 1, 1, 0, 1, 0, 0, 1, 0, 1, 2, 1, 0, 0, 1, 0, 1, 0, 0, 1, 0]\n",
      "[1, 0, 0, 1, 0, 0, 0, 0, 1, 0, 0, 0, 1, 0, 0, 0, 0, 0, 0, 0, 1, 0, 0, 0, 0, 0, 0, 1, 0, 0, 0, 0, 1, 1, 0, 0, 1, 0, 0, 1, 1, 0, 1, 0, 0, 1, 1, 1, 0, 0, 0, 1, 0, 0, 1, 0, 1, 0, 1, 0, 0, 1, 0, 0, 1, 0, 0]\n"
     ]
    }
   ],
   "source": [
    "# 3. Jetzt müssen wir beide Text vergleichbar, das heißt jede Vektor-Position das gleich Wort (Merkmal) entspricht.\n",
    "\n",
    "# Zuerst das gesamte Wortzschatz zu sammeln.\n",
    "# Danach die Vektor wieder zu erstellen \n",
    "\n",
    "# Texte\n",
    "text1 = 'Der Jaccard-Koeffizient oder Jaccard-Index, auch Intersection over Union nach dem Schweizer Botaniker Paul Jaccard (1868–1944) ist eine Kennzahl für die Ähnlichkeit von Mengen. Oft wird er auch nach seiner Definition als IoU (Intersection over Union) bezeichnet.'\n",
    "text2 = 'Die Isabellfarbene Gespenstfledermaus (Diclidurus isabella oder Diclidurus isabellus) ist ein im nördlichen Südamerika verbreitetes Fledertier in der Gattung der Amerikanischen Gespenstfledermäuse. Die Art ist der einzige Vertreter der Untergattung Depanycteris, die zeitweilig als Gattung geführt wurde.[1] Trotz isabellfarbener Körperteile könnte sich Oldfield Thomas bei seiner Erstbeschreibung auf eine Person namens Isabell bezogen haben.[2]'\n",
    "text3 = 'Die Amerikanischen Gespenstfledermäuse (Diclidurus) sind eine Gattung der Fledermäuse aus der Familie der Glattnasen-Freischwänze. Neben der Weißen Fledermaus gehören sie zu den einzigen hellgrau bis weiß gefärbten Fledermäusen. Sie sind in den Tropen Zentral- und Südamerikas beheimatet.'\n",
    "\n",
    "# Liste der Texte erstellen\n",
    "texts = [text1, text2, text3]\n",
    "\n",
    "# Gesamten Wortschatz sammeln\n",
    "def collect_vocabulary(texts):\n",
    "    vocabulary = set()\n",
    "    for text in texts:\n",
    "        words = re.findall(r'\\w+', text.lower())\n",
    "        words = [word for word in words if word not in stop_words]\n",
    "        vocabulary.update(words)\n",
    "    return list(vocabulary)\n",
    "\n",
    "# Wortschatz sammeln\n",
    "vocabulary = collect_vocabulary(texts)\n",
    "\n",
    "# Funktion zur Erstellung von Merkmalsvektoren basierend auf dem Wortschatz\n",
    "def create_feature_vector_with_vocabulary(text, vocabulary):\n",
    "    words = re.findall(r'\\w+', text.lower())\n",
    "    words = [word for word in words if word not in stop_words]\n",
    "    word_counts = Counter(words)\n",
    "    \n",
    "    # Merkmalsvektor erstellen, wobei jede Vektorposition einem Wort im Wortschatz entspricht\n",
    "    feature_vector = [word_counts[word] for word in vocabulary]\n",
    "    \n",
    "    return feature_vector\n",
    "\n",
    "# Merkmalsvektoren für alle Texte erstellen\n",
    "feature_vector1 = create_feature_vector_with_vocabulary(text1, vocabulary)\n",
    "feature_vector2 = create_feature_vector_with_vocabulary(text2, vocabulary)\n",
    "feature_vector3 = create_feature_vector_with_vocabulary(text3, vocabulary)\n",
    "\n",
    "# Ausgabe der Merkmalsvektoren\n",
    "print(feature_vector1)\n",
    "print(feature_vector2)\n",
    "print(feature_vector3)\n"
   ]
  },
  {
   "cell_type": "code",
   "execution_count": null,
   "metadata": {},
   "outputs": [],
   "source": [
    "# 4. Nutzen Sie Jaccard- Koeefizient. Laut diesem Maß, welche Texten sind am ählichsten. \n"
   ]
  },
  {
   "cell_type": "code",
   "execution_count": null,
   "metadata": {},
   "outputs": [],
   "source": [
    "# 5. Das gleich mit cosinus. "
   ]
  }
 ],
 "metadata": {
  "kernelspec": {
   "display_name": "Python 3",
   "language": "python",
   "name": "python3"
  },
  "language_info": {
   "codemirror_mode": {
    "name": "ipython",
    "version": 3
   },
   "file_extension": ".py",
   "mimetype": "text/x-python",
   "name": "python",
   "nbconvert_exporter": "python",
   "pygments_lexer": "ipython3",
   "version": "3.11.3"
  },
  "orig_nbformat": 4
 },
 "nbformat": 4,
 "nbformat_minor": 2
}
