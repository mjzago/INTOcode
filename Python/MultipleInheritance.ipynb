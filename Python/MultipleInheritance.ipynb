# Objective: The objective of this exercise is to create a Student class that inherits from both the Person and Course classes using multiple inheritance. The Person class represents a person with attributes like name and age, while the Course class represents a course with attributes like course name. The Student class should combine the functionalities of both classes and demonstrate how to access methods and attributes from its multiple parent classes.

class Person:
    def __init__(self, name, age):
        self.__name = name
        self.__age = age
    
    def __str__(self):
        return f"Name: {self.__name}, Age: {self.__age}"
    
    def printinfo(self):
        print(self.__name, self.__age)
    
    def getName(self):
        return self.__name
    
    def getAge(self):
        return self.__age

class Course:
    def __init__(self, course_name):
        self.__course_name = course_name

    def getCourseName(self):
        return self.__course_name

    def setCourseName(self, course_name):
        self.__course_name = course_name

class Student(Person, Course):
    def __init__(self, name, age, student_id, course_name):
        # Use the init method of both parent classes
        Person.__init__(self, name, age)
        Course.__init__(self, course_name)
        self.__student_id = student_id
    
    def __str__(self):
        return f"Name: {self.getName()}, Age: {self.getAge()}, ID: {self.__student_id}, Course: {self.getCourseName()}"
    
    def getStudentId(self):
        return self.__student_id

    def printinfo(self):
        print(f"Student ID: {self.__student_id}")
        print(f"Name: {self.getName()}, Age: {self.getAge()}")
        print(f"Course: {self.getCourseName()}")

# Demonstration
student = Student("Alice", 20, "12345", "Computer Science")
print("Student:")
print(student)
student.printinfo()

# Aufgabe: 01
# Modify the Student class to include more attributes, such as address, email, or phone number.

# Aufgabe: 02
# Implement additional methods in the Student class, such as changeCourse(self, newCourse), to allow students to switch courses.

# Aufgabe: 03
# Create a Teacher class that also inherits from the Person and Course classes, and demonstrate how a teacher can also have attributes and methods from both parent classes.
