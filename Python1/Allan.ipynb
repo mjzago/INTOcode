{
 "cells": [
  {
   "cell_type": "code",
   "execution_count": 2,
   "metadata": {},
   "outputs": [
    {
     "name": "stdout",
     "output_type": "stream",
     "text": [
      "Pedro's BMI: 20.061728395061728\n",
      "Pedro's peso atualizado: 70.0\n"
     ]
    }
   ],
   "source": [
    "class Person:\n",
    "    def __init__(self, name, weight, height):\n",
    "        self.name = name\n",
    "        self.weight = weight\n",
    "        self.height = height\n",
    "\n",
    "    def getBMI(self):\n",
    "        bmi = self.weight / (self.height ** 2)\n",
    "        return bmi\n",
    "\n",
    "    def increaseWeight(self, amount):\n",
    "        self.weight += amount\n",
    "\n",
    "# Obtenção dos dados de entrada do usuário\n",
    "name = input(\"Digite o nome da pessoa: \")\n",
    "weight = float(input(\"Digite o peso (em kg) da pessoa: \"))\n",
    "height = float(input(\"Digite a altura (em metros) da pessoa: \"))\n",
    "\n",
    "# Criando um objeto da classe Person com os dados inseridos pelo usuário\n",
    "person1 = Person(name, weight, height)\n",
    "\n",
    "# Exibindo o BMI da pessoa\n",
    "print(f\"{person1.name}'s BMI: {person1.getBMI()}\")\n",
    "\n",
    "# Pedindo ao usuário para aumentar o peso da pessoa\n",
    "increase_amount = float(input(\"Digite o valor a ser acrescido ao peso da pessoa: \"))\n",
    "person1.increaseWeight(increase_amount)\n",
    "\n",
    "# Exibindo o peso atualizado da pessoa\n",
    "print(f\"{person1.name}'s peso atualizado: {person1.weight}\")\n"
   ]
  },
  {
   "cell_type": "code",
   "execution_count": 25,
   "metadata": {},
   "outputs": [
    {
     "name": "stdout",
     "output_type": "stream",
     "text": [
      "Maria ist dicker als Pedro\n"
     ]
    }
   ],
   "source": [
    "class Person:\n",
    "    def __init__(self, name, weight, height):\n",
    "        self.name = name\n",
    "        self.weight = weight\n",
    "        self.height = height\n",
    "\n",
    "    def getBMI(self):\n",
    "        bmi = self.weight / (self.height ** 2)\n",
    "        return bmi\n",
    "\n",
    "def compare_bmi(person1, person2):\n",
    "    bmi1 = person1.getBMI()\n",
    "    bmi2 = person2.getBMI()\n",
    "\n",
    "    if bmi1 > bmi2:\n",
    "        return person1\n",
    "    elif bmi2 > bmi1:\n",
    "        return person2\n",
    "    else:\n",
    "        return None\n",
    "\n",
    "# User input\n",
    "person1 = Person(input(\"Insert the name: \"), float(input(\"Insert weight in kg: \")), float(input(\"Insert height in meters: \")))\n",
    "person2 = Person(input(\"Insert the name: \"), float(input(\"Insert weight in kg: \")), float(input(\"Insert height in meters: \")))\n",
    "\n",
    "# Compare BMI\n",
    "result = compare_bmi(person1, person2)\n",
    "\n",
    "# Print the result\n",
    "if result is None:\n",
    "    print(\"Both have the same BMI\")\n",
    "else:\n",
    "    print(f\"{result.name} ist dicker als {person1.name}\" if result == person2 else f\"{result.name} ist dicker als {person2.name}\")\n"
   ]
  },
  {
   "cell_type": "code",
   "execution_count": 52,
   "metadata": {},
   "outputs": [
    {
     "name": "stdout",
     "output_type": "stream",
     "text": [
      " Brand:BMW, Price: 50000, Model:218, Year: 2023\n"
     ]
    }
   ],
   "source": [
    "class Auto:\n",
    "    def __init__(self, brand,price,model,year):\n",
    "        self.__brand = brand\n",
    "        self.__price = price\n",
    "        self.__model = model\n",
    "        self.__year = year\n",
    "\n",
    "    def __str__(self):\n",
    "        return f\" Brand:{self.__brand}, Price: {self.__price}, Model:{self.__model}, Year: {self.__year}\"\n",
    "        \n",
    "    def getBrand(self):\n",
    "        return self.__brand\n",
    "    def getPrice(self):\n",
    "        return self.__price\n",
    "    def getModel(self):\n",
    "        return self.__model\n",
    "    def getYear(self):\n",
    "        return self.__year\n",
    "    def setBrand(self, brand):\n",
    "        self.__brand = brand\n",
    "    def setPrice(self, price):\n",
    "        self.__price = price\n",
    "    def setModel(self, model):\n",
    "        self.__model = model\n",
    "    def setYear(self, year):\n",
    "        self.__year = year\n",
    "\n",
    "\n",
    "auto1 = Auto('BMW',50000,218,2023)\n",
    "print(auto1)"
   ]
  },
  {
   "cell_type": "code",
   "execution_count": 54,
   "metadata": {},
   "outputs": [
    {
     "ename": "IndentationError",
     "evalue": "unexpected indent (2375469887.py, line 3)",
     "output_type": "error",
     "traceback": [
      "\u001b[1;36m  Cell \u001b[1;32mIn[54], line 3\u001b[1;36m\u001b[0m\n\u001b[1;33m    def __init__(self, name, age):\u001b[0m\n\u001b[1;37m    ^\u001b[0m\n\u001b[1;31mIndentationError\u001b[0m\u001b[1;31m:\u001b[0m unexpected indent\n"
     ]
    }
   ],
   "source": [
    "class Dog:\n",
    "    \"\"\"A simple attempt to model a dog.\"\"\"\n",
    "\n",
    "    def __init__(self, name, age):\n",
    "        \"\"\"Initialize name and age attributes.\"\"\"\n",
    "        self.name = name\n",
    "        self.age = age\n",
    "\n",
    "    def sit(self):\n",
    "        \"\"\"Simulate a dog sitting in response to a command.\"\"\"\n",
    "        print(f\"{self.name} is now sitting.\")\n",
    "\n",
    "    def roll_over(self):\n",
    "        \"\"\"Simulate rolling over in response to a command.\"\"\"\n",
    "        print(f\"{self.name} rolled over!\")\n"
   ]
  }
 ],
 "metadata": {
  "kernelspec": {
   "display_name": "Python 3",
   "language": "python",
   "name": "python3"
  },
  "language_info": {
   "codemirror_mode": {
    "name": "ipython",
    "version": 3
   },
   "file_extension": ".py",
   "mimetype": "text/x-python",
   "name": "python",
   "nbconvert_exporter": "python",
   "pygments_lexer": "ipython3",
   "version": "3.11.3"
  },
  "orig_nbformat": 4
 },
 "nbformat": 4,
 "nbformat_minor": 2
}
