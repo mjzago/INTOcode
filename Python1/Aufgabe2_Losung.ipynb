{
 "cells": [
  {
   "cell_type": "code",
   "execution_count": 1,
   "metadata": {},
   "outputs": [
    {
     "name": "stdout",
     "output_type": "stream",
     "text": [
      "5\n"
     ]
    }
   ],
   "source": [
    "#Aufgabe 2.1\n",
    "wort=input('word: ')\n",
    "i=0\n",
    "for b in wort:\n",
    "    i+=1\n",
    "print(i)"
   ]
  },
  {
   "cell_type": "code",
   "execution_count": 1,
   "metadata": {},
   "outputs": [
    {
     "name": "stdout",
     "output_type": "stream",
     "text": [
      "314.0 cm2\n"
     ]
    }
   ],
   "source": [
    "#Aufgabe 2.2\n",
    "figur=input('Figur: ')\n",
    "if figur=='Kreis':\n",
    "    r=float(input('radius(cm): '))\n",
    "    print(3.14*r**2,'cm2')\n",
    "elif figur=='Quadrat':\n",
    "    l=float(input('Seite(cm): '))\n",
    "    print(l**2,'cm2')\n",
    "elif figur=='Rechteck':\n",
    "    l1=float(input('Seite1'))\n",
    "    l2=float(input('Seite2'))\n",
    "    print(l1*l2,'cm2')\n",
    "else:\n",
    "    print('nicht bekannt')"
   ]
  },
  {
   "cell_type": "code",
   "execution_count": 4,
   "metadata": {},
   "outputs": [
    {
     "name": "stdout",
     "output_type": "stream",
     "text": [
      "Durchschnitt:  2.5\n"
     ]
    }
   ],
   "source": [
    "#Aufgabe 2.3\n",
    "menge=int(input('wie viele Zahlen?'))\n",
    "summe=0\n",
    "i=0\n",
    "while i < menge:\n",
    "    for i in range(menge):\n",
    "        z=float(input('zahl eingeben: '))\n",
    "        summe+=z\n",
    "        i+=1\n",
    "durchscnitt= summe / menge\n",
    "print('Durchschnitt: ', durchscnitt)"
   ]
  },
  {
   "cell_type": "code",
   "execution_count": 5,
   "metadata": {},
   "outputs": [
    {
     "name": "stdout",
     "output_type": "stream",
     "text": [
      "M\n",
      "a\n",
      "t\n",
      "h\n",
      "e\n",
      "u\n",
      "s\n"
     ]
    }
   ],
   "source": [
    "# Aufgabe 2.5\n",
    "wort=input('word: ')\n",
    "for b in wort:\n",
    "    print(b)"
   ]
  },
  {
   "cell_type": "code",
   "execution_count": 8,
   "metadata": {},
   "outputs": [
    {
     "name": "stdout",
     "output_type": "stream",
     "text": [
      "2\n",
      "4\n",
      "6\n",
      "8\n",
      "10\n"
     ]
    }
   ],
   "source": [
    "# Aufgabe 2.6\n",
    "number=int(input('Zahlen: ')) \n",
    "i=0\n",
    "while i<number:\n",
    "    i+=1\n",
    "    if i%2 == 1:\n",
    "        print(i)  "
   ]
  },
  {
   "cell_type": "code",
   "execution_count": 9,
   "metadata": {},
   "outputs": [
    {
     "name": "stdout",
     "output_type": "stream",
     "text": [
      "*\n",
      "**\n",
      "***\n"
     ]
    }
   ],
   "source": [
    "# Aufgabe 2.7\n",
    "number=int(input('Zahlen: '))\n",
    "i=1\n",
    "while i<=number:\n",
    "   print('*'*i)\n",
    "   i+=1"
   ]
  },
  {
   "cell_type": "code",
   "execution_count": null,
   "metadata": {},
   "outputs": [],
   "source": [
    "#Aufgabe 2.8\n",
    "number=int(input('Zahlen: '))\n",
    "while number>0:\n",
    "   print('*'*number)\n",
    "   number=number-1"
   ]
  },
  {
   "cell_type": "code",
   "execution_count": null,
   "metadata": {},
   "outputs": [],
   "source": [
    "#Aufgabe 9\n",
    "h=int(input('Die Höhe ist: '))\n",
    "b=int(input('Die Breite ist: '))\n",
    "for i in range(h):\n",
    "   print('*'*b)"
   ]
  },
  {
   "cell_type": "code",
   "execution_count": 12,
   "metadata": {},
   "outputs": [
    {
     "name": "stdout",
     "output_type": "stream",
     "text": [
      "h\n"
     ]
    }
   ],
   "source": [
    "W = input()\n",
    "t=W[-1]\n",
    "\n",
    "print(t)"
   ]
  }
 ],
 "metadata": {
  "kernelspec": {
   "display_name": "base",
   "language": "python",
   "name": "python3"
  },
  "language_info": {
   "codemirror_mode": {
    "name": "ipython",
    "version": 3
   },
   "file_extension": ".py",
   "mimetype": "text/x-python",
   "name": "python",
   "nbconvert_exporter": "python",
   "pygments_lexer": "ipython3",
   "version": "3.11.3"
  },
  "orig_nbformat": 4
 },
 "nbformat": 4,
 "nbformat_minor": 2
}
