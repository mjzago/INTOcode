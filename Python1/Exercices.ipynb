{
 "cells": [
  {
   "attachments": {},
   "cell_type": "markdown",
   "metadata": {},
   "source": [
    "a. Body Mass Index (BMI) is a measure of body fat based on an individual's weight and height. It is commonly used as a screening tool to identify whether a person is underweight, normal weight, overweight, or obese. BMI is calculated by dividing a person's weight in kilograms by the square of their height in meters.\n",
    "\n",
    "b. Here's a Python program that calculates the BMI based on user input:"
   ]
  },
  {
   "cell_type": "code",
   "execution_count": 1,
   "metadata": {},
   "outputs": [
    {
     "name": "stdout",
     "output_type": "stream",
     "text": [
      "Your BMI is: 19.7\n"
     ]
    }
   ],
   "source": [
    "weight = float(input(\"Enter your weight in kilograms: \"))\n",
    "height = int(input(\"Enter your height in centimeters: \"))\n",
    "\n",
    "# Convert height to meters\n",
    "height /= 100\n",
    "\n",
    "# Calculate BMI\n",
    "bmi = weight / (height ** 2)\n",
    "\n",
    "# Round BMI to one decimal place\n",
    "rounded_bmi = round(bmi, 1)\n",
    "\n",
    "# Output the result\n",
    "print(\"Your BMI is:\", rounded_bmi)\n"
   ]
  },
  {
   "attachments": {},
   "cell_type": "markdown",
   "metadata": {},
   "source": [
    "1. Variáveis:\n",
    "As variáveis são usadas para armazenar valores que podem ser usados posteriormente no programa. Para calcular o IMC, precisaremos de duas variáveis: `weight` (peso) e `height` (altura). \n",
    "\n",
    "```python\n",
    "weight = float(input(\"Digite o seu peso em quilogramas: \"))\n",
    "```\n",
    "Nesta linha, usamos a função `input()` para solicitar ao usuário que digite o seu peso em quilogramas. Em seguida, usamos a função `float()` para converter a entrada em um número de ponto flutuante e atribuímos o valor à variável `weight`.\n",
    "\n",
    "```python\n",
    "height = int(input(\"Digite a sua altura em centímetros: \"))\n",
    "```\n",
    "Nesta linha, usamos novamente a função `input()` para solicitar ao usuário que digite a sua altura em centímetros. Em seguida, usamos a função `int()` para converter a entrada em um número inteiro e atribuímos o valor à variável `height`.\n",
    "\n",
    "2. Cálculo do IMC:\n",
    "O cálculo do IMC é feito dividindo o peso pelo quadrado da altura. Usaremos a variável `bmi` para armazenar o resultado desse cálculo.\n",
    "\n",
    "```python\n",
    "bmi = weight / (height ** 2)\n",
    "```\n",
    "\n",
    "3. Arredondamento do IMC:\n",
    "Para obter uma saída mais legível, podemos arredondar o valor do IMC para uma casa decimal. Usaremos a função `round()` para isso.\n",
    "\n",
    "```python\n",
    "rounded_bmi = round(bmi, 1)\n",
    "```\n",
    "Nesta linha, usamos a função `round()` para arredondar o valor do IMC (armazenado na variável `bmi`) para uma casa decimal. O valor arredondado é atribuído à variável `rounded_bmi`.\n",
    "\n",
    "4. Saída do resultado:\n",
    "Para exibir o resultado do IMC para o usuário, usaremos a função `print()`.\n",
    "\n",
    "```python\n",
    "print(\"Seu IMC é:\", rounded_bmi)\n",
    "```\n",
    "Nesta linha, usamos a função `print()` para exibir o resultado do IMC no console. O texto \"Seu IMC é:\" é exibido primeiro, seguido pelo valor do IMC arredondado (armazenado na variável `rounded_bmi`).\n",
    "\n",
    "Com essas etapas, você pode montar o programa completo para calcular o IMC. Lembre-se de que você precisa seguir a ordem correta das instruções e considerar os tipos de dados adequados ao solicitar entrada do usuário e realizar cálculos matemáticos."
   ]
  },
  {
   "cell_type": "code",
   "execution_count": 2,
   "metadata": {},
   "outputs": [
    {
     "name": "stdout",
     "output_type": "stream",
     "text": [
      "Your BMI is: 19.7\n"
     ]
    }
   ],
   "source": [
    "try:\n",
    "    weight = float(input(\"Enter your weight in kilograms: \"))\n",
    "    height = int(input(\"Enter your height in centimeters: \"))\n",
    "\n",
    "    if weight <= 0 or height <= 0:\n",
    "        raise ValueError(\"Weight and height must be positive values.\")\n",
    "\n",
    "    height /= 100\n",
    "\n",
    "    bmi = weight / (height ** 2)\n",
    "    rounded_bmi = round(bmi, 1)\n",
    "\n",
    "    print(\"Your BMI is:\", rounded_bmi)\n",
    "\n",
    "except ValueError as e:\n",
    "    print(\"Error:\", e)\n"
   ]
  },
  {
   "cell_type": "code",
   "execution_count": 13,
   "metadata": {},
   "outputs": [
    {
     "name": "stdout",
     "output_type": "stream",
     "text": [
      "seu BMI é: 0.0\n"
     ]
    }
   ],
   "source": [
    "weight = float(input(\"Enter your weight in kilograms: \"))\n",
    "height = int(input(\"Enter your height in centimeters: \"))\n",
    "\n",
    "# Convert height to meters\n",
    "height /= 100\n",
    "\n",
    "# Calculate BMI\n",
    "bmi = weight / (height ** 2)\n",
    "\n",
    "# Round BMI to one decimal place\n",
    "rounded_bmi = round(bmi, 1)\n",
    "\n",
    "# Output the result\n",
    "print(\"Your BMI is:\", rounded_bmi)\n"
   ]
  },
  {
   "cell_type": "code",
   "execution_count": 14,
   "metadata": {},
   "outputs": [
    {
     "name": "stdout",
     "output_type": "stream",
     "text": [
      "Your current age is: 34 years\n"
     ]
    }
   ],
   "source": [
    "from datetime import date\n",
    "\n",
    "def calculate_age(birthdate):\n",
    "    today = date.today()\n",
    "    age = today.year - birthdate.year - ((today.month, today.day) < (birthdate.month, birthdate.day))\n",
    "    return age\n",
    "\n",
    "# Input the birthdate from the user in the format YYYY-MM-DD\n",
    "birthdate_str = input(\"Enter your birthdate (YYYY-MM-DD): \")\n",
    "\n",
    "# Convert the input string to a date object\n",
    "birthdate = date.fromisoformat(birthdate_str)\n",
    "\n",
    "# Calculate the age\n",
    "age = calculate_age(birthdate)\n",
    "\n",
    "# Output the result\n",
    "print(f\"Your current age is: {age} years\")\n"
   ]
  }
 ],
 "metadata": {
  "kernelspec": {
   "display_name": "Python 3",
   "language": "python",
   "name": "python3"
  },
  "language_info": {
   "codemirror_mode": {
    "name": "ipython",
    "version": 3
   },
   "file_extension": ".py",
   "mimetype": "text/x-python",
   "name": "python",
   "nbconvert_exporter": "python",
   "pygments_lexer": "ipython3",
   "version": "3.11.3"
  },
  "orig_nbformat": 4
 },
 "nbformat": 4,
 "nbformat_minor": 2
}
