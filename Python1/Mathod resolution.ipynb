{
 "cells": [
  {
   "cell_type": "code",
   "execution_count": 9,
   "metadata": {},
   "outputs": [
    {
     "name": "stdout",
     "output_type": "stream",
     "text": [
      "Hello from class B\n",
      "[<class '__main__.D'>, <class '__main__.B'>, <class '__main__.C'>, <class '__main__.A'>, <class 'object'>]\n",
      "Hello from class B\n",
      "[<class '__main__.F'>, <class '__main__.D'>, <class '__main__.B'>, <class '__main__.E'>, <class '__main__.C'>, <class '__main__.A'>, <class 'object'>]\n"
     ]
    }
   ],
   "source": [
    "# Method Resolution Order (MRO) # C3 Linearization Algorithm\n",
    "class A:\n",
    "    def hello(self):\n",
    "        print(\"Hello from class A\")\n",
    "\n",
    "\n",
    "class B(A):\n",
    "    def hello(self):\n",
    "        print(\"Hello from class B\")\n",
    "\n",
    "\n",
    "class C(A):\n",
    "    def hello(self):\n",
    "        print(\"Hello from class C\")\n",
    "\n",
    "\n",
    "class D(B, C):\n",
    "    pass\n",
    "\n",
    "\n",
    "# Create an instance of class D\n",
    "d_instance = D()\n",
    "\n",
    "# Call the hello() method on d_instance\n",
    "d_instance.hello()\n",
    "\n",
    "print(D.mro())\n",
    "\n",
    "\n",
    "\n",
    "\n",
    "\n",
    "# Aufgabe 1: Method Resolution Order (MRO)\n",
    "\n",
    "class A:\n",
    "    def hello(self):\n",
    "        print(\"Hello from class A\")\n",
    "\n",
    "\n",
    "class B(A):\n",
    "    def hello(self):\n",
    "        print(\"Hello from class B\")\n",
    "\n",
    "\n",
    "class C(A):\n",
    "    def hello(self):\n",
    "        print(\"Hello from class C\")\n",
    "\n",
    "\n",
    "class D(B, C):\n",
    "    pass\n",
    "\n",
    "\n",
    "class E(C):\n",
    "    def hello(self):\n",
    "        print(\"Hello from class E\")\n",
    "\n",
    "\n",
    "class F(D, E):\n",
    "    pass\n",
    "\n",
    "\n",
    "f_instance = F()\n",
    "\n",
    "f_instance.hello()\n",
    "print(F.mro())\n",
    "\n",
    "\n",
    "\n"
   ]
  },
  {
   "attachments": {},
   "cell_type": "markdown",
   "metadata": {},
   "source": [
    "# Create an instance of class F\n",
    "# Call the hello() method on instance of class F\n",
    "# Show the Method Resolution Order for class F\n",
    "\n"
   ]
  }
 ],
 "metadata": {
  "kernelspec": {
   "display_name": "Python 3",
   "language": "python",
   "name": "python3"
  },
  "language_info": {
   "codemirror_mode": {
    "name": "ipython",
    "version": 3
   },
   "file_extension": ".py",
   "mimetype": "text/x-python",
   "name": "python",
   "nbconvert_exporter": "python",
   "pygments_lexer": "ipython3",
   "version": "3.11.3"
  },
  "orig_nbformat": 4
 },
 "nbformat": 4,
 "nbformat_minor": 2
}
