{
 "cells": [
  {
   "attachments": {},
   "cell_type": "markdown",
   "metadata": {},
   "source": [
    "**Übung 1**\n",
    "\n",
    "Schreiben Sie eine Funktion namens nested_sum, die die allen einzige Elemente der folgende Liste summiert. \n",
    "\n",
    "t=[[1,2],[3],[4,5,6]]\n",
    "\n",
    "\n",
    "Das Ergebniss soll 21 sein."
   ]
  },
  {
   "cell_type": "code",
   "execution_count": 1,
   "metadata": {},
   "outputs": [],
   "source": [
    "#Code hier"
   ]
  },
  {
   "attachments": {},
   "cell_type": "markdown",
   "metadata": {},
   "source": [
    "**Übung 2**\n",
    "SchreibenSie eine Funktion namens cumsum, die eine Liste mit Zahlen erwartet und die kimulieert Summe zurückgibt. Die Rückgabewert soll eine neue Liste sein, in der das i-te Elemente gliech der Summe der ersten i+1 Elemente aus der urprüngliche Liste ist. Hier ein Beispiel:\n",
    "\n",
    "t=[1,2,3]\n",
    "\n",
    "cumsum(t)\n",
    "\n",
    "21"
   ]
  },
  {
   "cell_type": "code",
   "execution_count": null,
   "metadata": {},
   "outputs": [],
   "source": [
    "#code hier"
   ]
  },
  {
   "attachments": {},
   "cell_type": "markdown",
   "metadata": {},
   "source": [
    "**Übung 3**\n",
    "\n",
    "Schreibt eine Funktion middle(), die für eine Liste ihr erstes und ihr letztes Element entfernt und die neue Liste zurückgibt.\n",
    "\n",
    "middle ([1,2,3,4])\n",
    "\n",
    "liefert also [2,3]"
   ]
  },
  {
   "cell_type": "code",
   "execution_count": null,
   "metadata": {},
   "outputs": [],
   "source": [
    "#code hier"
   ]
  },
  {
   "attachments": {},
   "cell_type": "markdown",
   "metadata": {},
   "source": [
    "**Übung 4**\n",
    "\n",
    "Schriebt ein Programm, das das größte Element in der folgenden Liste zurückgibt. \n",
    "\n",
    "my_list = [23, 52, 5334, 45, 11, 3, 76]"
   ]
  },
  {
   "cell_type": "code",
   "execution_count": 2,
   "metadata": {},
   "outputs": [],
   "source": [
    "# code"
   ]
  },
  {
   "attachments": {},
   "cell_type": "markdown",
   "metadata": {},
   "source": [
    "**Übung 5**\n",
    "\n",
    "Schreibt ein Programm, welches alle doppelten Werte in einer Liste entfernt."
   ]
  },
  {
   "cell_type": "code",
   "execution_count": null,
   "metadata": {},
   "outputs": [],
   "source": [
    "# code hier"
   ]
  },
  {
   "attachments": {},
   "cell_type": "markdown",
   "metadata": {},
   "source": [
    "**Übung 6**\n",
    "\n",
    "Schreibt eine Funktion greatestChar(input), die den größten Buchstaben zurückliefert. \n",
    "\n",
    "Also : greatestChar(‘aehiozehi’) liefert ‘z’ zurück.\n"
   ]
  },
  {
   "cell_type": "code",
   "execution_count": 3,
   "metadata": {},
   "outputs": [],
   "source": [
    "# code hier"
   ]
  },
  {
   "attachments": {},
   "cell_type": "markdown",
   "metadata": {},
   "source": [
    "**Übung 7**\n",
    "\n",
    "Schreiben Sie eine Funktion namens chop, die eine Liste erwartet, die das erste und das letze Element entfernt und den Rückgabewert None liefert. Zum Beispiel_\n",
    "\n",
    "t=[1,2,3,4]\n",
    "\n",
    "chop(t)\n",
    "\n",
    "print(t)\n",
    "\n",
    "    [2,3]"
   ]
  },
  {
   "cell_type": "code",
   "execution_count": 4,
   "metadata": {},
   "outputs": [],
   "source": [
    "#code hier"
   ]
  },
  {
   "attachments": {},
   "cell_type": "markdown",
   "metadata": {},
   "source": [
    "**Übung 8**\n",
    "Schreiben Sie eine Funktion mit dem Namen is_sorted, die eine Liste als Parameter erwartet und True zurückliefert, wenn die Liste aufgesteigend sortiert ist, und ansonsten den Wert False zurückgibt. Zum Beispiel:\n",
    "\n",
    "issorted( [ 1, 2 , 2 ] )\n",
    "\n",
    "True\n",
    "\n",
    "issorted( [ 'b', 'a' ] )"
   ]
  },
  {
   "cell_type": "code",
   "execution_count": 5,
   "metadata": {},
   "outputs": [],
   "source": [
    "#code hier"
   ]
  },
  {
   "attachments": {},
   "cell_type": "markdown",
   "metadata": {},
   "source": [
    "**Übung 9**\n",
    "Zwei Wörter werden dann als Anagramm bezeichnet, wenn Sie die Buchstaben des einen Wort so umstellen können, dass das andere Wort erhalten. Schreiben Sie eine Funktion mit dem Namen is_anagramm, die zwei Strings erwartet und True liefert, wenn es sich um Anagramme handelt. \n",
    "\n"
   ]
  },
  {
   "cell_type": "code",
   "execution_count": null,
   "metadata": {},
   "outputs": [],
   "source": [
    "# code hier"
   ]
  },
  {
   "cell_type": "code",
   "execution_count": null,
   "metadata": {},
   "outputs": [],
   "source": []
  }
 ],
 "metadata": {
  "kernelspec": {
   "display_name": "base",
   "language": "python",
   "name": "python3"
  },
  "language_info": {
   "codemirror_mode": {
    "name": "ipython",
    "version": 3
   },
   "file_extension": ".py",
   "mimetype": "text/x-python",
   "name": "python",
   "nbconvert_exporter": "python",
   "pygments_lexer": "ipython3",
   "version": "3.8.3"
  },
  "orig_nbformat": 4
 },
 "nbformat": 4,
 "nbformat_minor": 2
}
