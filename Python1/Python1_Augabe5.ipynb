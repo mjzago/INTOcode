{
 "cells": [
  {
   "attachments": {},
   "cell_type": "markdown",
   "metadata": {},
   "source": [
    "**Übung 1**\n",
    "\n",
    "Schreiben Sie eine Funktion namens nested_sum, die die allen einzige Elemente der folgende Liste summiert. \n",
    "\n",
    "t=[[1,2],[3],[4,5,6]]\n",
    "\n",
    "\n",
    "Das Ergebniss soll 21 sein."
   ]
  },
  {
   "cell_type": "code",
   "execution_count": 5,
   "metadata": {},
   "outputs": [
    {
     "name": "stdout",
     "output_type": "stream",
     "text": [
      "21\n"
     ]
    }
   ],
   "source": [
    "def nested_sum(list):\n",
    "    # Create an empty set to store unique elements\n",
    "    unique_elements = set()\n",
    "    \n",
    "    # Iterate over each sublist in the input list\n",
    "    for sublist in list:\n",
    "        # Iterate over each element in the current sublist\n",
    "        for num in sublist:\n",
    "            # Add the element to the set of unique elements\n",
    "            unique_elements.add(num)\n",
    "    \n",
    "    # Calculate the sum of the unique elements\n",
    "    sum_of_unique_elements = sum(unique_elements)\n",
    "    \n",
    "    # Return the sum\n",
    "    return sum_of_unique_elements\n",
    "\n",
    "\n",
    "# Create a nested list\n",
    "t = [[1, 2], [3], [4, 5, 6]]\n",
    "\n",
    "# Call the nested_sum function with the nested list as the argument\n",
    "result = nested_sum(t)\n",
    "\n",
    "# Print the result\n",
    "print(result)  # Output: 21\n"
   ]
  },
  {
   "attachments": {},
   "cell_type": "markdown",
   "metadata": {},
   "source": [
    "**Übung 2**\n",
    "SchreibenSie eine Funktion Namen cumsum, die eine Liste mit Zahlen erwartet und die kimulieert Summe zurückgibt. Die Rückgabewert soll eine neue Liste sein, in der das i-te Elemente gliech der Summe der ersten i+1 Elemente aus der urprüngliche Liste ist. Hier ein Beispiel:\n",
    "\n",
    "t=[1,2,3]\n",
    "\n",
    "cumsum(t)\n",
    "\n",
    "21"
   ]
  },
  {
   "cell_type": "code",
   "execution_count": 28,
   "metadata": {},
   "outputs": [
    {
     "name": "stdout",
     "output_type": "stream",
     "text": [
      "[1, 3, 6, 10, 15]\n"
     ]
    }
   ],
   "source": [
    "def cumsum(lst):\n",
    "    cumulative_sum = 0  # Initialize a variable to keep track of the cumulative sum\n",
    "    cumulative_list = []  # Initialize an empty list to store the cumulative sums\n",
    "    \n",
    "    # Iterate over each number in the input list\n",
    "    for num in lst: #. On each iteration, the loop assigns the current element to the variable num, and the subsequent code block within the loop is executed.\n",
    "        cumulative_sum += num  # Add the current number to the cumulative sum\n",
    "        cumulative_list.append(cumulative_sum)  # Append the cumulative sum to the result list\n",
    "    \n",
    "    return cumulative_list  # Return the list of cumulative sums\n",
    "\n",
    "\n",
    "t = [1, 2, 3, 4, 5]\n",
    "result = cumsum(t)\n",
    "print(result)  # Output: [1, 3, 6]\n"
   ]
  },
  {
   "attachments": {},
   "cell_type": "markdown",
   "metadata": {},
   "source": [
    "**Übung 3**\n",
    "\n",
    "Schreibt eine Funktion middle(), die für eine Liste ihr erstes und ihr letztes Element entfernt und die neue Liste zurückgibt.\n",
    "\n",
    "middle ([1,2,3,4])\n",
    "\n",
    "liefert also [2,3]"
   ]
  },
  {
   "cell_type": "code",
   "execution_count": 10,
   "metadata": {},
   "outputs": [
    {
     "name": "stdout",
     "output_type": "stream",
     "text": [
      "[2, 3]\n"
     ]
    }
   ],
   "source": [
    "def middle(list):\n",
    "    # Check if the list has at least two elements\n",
    "    if len(list) >= 2:\n",
    "        # Return a new list containing elements from index 1 to index -1 (excluding the first and last elements)\n",
    "        return list[1:-1]\n",
    "    else:\n",
    "        # If the list has less than two elements, return an empty list\n",
    "        return []\n",
    "\n",
    "# Test the function\n",
    "t = [1, 2, 3, 4]\n",
    "result = middle(t)\n",
    "print(result)  # Output: [2, 3]\n"
   ]
  },
  {
   "attachments": {},
   "cell_type": "markdown",
   "metadata": {},
   "source": [
    "**Übung 4**\n",
    "\n",
    "Schriebt ein Programm, das das größte Element in der folgenden Liste zurückgibt. \n",
    "\n",
    "my_list = [23, 52, 5334, 45, 11, 3, 76]"
   ]
  },
  {
   "cell_type": "code",
   "execution_count": 11,
   "metadata": {},
   "outputs": [
    {
     "name": "stdout",
     "output_type": "stream",
     "text": [
      "5334\n"
     ]
    }
   ],
   "source": [
    "my_list = [23, 52, 5334, 45, 11, 3, 76]\n",
    "\n",
    "# Initialize a variable to hold the largest element\n",
    "largest_element = my_list[0]\n",
    "\n",
    "# Iterate through the list and update the largest element if a larger value is found\n",
    "for num in my_list:\n",
    "    if num > largest_element:\n",
    "        largest_element = num\n",
    "\n",
    "# Print the largest element\n",
    "print(largest_element)  # Output: 5334\n"
   ]
  },
  {
   "cell_type": "code",
   "execution_count": 30,
   "metadata": {},
   "outputs": [
    {
     "name": "stdout",
     "output_type": "stream",
     "text": [
      "3\n"
     ]
    }
   ],
   "source": [
    "my_list = [23, 52, 5334, 45, 11, 3, 76]\n",
    "\n",
    "# Initialize a variable to hold the largest element\n",
    "smallest_element = my_list[0]\n",
    "\n",
    "# Iterate through the list and update the largest element if a larger value is found\n",
    "for num in my_list:\n",
    "    if num < smallest_element:\n",
    "        smallest_element = num\n",
    "\n",
    "# Print the smallest element\n",
    "print(smallest_element)  # Output: 3"
   ]
  },
  {
   "attachments": {},
   "cell_type": "markdown",
   "metadata": {},
   "source": [
    "**Übung 5**\n",
    "\n",
    "Schreibt ein Programm, welches alle doppelten Werte in einer Liste entfernt."
   ]
  },
  {
   "cell_type": "code",
   "execution_count": 24,
   "metadata": {},
   "outputs": [
    {
     "name": "stdout",
     "output_type": "stream",
     "text": [
      "[1, 2, 3, 4, 5, 6]\n"
     ]
    }
   ],
   "source": [
    "def remove_duplicates(lst):\n",
    "    # Create an empty list to store unique values\n",
    "    unique_list = []\n",
    "\n",
    "    # Iterate through the list\n",
    "    for value in lst:\n",
    "        # Check if the value is already in the unique list\n",
    "        if value not in unique_list:\n",
    "            # If the value is not already in the unique list, add it\n",
    "            unique_list.append(value)\n",
    "\n",
    "    # Return the list with duplicates removed\n",
    "    return unique_list\n",
    "\n",
    "# Test the function\n",
    "my_list = [1, 2, 3, 2, 4, 3, 5, 6, 5, 4]\n",
    "result = remove_duplicates(my_list)\n",
    "print(result)  # Output: [1, 2, 3, 4, 5, 6]\n"
   ]
  },
  {
   "attachments": {},
   "cell_type": "markdown",
   "metadata": {},
   "source": [
    "**Übung 6**\n",
    "\n",
    "Schreibt eine Funktion greatestChar(input), die den größten Buchstaben zurückliefert. \n",
    "\n",
    "Also : greatestChar(‘aehiozehi’) liefert ‘z’ zurück.\n"
   ]
  },
  {
   "cell_type": "code",
   "execution_count": 3,
   "metadata": {},
   "outputs": [],
   "source": [
    "def greastestChar(imput)"
   ]
  },
  {
   "attachments": {},
   "cell_type": "markdown",
   "metadata": {},
   "source": [
    "**Übung 7**\n",
    "\n",
    "Schreiben Sie eine Funktion namens chop, die eine Liste erwartet, die das erste und das letze Element entfernt und den Rückgabewert None liefert. Zum Beispiel_\n",
    "\n",
    "t=[1,2,3,4]\n",
    "\n",
    "chop(t)\n",
    "\n",
    "print(t)\n",
    "\n",
    "    [2,3]"
   ]
  },
  {
   "cell_type": "code",
   "execution_count": 25,
   "metadata": {},
   "outputs": [
    {
     "name": "stdout",
     "output_type": "stream",
     "text": [
      "[2, 3]\n"
     ]
    }
   ],
   "source": [
    "def chop(lst):\n",
    "    del lst[0]  # Entferne das erste Element\n",
    "    del lst[-1]  # Entferne das letzte Element\n",
    "\n",
    "t = [1, 2, 3, 4]\n",
    "chop(t)\n",
    "print(t)  # Ausgabe: [2, 3]\n"
   ]
  },
  {
   "attachments": {},
   "cell_type": "markdown",
   "metadata": {},
   "source": [
    "**Übung 8**\n",
    "Schreiben Sie eine Funktion mit dem Namen is_sorted, die eine Liste als Parameter erwartet und True zurückliefert, wenn die Liste aufgesteigend sortiert ist, und ansonsten den Wert False zurückgibt. Zum Beispiel:\n",
    "\n",
    "issorted( [ 1, 2 , 2 ] )\n",
    "\n",
    "True\n",
    "\n",
    "issorted( [ 'b', 'a' ] )"
   ]
  },
  {
   "cell_type": "code",
   "execution_count": 26,
   "metadata": {},
   "outputs": [
    {
     "name": "stdout",
     "output_type": "stream",
     "text": [
      "True\n",
      "False\n"
     ]
    }
   ],
   "source": [
    "def is_sorted(lst):\n",
    "    # Iterate through the list starting from the second element\n",
    "    for i in range(1, len(lst)):\n",
    "        # Check if the current element is smaller than the previous element\n",
    "        if lst[i] < lst[i-1]:\n",
    "            return False\n",
    "    \n",
    "    return True\n",
    "\n",
    "# Test the function\n",
    "list1 = [1, 2, 2]\n",
    "print(is_sorted(list1))  # Output: True\n",
    "\n",
    "list2 = ['b', 'a']\n",
    "print(is_sorted(list2))  # Output: False\n"
   ]
  },
  {
   "attachments": {},
   "cell_type": "markdown",
   "metadata": {},
   "source": [
    "**Übung 9**\n",
    "Zwei Wörter werden dann als Anagramm bezeichnet, wenn Sie die Buchstaben des einen Wort so umstellen können, dass das andere Wort erhalten. Schreiben Sie eine Funktion mit dem Namen is_anagramm, die zwei Strings erwartet und True liefert, wenn es sich um Anagramme handelt. \n",
    "\n"
   ]
  },
  {
   "cell_type": "code",
   "execution_count": null,
   "metadata": {},
   "outputs": [],
   "source": [
    "# code hier"
   ]
  },
  {
   "cell_type": "code",
   "execution_count": null,
   "metadata": {},
   "outputs": [],
   "source": []
  }
 ],
 "metadata": {
  "kernelspec": {
   "display_name": "base",
   "language": "python",
   "name": "python3"
  },
  "language_info": {
   "codemirror_mode": {
    "name": "ipython",
    "version": 3
   },
   "file_extension": ".py",
   "mimetype": "text/x-python",
   "name": "python",
   "nbconvert_exporter": "python",
   "pygments_lexer": "ipython3",
   "version": "3.11.3"
  },
  "orig_nbformat": 4
 },
 "nbformat": 4,
 "nbformat_minor": 2
}
