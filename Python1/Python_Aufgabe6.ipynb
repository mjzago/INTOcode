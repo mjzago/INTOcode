{
 "cells": [
  {
   "attachments": {},
   "cell_type": "markdown",
   "metadata": {},
   "source": [
    "### Aufgabe6 ###\n"
   ]
  },
  {
   "attachments": {},
   "cell_type": "markdown",
   "metadata": {},
   "source": [
    "**Übung 1:**\n",
    "Einfach bauen Sie ein Dictionary mit den folgenden Keys (k) und Values (v) auf:"
   ]
  },
  {
   "cell_type": "code",
   "execution_count": null,
   "metadata": {},
   "outputs": [],
   "source": [
    "\n",
    "k=['eins', 'zwei', 'drei']\n",
    "v=[1,2,3]\n",
    "\n",
    "#code"
   ]
  },
  {
   "attachments": {},
   "cell_type": "markdown",
   "metadata": {},
   "source": [
    "**Übung 2:**\n",
    "Schreiben Sie ein Programm, das ein Dictionary erzeugt, in dem für jedes Wort in der Liste *words* die Länge des Worts als Wert speichert. \n"
   ]
  },
  {
   "cell_type": "code",
   "execution_count": null,
   "metadata": {},
   "outputs": [],
   "source": [
    "words=['Python','Lampe','ab','1990','war']\n",
    "\n",
    "# Code"
   ]
  },
  {
   "attachments": {},
   "cell_type": "markdown",
   "metadata": {},
   "source": [
    "**Übung 3:**\n",
    "\n",
    "Schreiben Sie ein Histogramm Funktion. Da heißt, eine Funktion, die die Menge von jedem Buchstabe in einem Wort zählt. Die Informationen sollen durch ein Dictionary zurückgibt.\n",
    "\n",
    "Z.B.: 'aaaaabbb' ->\n",
    "{'a':5,'b':3}"
   ]
  },
  {
   "cell_type": "code",
   "execution_count": null,
   "metadata": {},
   "outputs": [],
   "source": [
    "#code"
   ]
  },
  {
   "attachments": {},
   "cell_type": "markdown",
   "metadata": {},
   "source": [
    "**Übung 4:** \n",
    "Drücken Sie die Werte für das Buchstabe 'a', 'e' und 'z'. Nutzen Sie dafür auch mit dem Methode get()"
   ]
  },
  {
   "cell_type": "code",
   "execution_count": null,
   "metadata": {},
   "outputs": [],
   "source": [
    "#code"
   ]
  },
  {
   "attachments": {},
   "cell_type": "markdown",
   "metadata": {},
   "source": [
    "Welche bedeutet das zweite Parameter des Methode get(). Z.B.: h.get('f',1)."
   ]
  },
  {
   "attachments": {},
   "cell_type": "markdown",
   "metadata": {},
   "source": [
    "Antwort:"
   ]
  },
  {
   "attachments": {},
   "cell_type": "markdown",
   "metadata": {},
   "source": [
    "**Übung 5:**\n",
    "Schreiben Sie ein Programm, um zu checken, ob ein Wert in einem Dictionary ist, und falls ja, den entsprechende Key erfahrt. "
   ]
  },
  {
   "cell_type": "code",
   "execution_count": 1,
   "metadata": {},
   "outputs": [],
   "source": [
    "#code "
   ]
  },
  {
   "cell_type": "code",
   "execution_count": null,
   "metadata": {},
   "outputs": [],
   "source": []
  }
 ],
 "metadata": {
  "kernelspec": {
   "display_name": "base",
   "language": "python",
   "name": "python3"
  },
  "language_info": {
   "codemirror_mode": {
    "name": "ipython",
    "version": 3
   },
   "file_extension": ".py",
   "mimetype": "text/x-python",
   "name": "python",
   "nbconvert_exporter": "python",
   "pygments_lexer": "ipython3",
   "version": "3.8.3"
  },
  "orig_nbformat": 4
 },
 "nbformat": 4,
 "nbformat_minor": 2
}
