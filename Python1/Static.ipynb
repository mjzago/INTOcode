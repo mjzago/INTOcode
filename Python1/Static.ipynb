{
 "cells": [
  {
   "cell_type": "code",
   "execution_count": 1,
   "metadata": {},
   "outputs": [
    {
     "name": "stdout",
     "output_type": "stream",
     "text": [
      "8.14159\n",
      "31.4159\n",
      "16\n",
      "27\n"
     ]
    }
   ],
   "source": [
    "# Class and Static Methods\n",
    "# Class methods are bound to the class and can access class-level attributes, while static methods are independent of the class and do not require access to class-level attributes\n",
    "\n",
    "\n",
    "# Class Method:\n",
    "class Calculator:\n",
    "    PI = 3.14159  # Class-level attribute\n",
    "\n",
    "    @classmethod\n",
    "    def add_pi(self, number):\n",
    "        return number + self.PI\n",
    "\n",
    "    @classmethod\n",
    "    def multiply_pi(self, number):\n",
    "        return number * self.PI\n",
    "\n",
    "\n",
    "# Using the class method\n",
    "result_add = Calculator.add_pi(5)\n",
    "result_multiply = Calculator.multiply_pi(10)\n",
    "\n",
    "print(result_add)  # Output: 8.14159 (5 + 3.14159)\n",
    "print(result_multiply)  # Output: 31.4159 (10 * 3.14159)\n",
    "\n",
    "\n",
    "# Static Method:\n",
    "class Calculator:\n",
    "    @staticmethod\n",
    "    def square(number):\n",
    "        return number ** 2\n",
    "\n",
    "    @staticmethod\n",
    "    def cube(number):\n",
    "        return number ** 3\n",
    "\n",
    "\n",
    "# Using the static method\n",
    "result_square = Calculator.square(4)\n",
    "result_cube = Calculator.cube(3)\n",
    "\n",
    "print(result_square)  # Output: 16 (4 squared)\n",
    "print(result_cube)    # Output: 27 (3 cubed)"
   ]
  },
  {
   "cell_type": "code",
   "execution_count": 2,
   "metadata": {},
   "outputs": [
    {
     "name": "stdout",
     "output_type": "stream",
     "text": [
      "30 degrees Celsius is equal to 86.0 degrees Fahrenheit.\n",
      "86 degrees Fahrenheit is equal to 30.0 degrees Celsius.\n"
     ]
    }
   ],
   "source": [
    "class TemperatureConverter:\n",
    "    @staticmethod\n",
    "    def celsius_to_fahrenheit(celsius):\n",
    "        return (celsius * 9/5) + 32\n",
    "\n",
    "    @staticmethod\n",
    "    def fahrenheit_to_celsius(fahrenheit):\n",
    "        return (fahrenheit - 32) * 5/9\n",
    "\n",
    "\n",
    "# Examples of temperature conversions\n",
    "\n",
    "# Convert Celsius to Fahrenheit\n",
    "celsius_temp = 30\n",
    "fahrenheit_result = TemperatureConverter.celsius_to_fahrenheit(celsius_temp)\n",
    "print(f\"{celsius_temp} degrees Celsius is equal to {fahrenheit_result} degrees Fahrenheit.\")\n",
    "\n",
    "# Convert Fahrenheit to Celsius\n",
    "fahrenheit_temp = 86\n",
    "celsius_result = TemperatureConverter.fahrenheit_to_celsius(fahrenheit_temp)\n",
    "print(f\"{fahrenheit_temp} degrees Fahrenheit is equal to {celsius_result} degrees Celsius.\")\n"
   ]
  }
 ],
 "metadata": {
  "kernelspec": {
   "display_name": "Python 3",
   "language": "python",
   "name": "python3"
  },
  "language_info": {
   "codemirror_mode": {
    "name": "ipython",
    "version": 3
   },
   "file_extension": ".py",
   "mimetype": "text/x-python",
   "name": "python",
   "nbconvert_exporter": "python",
   "pygments_lexer": "ipython3",
   "version": "3.11.3"
  },
  "orig_nbformat": 4
 },
 "nbformat": 4,
 "nbformat_minor": 2
}
