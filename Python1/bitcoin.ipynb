{
 "cells": [
  {
   "cell_type": "code",
   "execution_count": 1,
   "metadata": {},
   "outputs": [
    {
     "ename": "NameError",
     "evalue": "name '_name_' is not defined",
     "output_type": "error",
     "traceback": [
      "\u001b[1;31m---------------------------------------------------------------------------\u001b[0m",
      "\u001b[1;31mNameError\u001b[0m                                 Traceback (most recent call last)",
      "Cell \u001b[1;32mIn[1], line 26\u001b[0m\n\u001b[0;32m     22\u001b[0m     \u001b[39mdef\u001b[39;00m \u001b[39mcheck_balance\u001b[39m(\u001b[39mself\u001b[39m):\n\u001b[0;32m     23\u001b[0m         \u001b[39mprint\u001b[39m(\u001b[39mf\u001b[39m\u001b[39m\"\u001b[39m\u001b[39mCurrent balance: $\u001b[39m\u001b[39m{\u001b[39;00m\u001b[39mself\u001b[39m\u001b[39m.\u001b[39mbalance\u001b[39m}\u001b[39;00m\u001b[39m\"\u001b[39m)\n\u001b[1;32m---> 26\u001b[0m \u001b[39mif\u001b[39;00m _name_ \u001b[39m==\u001b[39m \u001b[39m\"\u001b[39m\u001b[39m_main_\u001b[39m\u001b[39m\"\u001b[39m:\n\u001b[0;32m     27\u001b[0m     account \u001b[39m=\u001b[39m BankAccount()\n\u001b[0;32m     29\u001b[0m     \u001b[39mwhile\u001b[39;00m \u001b[39mTrue\u001b[39;00m:\n",
      "\u001b[1;31mNameError\u001b[0m: name '_name_' is not defined"
     ]
    }
   ],
   "source": [
    "class BankAccount:\n",
    "    def _init_(self):\n",
    "        self.balance = 0\n",
    "\n",
    "    def deposit(self, amount):\n",
    "        if amount > 0:\n",
    "            self.balance += amount\n",
    "            print(f\"Deposited ${amount}. Current balance: ${self.balance}\")\n",
    "        else:\n",
    "            print(\"Invalid deposit amount. Please enter an amount greater than zero.\")\n",
    "\n",
    "    def withdraw(self, amount):\n",
    "        if amount > 0:\n",
    "            if self.balance >= amount:\n",
    "                self.balance -= amount\n",
    "                print(f\"Withdrew ${amount}. Current balance: ${self.balance}\")\n",
    "            else:\n",
    "                print(\"Insufficient funds. Withdrawal cannot be processed.\")\n",
    "        else:\n",
    "            print(\"Invalid withdrawal amount. Please enter an amount greater than zero.\")\n",
    "\n",
    "    def check_balance(self):\n",
    "        print(f\"Current balance: ${self.balance}\")\n",
    "\n",
    "\n",
    "if _name_ == \"_main_\":\n",
    "    account = BankAccount()\n",
    "\n",
    "    while True:\n",
    "        print(\"\\n--- Bank Account Simulator ---\")\n",
    "        print(\"1. Deposit Money\")\n",
    "        print(\"2. Withdraw Money\")\n",
    "        print(\"3. Check Balance\")\n",
    "        print(\"4. Quit\")\n",
    "\n",
    "        choice = input(\"Enter your choice (1/2/3/4): \")\n",
    "\n",
    "        if choice == '1':\n",
    "            deposit_amount = float(input(\"Enter the amount to deposit: \"))\n",
    "            account.deposit(deposit_amount)\n",
    "        elif choice == '2':\n",
    "            withdraw_amount = float(input(\"Enter the amount to withdraw: \"))\n",
    "            account.withdraw(withdraw_amount)\n",
    "        elif choice == '3':\n",
    "            account.check_balance()\n",
    "        elif choice == '4':\n",
    "            print(\"Exiting the bank account simulator. Thank you!\")\n",
    "            break\n",
    "        else:\n",
    "            print(\"Invalid choice. Please select a valid option (1/2/3/4).\")"
   ]
  }
 ],
 "metadata": {
  "kernelspec": {
   "display_name": "Python 3",
   "language": "python",
   "name": "python3"
  },
  "language_info": {
   "codemirror_mode": {
    "name": "ipython",
    "version": 3
   },
   "file_extension": ".py",
   "mimetype": "text/x-python",
   "name": "python",
   "nbconvert_exporter": "python",
   "pygments_lexer": "ipython3",
   "version": "3.11.3"
  },
  "orig_nbformat": 4
 },
 "nbformat": 4,
 "nbformat_minor": 2
}
