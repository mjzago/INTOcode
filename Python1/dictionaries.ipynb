{
 "cells": [
  {
   "cell_type": "code",
   "execution_count": 3,
   "metadata": {},
   "outputs": [],
   "source": [
    "#de2es={} # leer Dictionary\n",
    "de2es=dict()\n",
    "#Element hinzufügen\n",
    "de2es['eins']= 'uno'\n",
    "de2es['zwei']= 'dos'\n",
    "de2es['drei']= 'tres'"
   ]
  },
  {
   "cell_type": "code",
   "execution_count": 4,
   "metadata": {},
   "outputs": [
    {
     "name": "stdout",
     "output_type": "stream",
     "text": [
      "{'eins': 'uno', 'zwei': 'dos', 'drei': 'tres'}\n"
     ]
    }
   ],
   "source": [
    "print(de2es)"
   ]
  },
  {
   "cell_type": "code",
   "execution_count": 5,
   "metadata": {},
   "outputs": [
    {
     "data": {
      "text/plain": [
       "3"
      ]
     },
     "execution_count": 5,
     "metadata": {},
     "output_type": "execute_result"
    }
   ],
   "source": [
    "len(de2es)"
   ]
  },
  {
   "cell_type": "code",
   "execution_count": 27,
   "metadata": {},
   "outputs": [],
   "source": [
    "#Histogramm\n",
    "\n",
    "def histogramm(word):\n",
    "    d=dict()\n",
    "    print(d)\n",
    "    for letter in word:\n",
    "        if letter not in d:\n",
    "            d[letter]=1\n",
    "            print('path 1: ', d)\n",
    "        else:\n",
    "            d[letter]+=1\n",
    "            print('path 2: ', d)\n",
    "    print('ende: ',d)"
   ]
  },
  {
   "cell_type": "code",
   "execution_count": 29,
   "metadata": {},
   "outputs": [
    {
     "name": "stdout",
     "output_type": "stream",
     "text": [
      "{}\n",
      "path 1:  {'b': 1}\n",
      "path 1:  {'b': 1, 'r': 1}\n",
      "path 1:  {'b': 1, 'r': 1, 'o': 1}\n",
      "path 1:  {'b': 1, 'r': 1, 'o': 1, 't': 1}\n",
      "path 2:  {'b': 1, 'r': 1, 'o': 2, 't': 1}\n",
      "path 1:  {'b': 1, 'r': 1, 'o': 2, 't': 1, 's': 1}\n",
      "path 1:  {'b': 1, 'r': 1, 'o': 2, 't': 1, 's': 1, 'a': 1}\n",
      "path 1:  {'b': 1, 'r': 1, 'o': 2, 't': 1, 's': 1, 'a': 1, 'u': 1}\n",
      "path 2:  {'b': 1, 'r': 2, 'o': 2, 't': 1, 's': 1, 'a': 1, 'u': 1}\n",
      "path 2:  {'b': 1, 'r': 2, 'o': 2, 't': 1, 's': 1, 'a': 1, 'u': 2}\n",
      "path 2:  {'b': 1, 'r': 2, 'o': 2, 't': 1, 's': 2, 'a': 1, 'u': 2}\n",
      "ende:  {'b': 1, 'r': 2, 'o': 2, 't': 1, 's': 2, 'a': 1, 'u': 2}\n",
      "None\n"
     ]
    }
   ],
   "source": [
    "h=histogramm('brotosaurus')\n",
    "print(h)"
   ]
  },
  {
   "cell_type": "code",
   "execution_count": 21,
   "metadata": {},
   "outputs": [
    {
     "data": {
      "text/plain": [
       "0"
      ]
     },
     "execution_count": 21,
     "metadata": {},
     "output_type": "execute_result"
    }
   ],
   "source": [
    "# get() \n",
    "\n",
    "h.get('z',0)\n"
   ]
  },
  {
   "cell_type": "code",
   "execution_count": 40,
   "metadata": {},
   "outputs": [],
   "source": [
    "def nur_gross(word):\n",
    "    return [letter for letter in word if letter==letter.upper()]\n",
    "\n",
    "#def nur_gross(t):\n",
    "#    ll=[]\n",
    "#    for s in t:\n",
    "    #     if s==s.upper():\n",
    "    #         ll.append(s)\n",
    "    #     else:\n",
    "    #         continue\n",
    "    # return ll\n"
   ]
  },
  {
   "cell_type": "code",
   "execution_count": 39,
   "metadata": {},
   "outputs": [
    {
     "data": {
      "text/plain": [
       "['w', 'O', 'r', 'd']"
      ]
     },
     "execution_count": 39,
     "metadata": {},
     "output_type": "execute_result"
    }
   ],
   "source": [
    "nur_gross('wOrd')"
   ]
  },
  {
   "cell_type": "code",
   "execution_count": null,
   "metadata": {},
   "outputs": [
    {
     "name": "stdout",
     "output_type": "stream",
     "text": [
      "['i', 'o', 'e', 'i', 'e', 'u', 'a']\n"
     ]
    }
   ],
   "source": [
    "text='ich wohne in Deutschland'\n",
    "vokalen=['a','e','i','o','u']\n",
    "L=[]\n",
    "for e in text:\n",
    "    if e in vokalen:\n",
    "        L.append(e)\n",
    "b\n",
    "print(L)\n",
    "\n"
   ]
  },
  {
   "cell_type": "code",
   "execution_count": 41,
   "metadata": {},
   "outputs": [
    {
     "name": "stdout",
     "output_type": "stream",
     "text": [
      "['i', 'o', 'e', 'i', 'e', 'u', 'a']\n"
     ]
    }
   ],
   "source": [
    "text='ich wohne in Deutschland'\n",
    "vokalen=['a','e','i','o','u']\n",
    "L=[letter for letter in text if letter in vokalen]\n",
    "print(L)"
   ]
  },
  {
   "cell_type": "code",
   "execution_count": null,
   "metadata": {},
   "outputs": [],
   "source": []
  }
 ],
 "metadata": {
  "kernelspec": {
   "display_name": "base",
   "language": "python",
   "name": "python3"
  },
  "language_info": {
   "codemirror_mode": {
    "name": "ipython",
    "version": 3
   },
   "file_extension": ".py",
   "mimetype": "text/x-python",
   "name": "python",
   "nbconvert_exporter": "python",
   "pygments_lexer": "ipython3",
   "version": "3.8.3"
  },
  "orig_nbformat": 4
 },
 "nbformat": 4,
 "nbformat_minor": 2
}
