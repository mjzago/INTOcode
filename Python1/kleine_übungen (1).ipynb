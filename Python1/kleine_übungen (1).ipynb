{
 "cells": [
  {
   "cell_type": "code",
   "execution_count": 4,
   "metadata": {},
   "outputs": [
    {
     "name": "stdout",
     "output_type": "stream",
     "text": [
      "3\n",
      "2.0\n",
      "3\n"
     ]
    }
   ],
   "source": [
    "# 1. Ändern Sie die Typen der Variablen \n",
    "\n",
    "a='3' # zu Int\n",
    "int_a = int(a)\n",
    "print (int_a)\n",
    "\n",
    "b=2 # zu float\n",
    "float_b = float(b)\n",
    "print (float_b)\n",
    "\n",
    "c=3 # zu String\n",
    "string_c = str(c)\n",
    "print (string_c)\n"
   ]
  },
  {
   "cell_type": "code",
   "execution_count": 23,
   "metadata": {},
   "outputs": [
    {
     "name": "stdout",
     "output_type": "stream",
     "text": [
      "21.0\n",
      "<class 'float'>\n",
      "Ok\n"
     ]
    }
   ],
   "source": [
    "# 2. Schreiben Sie eine Ausdrück, um Die Flache einer Viereck mit den folgenden Seiten zu berechnen:\n",
    "\n",
    "l1 = 3.5\n",
    "l2 = 6\n",
    "\n",
    "area = l1 * l2\n",
    "print(area)\n",
    "\n",
    "print(type(area))\n",
    "\n",
    "if type(area) == float:  # Colon was missing here\n",
    "    print(\"Ok\")\n"
   ]
  },
  {
   "cell_type": "code",
   "execution_count": 11,
   "metadata": {},
   "outputs": [
    {
     "name": "stdout",
     "output_type": "stream",
     "text": [
      "0\n",
      "1\n",
      "2\n",
      "3\n",
      "4\n",
      "5\n",
      "6\n",
      "7\n",
      "8\n",
      "9\n",
      "10\n"
     ]
    }
   ],
   "source": [
    "# 3. Schreiben Sie ein Programm, das zahlen, von 0 bis 10:\n",
    "\n",
    "for number in range(11):\n",
    "    print(number)\n",
    "\n",
    "\n",
    "\n",
    " "
   ]
  },
  {
   "cell_type": "code",
   "execution_count": 15,
   "metadata": {},
   "outputs": [
    {
     "name": "stdout",
     "output_type": "stream",
     "text": [
      "M\n",
      "a\n",
      "t\n",
      "h\n",
      "e\n",
      "u\n",
      "s\n"
     ]
    }
   ],
   "source": [
    "# 4 Schreiben Sie ein Programm, das ein Wort vertikal drückt: \n",
    "\n",
    "word = \"Matheus\"\n",
    "\n",
    "for letter in word:\n",
    "    print(letter)\n"
   ]
  },
  {
   "cell_type": "code",
   "execution_count": 18,
   "metadata": {},
   "outputs": [
    {
     "name": "stdout",
     "output_type": "stream",
     "text": [
      "True\n"
     ]
    }
   ],
   "source": [
    "# 5. Schreiben Sie eine Funktion, die eine Wort nimmt und sagt, ob das Wort länger als l ist:\n",
    "\n",
    "def wort_test(word, l):\n",
    "    if len(word) > l:\n",
    "        return True\n",
    "    else:\n",
    "        return False\n",
    "\n",
    "# Test the function\n",
    "word_to_check = \"example\"\n",
    "length_to_compare = 5\n",
    "\n",
    "result = wort_test(word_to_check, length_to_compare)\n",
    "print(result)  # Output: True\n"
   ]
  },
  {
   "cell_type": "code",
   "execution_count": null,
   "metadata": {},
   "outputs": [],
   "source": [
    "def wort_test(word, l):"
   ]
  },
  {
   "cell_type": "code",
   "execution_count": 24,
   "metadata": {},
   "outputs": [
    {
     "name": "stdout",
     "output_type": "stream",
     "text": [
      "A\n",
      "B\n",
      "C\n",
      "D\n",
      "E\n",
      "F\n"
     ]
    }
   ],
   "source": [
    "# 6. Schreiben Sie ein Programm, das der erste Buchstabe jedes Elements der Liste drückt:\n",
    "\n",
    "words=['Art', 'Ball', 'Code', 'Dot', 'Elf','Float']\n",
    "\n",
    "for word in words:\n",
    "    first_letter = word[0]\n",
    "    print(first_letter)\n"
   ]
  },
  {
   "cell_type": "code",
   "execution_count": 29,
   "metadata": {},
   "outputs": [
    {
     "name": "stdout",
     "output_type": "stream",
     "text": [
      "['Super']\n"
     ]
    }
   ],
   "source": [
    "# 7. Schreiben Sie eine Funktion, die Wörter aus der List herausfilter, \n",
    "# die der erste Buchstabe 'A' oder 'a' hat. Die Funktion soll die Liste ohne \n",
    "# diese Elementen (return)zurückgeben.  \n",
    "words = ['Art', 'Archetipe', 'allein', 'allerseits', 'Super']\n",
    "nws = []\n",
    "\n",
    "for w in words:\n",
    "    if w[0] == 'A' or w[0] == 'a':\n",
    "        continue\n",
    "    else:\n",
    "        nws.append(w)\n",
    "\n",
    "print(nws)\n",
    "\n"
   ]
  },
  {
   "cell_type": "code",
   "execution_count": 30,
   "metadata": {},
   "outputs": [
    {
     "name": "stdout",
     "output_type": "stream",
     "text": [
      "Name: Ana\n",
      "Height: 1.67m\n",
      "Weight: 63kg\n",
      "BMI: 22.59\n",
      "\n",
      "Name: Samir\n",
      "Height: 1.87m\n",
      "Weight: 101kg\n",
      "BMI: 28.88\n",
      "\n",
      "Name: Aparna\n",
      "Height: 1.78m\n",
      "Weight: 79kg\n",
      "BMI: 24.93\n",
      "\n",
      "Name: Neda\n",
      "Height: 1.8m\n",
      "Weight: 75kg\n",
      "BMI: 23.15\n",
      "\n"
     ]
    }
   ],
   "source": [
    "# 8. Schreiben Sie ein Programm, dass ein(e) Ernährungsberater(in) dabei hilft: Die Daten von Patieten müssen in ein Dictionary von Dictionary organisiert werden. Die Daten sind Namen, Gewicht, Höhe und BMI.\n",
    "#Patienten Daten:\n",
    "#-'Ana' ist 1.67m hoch und 63 kg schwer.\n",
    "#-'Samir' ist 1.87m hoch und 101 kg schwer.\n",
    "#-'Aparna' ist 1.78m hoch und 79 kg schwer.\n",
    "#-'Neda ist 1.8m hoch und 75 kg schwer.\n",
    "\n",
    "#tipp: Sie müssen ein Dictionary von Dictionary nutzen.\n",
    "# Sie können die Informationen in Tuple oder Listen notieren, bevor das Dictionary zu generieren.\n",
    "\n",
    "# Patient data as tuples\n",
    "patients_data = [\n",
    "    ('Ana', 1.67, 63),\n",
    "    ('Samir', 1.87, 101),\n",
    "    ('Aparna', 1.78, 79),\n",
    "    ('Neda', 1.8, 75)\n",
    "]\n",
    "\n",
    "# Create a dictionary to store patient information\n",
    "patients_dict = {}\n",
    "\n",
    "# Organize data into the dictionary\n",
    "for name, height, weight in patients_data:\n",
    "    bmi = weight / (height ** 2)\n",
    "    patients_dict[name] = {'Height': height, 'Weight': weight, 'BMI': bmi}\n",
    "\n",
    "# Print the patient data\n",
    "for name, data in patients_dict.items():\n",
    "    print(f\"Name: {name}\")\n",
    "    print(f\"Height: {data['Height']}m\")\n",
    "    print(f\"Weight: {data['Weight']}kg\")\n",
    "    print(f\"BMI: {data['BMI']:.2f}\")\n",
    "    print()\n"
   ]
  },
  {
   "cell_type": "code",
   "execution_count": 35,
   "metadata": {},
   "outputs": [],
   "source": [
    "x=3\n",
    "y=4\n",
    "\n",
    "if x==y:\n",
    "    print(x)"
   ]
  },
  {
   "cell_type": "code",
   "execution_count": 37,
   "metadata": {},
   "outputs": [
    {
     "name": "stdout",
     "output_type": "stream",
     "text": [
      "0123\n"
     ]
    }
   ],
   "source": [
    "x = ''\n",
    "for i in range(4):\n",
    "    x += str(i)\n",
    "print(x)\n"
   ]
  },
  {
   "cell_type": "code",
   "execution_count": 40,
   "metadata": {},
   "outputs": [],
   "source": [
    "def countdown(n):\n",
    "    while n > 0:\n",
    "        print(n)\n",
    "        n = n - 1\n",
    "    print('Bumm!')\n"
   ]
  },
  {
   "cell_type": "code",
   "execution_count": 41,
   "metadata": {},
   "outputs": [
    {
     "name": "stdout",
     "output_type": "stream",
     "text": [
      "True\n"
     ]
    }
   ],
   "source": [
    "print(type('a') == str and 3.5 > 1)"
   ]
  },
  {
   "cell_type": "code",
   "execution_count": 43,
   "metadata": {},
   "outputs": [
    {
     "name": "stdout",
     "output_type": "stream",
     "text": [
      "5\n",
      "8\n"
     ]
    }
   ],
   "source": [
    "# Exemplo de incremento com +=\n",
    "contador = 0\n",
    "\n",
    "# Adicionando 1 ao valor atual do contador\n",
    "contador += 5\n",
    "print(contador)  # Saída: 1\n",
    "\n",
    "# Adicionando 3 ao valor atual do contador\n",
    "contador += 3\n",
    "print(contador)  # Saída: 4\n"
   ]
  },
  {
   "cell_type": "code",
   "execution_count": 66,
   "metadata": {},
   "outputs": [
    {
     "name": "stdout",
     "output_type": "stream",
     "text": [
      "11\n"
     ]
    }
   ],
   "source": [
    "i = 1\n",
    "while i < 5:\n",
    "    i += 10\n",
    "print(i)\n"
   ]
  },
  {
   "cell_type": "code",
   "execution_count": 83,
   "metadata": {},
   "outputs": [
    {
     "name": "stdout",
     "output_type": "stream",
     "text": [
      "5\n",
      "4\n",
      "3\n",
      "2\n",
      "1\n",
      "Bang!\n"
     ]
    }
   ],
   "source": [
    "def countdown(n):\n",
    "    while n > 0:\n",
    "        print(n)\n",
    "        n = n - 1\n",
    "    print('Bang!')\n",
    "\n",
    "# Call the function with an example value\n",
    "countdown(5)\n"
   ]
  },
  {
   "cell_type": "code",
   "execution_count": 88,
   "metadata": {},
   "outputs": [
    {
     "name": "stdout",
     "output_type": "stream",
     "text": [
      "0\n",
      "1\n",
      "2\n",
      "3\n",
      "4\n",
      "5\n",
      "6\n",
      "7\n",
      "8\n",
      "9\n",
      "10\n",
      "11\n",
      "12\n",
      "13\n",
      "14\n",
      "15\n",
      "16\n",
      "17\n",
      "18\n",
      "19\n",
      "20\n",
      "21\n",
      "22\n",
      "23\n",
      "24\n",
      "25\n",
      "26\n",
      "27\n",
      "28\n",
      "29\n",
      "30\n",
      "31\n",
      "32\n",
      "33\n",
      "34\n",
      "35\n",
      "36\n",
      "37\n",
      "38\n",
      "39\n",
      "40\n",
      "41\n",
      "42\n",
      "43\n",
      "44\n",
      "45\n",
      "46\n",
      "47\n",
      "48\n",
      "49\n",
      "Fechou\n"
     ]
    }
   ],
   "source": [
    "# Contar a até 50\n",
    "\n",
    "def contagem(n):\n",
    "    while n < 50:\n",
    "        print(n)\n",
    "        n = n + 1\n",
    "    print (\"Fechou\")\n",
    "\n",
    "contagem(0)"
   ]
  },
  {
   "cell_type": "code",
   "execution_count": 94,
   "metadata": {},
   "outputs": [
    {
     "name": "stdout",
     "output_type": "stream",
     "text": [
      "xyza\n"
     ]
    }
   ],
   "source": [
    "my_list = ['x', 'y', 'z']\n",
    "my_list.append('a')\n",
    "empty_string = ''\n",
    "for i in my_list:\n",
    "    empty_string += i\n",
    "print(empty_string)"
   ]
  },
  {
   "cell_type": "code",
   "execution_count": 99,
   "metadata": {},
   "outputs": [
    {
     "name": "stdout",
     "output_type": "stream",
     "text": [
      "2\n"
     ]
    }
   ],
   "source": [
    "word = input('Word')\n",
    "word = word.lower()\n",
    "i = 0\n",
    "for s in word:\n",
    "    if s in ['a', 'e', 'i', 'o', 'u']:\n",
    "        i += 1\n",
    "\n",
    "print(i)\n"
   ]
  }
 ],
 "metadata": {
  "kernelspec": {
   "display_name": "base",
   "language": "python",
   "name": "python3"
  },
  "language_info": {
   "codemirror_mode": {
    "name": "ipython",
    "version": 3
   },
   "file_extension": ".py",
   "mimetype": "text/x-python",
   "name": "python",
   "nbconvert_exporter": "python",
   "pygments_lexer": "ipython3",
   "version": "3.11.3"
  },
  "orig_nbformat": 4
 },
 "nbformat": 4,
 "nbformat_minor": 2
}
