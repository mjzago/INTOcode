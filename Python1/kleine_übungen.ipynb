{
 "cells": [
  {
   "cell_type": "code",
   "execution_count": null,
   "metadata": {},
   "outputs": [],
   "source": [
    "# 1. Ändern Sie die Typen der Variablen \n",
    "\n",
    "a='3' # zu Int\n",
    "\n",
    "b=2 # zu float\n",
    "\n",
    "c=3 # zu String\n"
   ]
  },
  {
   "cell_type": "code",
   "execution_count": null,
   "metadata": {},
   "outputs": [],
   "source": [
    "# 2. Schreiben Sie eine Ausdrück, um Die Flache einer Viereck mit den folgenden Seiten zu berechnen:\n",
    "\n",
    "l1= 3.5\n",
    "l2= 6"
   ]
  },
  {
   "cell_type": "code",
   "execution_count": null,
   "metadata": {},
   "outputs": [],
   "source": [
    "# 3. Schreiben Sie ein Programm, das zahlen, von 0 bis 10:\n",
    " "
   ]
  },
  {
   "cell_type": "code",
   "execution_count": null,
   "metadata": {},
   "outputs": [],
   "source": [
    "# 4 Schreiben Sie ein Programm, das ein Wort vertikal drückt: "
   ]
  },
  {
   "cell_type": "code",
   "execution_count": null,
   "metadata": {},
   "outputs": [],
   "source": [
    "# 5. Schreiben Sie eine Funktion, die eine Wort nimmt und sagt, ob das Wort länger als l ist:\n",
    "\n",
    "def wort_test(word,l):\n",
    "    #code"
   ]
  },
  {
   "cell_type": "code",
   "execution_count": null,
   "metadata": {},
   "outputs": [],
   "source": [
    "# 6. Schreiben Sie ein Programm, das der erste Buchstabe jedes Elements der Liste drückt:\n",
    "\n",
    "words=['Art', 'Ball', 'Code', 'Dot', 'Elf','Float']"
   ]
  },
  {
   "cell_type": "code",
   "execution_count": null,
   "metadata": {},
   "outputs": [],
   "source": [
    "# 7. Schreiben Sie eine Funktion, die Wörter aus der List herausfilter, \n",
    "# die der erste Buchstabe 'A' oder 'a' hat. Die Funktion soll die Liste ohne \n",
    "# diese Elementen (return)zurückgeben.  \n",
    "words=['Art','Archetipe','allein','allerseits', 'Super']"
   ]
  },
  {
   "cell_type": "code",
   "execution_count": null,
   "metadata": {},
   "outputs": [],
   "source": [
    "# 8. Schreiben Sie ein Programm, dass ein(e) Ernährungsberater(in) dabei hilft: Die Daten von Patieten müssen in ein Dictionary von Dictionary organisiert werden. Die Daten sind Namen, Gewicht, Höhe und BMI.\n",
    "#Patienten Daten:\n",
    "#-'Ana' ist 1.67m hoch und 63 kg schwer.\n",
    "#-'Samir' ist 1.87m hoch und 101 kg schwer.\n",
    "#-'Aparna' ist 1.78m hoch und 79 kg schwer.\n",
    "#-'Neda ist 1.8m hoch und 75 kg schwer.\n",
    "\n",
    "#tipp: Sie müssen ein Dictionary von Dictionary nutzen.\n",
    "# Sie können die Informationen in Tuple oder Listen notieren, bevor das Dictionary zu generieren.\n"
   ]
  }
 ],
 "metadata": {
  "kernelspec": {
   "display_name": "base",
   "language": "python",
   "name": "python3"
  },
  "language_info": {
   "codemirror_mode": {
    "name": "ipython",
    "version": 3
   },
   "file_extension": ".py",
   "mimetype": "text/x-python",
   "name": "python",
   "nbconvert_exporter": "python",
   "pygments_lexer": "ipython3",
   "version": "3.9.13"
  },
  "orig_nbformat": 4
 },
 "nbformat": 4,
 "nbformat_minor": 2
}
