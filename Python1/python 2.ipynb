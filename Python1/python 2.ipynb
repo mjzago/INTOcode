{
 "cells": [
  {
   "cell_type": "code",
   "execution_count": 11,
   "metadata": {},
   "outputs": [
    {
     "name": "stdout",
     "output_type": "stream",
     "text": [
      "{'r': 18, 'e': 5, 'f': 6, 'u': 21, 'g': 7, 'k': 11, 's': 19}\n"
     ]
    }
   ],
   "source": [
    "def position(word):\n",
    "    word = word.lower()\n",
    "    positions_dict = {}  # Criar um dicionário vazio para armazenar as posições\n",
    "\n",
    "    for i in word:\n",
    "        if 'a' <= i <= 'z':\n",
    "            position = ord(i) - ord('a') + 1\n",
    "            positions_dict[i] = position  # Atribuir a posição ao dicionário\n",
    "\n",
    "    return positions_dict  # Retornar o dicionário com as letras e suas posições\n",
    "\n",
    "word = \"refugeeks\"\n",
    "result = position(word)\n",
    "print(result)\n"
   ]
  }
 ],
 "metadata": {
  "language_info": {
   "name": "python"
  },
  "orig_nbformat": 4
 },
 "nbformat": 4,
 "nbformat_minor": 2
}
