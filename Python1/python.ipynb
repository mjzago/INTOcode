{
 "cells": [
  {
   "cell_type": "code",
   "execution_count": 4,
   "metadata": {},
   "outputs": [
    {
     "name": "stdout",
     "output_type": "stream",
     "text": [
      "Seu IMC é:  21.5\n"
     ]
    }
   ],
   "source": [
    "# TAREFA DIA 1\n",
    "masa_tila = float(input(\"Digite o peso (em quilogramas): \"))\n",
    "zrist = int(input(\"Digite a altura (em centímetros): \"))\n",
    "\n",
    "zrist_metr = zrist / 100 # converte a altura para metros\n",
    "imc = masa_tila / (zrist_metr ** 2) # calcula o IMC\n",
    "\n",
    "imc_arredondado = round(imc, 1) # arredonda o IMC para uma casa decimal\n",
    "\n",
    "print(\"Seu IMC é: \", imc_arredondado)"
   ]
  },
  {
   "cell_type": "code",
   "execution_count": 5,
   "metadata": {},
   "outputs": [
    {
     "name": "stdout",
     "output_type": "stream",
     "text": [
      "101507.51\n"
     ]
    }
   ],
   "source": [
    "#2 Claculadora da Juros \n",
    "\n",
    "q=int(input(\"Capital\"))\n",
    "t=int(input('Zeit (Jahren)'))\n",
    "i=float(input(\"Zinsen (Ptozentalz)\"))/100\n",
    "m = q * (1+i) **t\n",
    "sum = round(m,2)\n",
    "print(sum)"
   ]
  },
  {
   "cell_type": "code",
   "execution_count": 9,
   "metadata": {},
   "outputs": [
    {
     "name": "stdout",
     "output_type": "stream",
     "text": [
      "Das gegebene Wort hat  5\n"
     ]
    }
   ],
   "source": [
    "# AUFGABE TAG 2 \n",
    "\n",
    "word = input('word...')\n",
    "i=0\n",
    "for b in word:\n",
    " if b == \" \":\n",
    "    continue\n",
    " i+=1\n",
    "   \n",
    "print('Das gegebene Wort hat ', i)"
   ]
  },
  {
   "cell_type": "code",
   "execution_count": null,
   "metadata": {},
   "outputs": [],
   "source": []
  }
 ],
 "metadata": {
  "kernelspec": {
   "display_name": "Python 3",
   "language": "python",
   "name": "python3"
  },
  "language_info": {
   "codemirror_mode": {
    "name": "ipython",
    "version": 3
   },
   "file_extension": ".py",
   "mimetype": "text/x-python",
   "name": "python",
   "nbconvert_exporter": "python",
   "pygments_lexer": "ipython3",
   "version": "3.11.3"
  },
  "orig_nbformat": 4
 },
 "nbformat": 4,
 "nbformat_minor": 2
}
