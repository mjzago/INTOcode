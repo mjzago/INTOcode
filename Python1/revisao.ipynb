{
 "cells": [
  {
   "cell_type": "code",
   "execution_count": 9,
   "metadata": {},
   "outputs": [],
   "source": [
    "class Pessoa:\n",
    "    def __init__(self, nome, idade):\n",
    "        self.nome = nome\n",
    "        self.idade = idade\n",
    "\n",
    "    def mostrar_info(self):\n",
    "        print(f\"Nome: {self.nome}, Idade: {self.idade}\")\n"
   ]
  },
  {
   "cell_type": "code",
   "execution_count": 13,
   "metadata": {},
   "outputs": [
    {
     "name": "stdout",
     "output_type": "stream",
     "text": [
      "Nome: Alice, Idade: 30\n",
      "Nome: Bob, Idade: 25\n"
     ]
    }
   ],
   "source": [
    "pessoa1 = Pessoa(\"Alice\", 30)\n",
    "pessoa2 = Pessoa(\"Bob\", 25)\n",
    "\n",
    "pessoa1.mostrar_info()  # Saída: Nome: Alice, Idade: 30\n",
    "pessoa2.mostrar_info()  # Saída: Nome: Bob, Idade: 25"
   ]
  },
  {
   "cell_type": "code",
   "execution_count": 21,
   "metadata": {},
   "outputs": [
    {
     "name": "stdout",
     "output_type": "stream",
     "text": [
      "The month of June has 30 days.\n"
     ]
    }
   ],
   "source": [
    "def days_in_month(month):\n",
    "    days_in_each_month = {\n",
    "        \"January\": 31,\n",
    "        \"February\": 28,\n",
    "        \"March\": 31,\n",
    "        \"April\": 30,\n",
    "        \"May\": 31,\n",
    "        \"June\": 30,\n",
    "        \"July\": 31,\n",
    "        \"August\": 31,\n",
    "        \"September\": 30,\n",
    "        \"October\": 31,\n",
    "        \"November\": 30,\n",
    "        \"December\": 31\n",
    "    }\n",
    "\n",
    "    return days_in_each_month.get(month, None)\n",
    "\n",
    "# Example usage:\n",
    "month = input(\"Enter a month: \")\n",
    "days = days_in_month(month)\n",
    "if days is not None:\n",
    "    print(f\"The month of {month} has {days} days.\")\n",
    "else:\n",
    "    print(\"Invalid month.\")\n"
   ]
  },
  {
   "cell_type": "code",
   "execution_count": 24,
   "metadata": {},
   "outputs": [
    {
     "name": "stdout",
     "output_type": "stream",
     "text": [
      "Ergebnis: {'l': 12, 'i': 9, 'j': 10, 'a': 1}\n"
     ]
    }
   ],
   "source": [
    "def string_to_alphabet_position_dict(input_string):\n",
    "    alphabet = 'abcdefghijklmnopqrstuvwxyz'\n",
    "    result_dict = {}\n",
    "\n",
    "    for char in input_string:\n",
    "        if char.isalpha() and char.islower():\n",
    "            position = alphabet.index(char) + 1\n",
    "            result_dict[char] = position\n",
    "\n",
    "    return result_dict\n",
    "\n",
    "input_word = input(\"Gib ein Wort ein (nur Kleinbuchstaben erlaubt): \")\n",
    "result = string_to_alphabet_position_dict(input_word)\n",
    "\n",
    "print(\"Ergebnis:\", result)\n"
   ]
  },
  {
   "cell_type": "code",
   "execution_count": 25,
   "metadata": {},
   "outputs": [
    {
     "name": "stdout",
     "output_type": "stream",
     "text": [
      "Area: 78.5\n",
      "Area: 24\n"
     ]
    }
   ],
   "source": [
    "class Shape:\n",
    "    def area(self):\n",
    "        pass\n",
    "\n",
    "class Circle(Shape):\n",
    "    def __init__(self, radius):\n",
    "        self.radius = radius\n",
    "    \n",
    "    def area(self):\n",
    "        return 3.14 * self.radius ** 2\n",
    "\n",
    "class Rectangle(Shape):\n",
    "    def __init__(self, width, height):\n",
    "        self.width = width\n",
    "        self.height = height\n",
    "    \n",
    "    def area(self):\n",
    "        return self.width * self.height\n",
    "\n",
    "shapes = [Circle(5), Rectangle(4, 6)]\n",
    "\n",
    "for shape in shapes:\n",
    "    print(f\"Area: {shape.area()}\")\n"
   ]
  },
  {
   "cell_type": "code",
   "execution_count": 26,
   "metadata": {},
   "outputs": [
    {
     "name": "stdout",
     "output_type": "stream",
     "text": [
      "Woof!\n",
      "Meow!\n"
     ]
    }
   ],
   "source": [
    "class Animal:\n",
    "    def speak(self):\n",
    "        pass\n",
    "\n",
    "class Dog(Animal):\n",
    "    def speak(self):\n",
    "        return \"Woof!\"\n",
    "\n",
    "class Cat(Animal):\n",
    "    def speak(self):\n",
    "        return \"Meow!\"\n",
    "\n",
    "def make_animal_speak(animal):\n",
    "    return animal.speak()\n",
    "\n",
    "dog = Dog()\n",
    "cat = Cat()\n",
    "\n",
    "print(make_animal_speak(dog))  # Output: Woof!\n",
    "print(make_animal_speak(cat))  # Output: Meow!\n"
   ]
  },
  {
   "cell_type": "code",
   "execution_count": 27,
   "metadata": {},
   "outputs": [
    {
     "name": "stdout",
     "output_type": "stream",
     "text": [
      "Woof!\n",
      "Meow!\n",
      "Squawk!\n",
      "Growl!\n"
     ]
    }
   ],
   "source": [
    "class Animal:\n",
    "    def speak(self):\n",
    "        pass\n",
    "\n",
    "class Mammal(Animal):\n",
    "    def feed_milk(self):\n",
    "        pass\n",
    "\n",
    "class Bird(Animal):\n",
    "    def lay_eggs(self):\n",
    "        pass\n",
    "\n",
    "class Dog(Mammal):\n",
    "    def speak(self):\n",
    "        return \"Woof!\"\n",
    "\n",
    "class Cat(Mammal):\n",
    "    def speak(self):\n",
    "        return \"Meow!\"\n",
    "\n",
    "class Parrot(Bird):\n",
    "    def speak(self):\n",
    "        return \"Squawk!\"\n",
    "\n",
    "class Platypus(Mammal, Bird):\n",
    "    def speak(self):\n",
    "        return \"Growl!\"\n",
    "\n",
    "# Creating instances\n",
    "dog = Dog()\n",
    "cat = Cat()\n",
    "parrot = Parrot()\n",
    "platypus = Platypus()\n",
    "\n",
    "# Calling overridden methods\n",
    "print(dog.speak())      # Output: Woof!\n",
    "print(cat.speak())      # Output: Meow!\n",
    "print(parrot.speak())   # Output: Squawk!\n",
    "print(platypus.speak()) # Output: Growl!\n",
    "\n",
    "# Accessing methods from multiple parents\n",
    "platypus.feed_milk()   # Platypus has Mammal traits\n",
    "platypus.lay_eggs()    # Platypus has Bird traits\n"
   ]
  }
 ],
 "metadata": {
  "kernelspec": {
   "display_name": "Python 3",
   "language": "python",
   "name": "python3"
  },
  "language_info": {
   "codemirror_mode": {
    "name": "ipython",
    "version": 3
   },
   "file_extension": ".py",
   "mimetype": "text/x-python",
   "name": "python",
   "nbconvert_exporter": "python",
   "pygments_lexer": "ipython3",
   "version": "3.11.3"
  },
  "orig_nbformat": 4
 },
 "nbformat": 4,
 "nbformat_minor": 2
}
